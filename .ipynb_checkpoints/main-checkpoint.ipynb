{
 "cells": [
  {
   "cell_type": "markdown",
   "metadata": {},
   "source": [
    "## Advanced Python AI and ML Tools - Assignment 1"
   ]
  },
  {
   "cell_type": "markdown",
   "metadata": {},
   "source": [
    "Group Name: Sushil Basi (C0868003), Samir Khanal (C0869664), Sunil Thapa (C0846592), Anusha Gundheti (C0865685)"
   ]
  },
  {
   "cell_type": "markdown",
   "metadata": {},
   "source": [
    "Dataset Link: "
   ]
  },
  {
   "cell_type": "markdown",
   "metadata": {},
   "source": [
    "<b>Requirements:</b> <br>\n",
    "    &nbsp; &nbsp; snscrape <br>\n",
    "    &nbsp; &nbsp; nltk <br>\n",
    "    &nbsp; &nbsp; sklearn<br>\n",
    "    &nbsp; &nbsp; seaborn<br>\n",
    "    &nbsp; &nbsp; wordcloud<br>\n",
    "    &nbsp; &nbsp; matplotlib<br>\n",
    "    &nbsp; &nbsp; re<br>\n",
    "    &nbsp; &nbsp; numpy<br>\n",
    "    &nbsp; &nbsp; pandas<br>"
   ]
  },
  {
   "cell_type": "markdown",
   "metadata": {},
   "source": [
    "## Data Wrangling"
   ]
  },
  {
   "cell_type": "code",
   "execution_count": 1,
   "metadata": {},
   "outputs": [],
   "source": [
    "# Built-in package\n",
    "import re\n",
    "from string import punctuation\n",
    "\n",
    "# Plotting package\n",
    "import matplotlib.pyplot as plt\n",
    "import seaborn as sns\n",
    "\n",
    "# NLTK package\n",
    "import nltk\n",
    "from nltk.tokenize import RegexpTokenizer, WhitespaceTokenizer, word_tokenize\n",
    "from nltk.stem import WordNetLemmatizer\n",
    "from nltk.corpus import stopwords\n",
    "import en_core_web_sm\n",
    "from wordcloud import WordCloud, STOPWORDS, ImageColorGenerator\n",
    "\n",
    "# Scikit-Learn package\n",
    "from sklearn.feature_extraction.text import CountVectorizer, TfidfVectorizer, TfidfTransformer\n",
    "from sklearn.metrics.pairwise import cosine_similarity\n",
    "from sklearn.model_selection import train_test_split\n",
    "\n",
    "# Mathematical operation package\n",
    "import pandas as pd\n",
    "import numpy as np\n",
    "\n",
    "# twitter scrapper\n",
    "import snscrape.modules.twitter as sntwitter\n"
   ]
  },
  {
   "cell_type": "code",
   "execution_count": 2,
   "metadata": {},
   "outputs": [
    {
     "data": {
      "text/html": [
       "<div>\n",
       "<style scoped>\n",
       "    .dataframe tbody tr th:only-of-type {\n",
       "        vertical-align: middle;\n",
       "    }\n",
       "\n",
       "    .dataframe tbody tr th {\n",
       "        vertical-align: top;\n",
       "    }\n",
       "\n",
       "    .dataframe thead th {\n",
       "        text-align: right;\n",
       "    }\n",
       "</style>\n",
       "<table border=\"1\" class=\"dataframe\">\n",
       "  <thead>\n",
       "    <tr style=\"text-align: right;\">\n",
       "      <th></th>\n",
       "      <th>Datetime</th>\n",
       "      <th>Tweet Id</th>\n",
       "      <th>Text</th>\n",
       "      <th>Username</th>\n",
       "      <th>Like Count</th>\n",
       "    </tr>\n",
       "  </thead>\n",
       "  <tbody>\n",
       "    <tr>\n",
       "      <th>0</th>\n",
       "      <td>2023-03-12 23:59:59+00:00</td>\n",
       "      <td>1635068150483156993</td>\n",
       "      <td>米山議員の行動原理は「強烈な自己顕示欲」ですよ。それをベースに、パターンに応じて周囲に賞賛さ...</td>\n",
       "      <td>k0ii6</td>\n",
       "      <td>0</td>\n",
       "    </tr>\n",
       "    <tr>\n",
       "      <th>1</th>\n",
       "      <td>2023-03-12 23:59:59+00:00</td>\n",
       "      <td>1635068148809621504</td>\n",
       "      <td>ChatGPTでSQLを自動生成する「SQL AI アシスタント」、DB管理画面のローコード...</td>\n",
       "      <td>Nautilus99</td>\n",
       "      <td>0</td>\n",
       "    </tr>\n",
       "    <tr>\n",
       "      <th>2</th>\n",
       "      <td>2023-03-12 23:59:52+00:00</td>\n",
       "      <td>1635068120623882241</td>\n",
       "      <td>@criprights Chatgpt's information load is up t...</td>\n",
       "      <td>FreoPope</td>\n",
       "      <td>0</td>\n",
       "    </tr>\n",
       "    <tr>\n",
       "      <th>3</th>\n",
       "      <td>2023-03-12 23:59:51+00:00</td>\n",
       "      <td>1635068117482356737</td>\n",
       "      <td>Hmm chat GPT is actually very valid</td>\n",
       "      <td>NyamekyeOA</td>\n",
       "      <td>1</td>\n",
       "    </tr>\n",
       "    <tr>\n",
       "      <th>4</th>\n",
       "      <td>2023-03-12 23:59:48+00:00</td>\n",
       "      <td>1635068101980213248</td>\n",
       "      <td>@BllrsMer @leonardovalente @LeoPiccioli Claro ...</td>\n",
       "      <td>Brancamonteh</td>\n",
       "      <td>0</td>\n",
       "    </tr>\n",
       "  </tbody>\n",
       "</table>\n",
       "</div>"
      ],
      "text/plain": [
       "                    Datetime             Tweet Id  \\\n",
       "0  2023-03-12 23:59:59+00:00  1635068150483156993   \n",
       "1  2023-03-12 23:59:59+00:00  1635068148809621504   \n",
       "2  2023-03-12 23:59:52+00:00  1635068120623882241   \n",
       "3  2023-03-12 23:59:51+00:00  1635068117482356737   \n",
       "4  2023-03-12 23:59:48+00:00  1635068101980213248   \n",
       "\n",
       "                                                Text      Username  Like Count  \n",
       "0  米山議員の行動原理は「強烈な自己顕示欲」ですよ。それをベースに、パターンに応じて周囲に賞賛さ...         k0ii6           0  \n",
       "1  ChatGPTでSQLを自動生成する「SQL AI アシスタント」、DB管理画面のローコード...    Nautilus99           0  \n",
       "2  @criprights Chatgpt's information load is up t...      FreoPope           0  \n",
       "3                Hmm chat GPT is actually very valid    NyamekyeOA           1  \n",
       "4  @BllrsMer @leonardovalente @LeoPiccioli Claro ...  Brancamonteh           0  "
      ]
     },
     "execution_count": 2,
     "metadata": {},
     "output_type": "execute_result"
    }
   ],
   "source": [
    "# Loading the scraped data from twitter with word chatgpt\n",
    "df = pd.read_csv('chatgpt_tweet_new.csv')\n",
    "df.head()"
   ]
  },
  {
   "cell_type": "code",
   "execution_count": 3,
   "metadata": {},
   "outputs": [
    {
     "data": {
      "text/plain": [
       "Datetime      object\n",
       "Tweet Id       int64\n",
       "Text          object\n",
       "Username      object\n",
       "Like Count     int64\n",
       "dtype: object"
      ]
     },
     "execution_count": 3,
     "metadata": {},
     "output_type": "execute_result"
    }
   ],
   "source": [
    "df.dtypes"
   ]
  },
  {
   "cell_type": "code",
   "execution_count": 4,
   "metadata": {},
   "outputs": [
    {
     "data": {
      "text/plain": [
       "<bound method DataFrame.info of                         Datetime             Tweet Id  \\\n",
       "0      2023-03-12 23:59:59+00:00  1635068150483156993   \n",
       "1      2023-03-12 23:59:59+00:00  1635068148809621504   \n",
       "2      2023-03-12 23:59:52+00:00  1635068120623882241   \n",
       "3      2023-03-12 23:59:51+00:00  1635068117482356737   \n",
       "4      2023-03-12 23:59:48+00:00  1635068101980213248   \n",
       "...                          ...                  ...   \n",
       "9996   2023-03-12 14:29:39+00:00  1634924619600924674   \n",
       "9997   2023-03-12 14:29:38+00:00  1634924617499545600   \n",
       "9998   2023-03-12 14:29:37+00:00  1634924610742525954   \n",
       "9999   2023-03-12 14:29:33+00:00  1634924595827585027   \n",
       "10000  2023-03-12 14:29:17+00:00  1634924528815210496   \n",
       "\n",
       "                                                    Text         Username  \\\n",
       "0      米山議員の行動原理は「強烈な自己顕示欲」ですよ。それをベースに、パターンに応じて周囲に賞賛さ...            k0ii6   \n",
       "1      ChatGPTでSQLを自動生成する「SQL AI アシスタント」、DB管理画面のローコード...       Nautilus99   \n",
       "2      @criprights Chatgpt's information load is up t...         FreoPope   \n",
       "3                    Hmm chat GPT is actually very valid       NyamekyeOA   \n",
       "4      @BllrsMer @leonardovalente @LeoPiccioli Claro ...     Brancamonteh   \n",
       "...                                                  ...              ...   \n",
       "9996   ChatGPT: Disruption or fantasy? https://t.co/c...    arkiasacademy   \n",
       "9997   @YANAI_Kyosuke chatGPT ってかなりのうそつきデスよね\\r\\nウソででき...  kusuriya49tweet   \n",
       "9998   流行りのchatGPT凄いよ！\\r\\nと旦那に言うと。\\r\\n\\r\\n「あれ俺が答えよるんよ...        naru_saga   \n",
       "9999   Noam Chomsky, I Roberts, J Watumull: AI Unrave...     milena_forte   \n",
       "10000  @ReplyGPT @nonoinvestidor Acho que o ChatGPT t...     caslualoisio   \n",
       "\n",
       "       Like Count  \n",
       "0               0  \n",
       "1               0  \n",
       "2               0  \n",
       "3               1  \n",
       "4               0  \n",
       "...           ...  \n",
       "9996            0  \n",
       "9997            1  \n",
       "9998            0  \n",
       "9999            0  \n",
       "10000           1  \n",
       "\n",
       "[10001 rows x 5 columns]>"
      ]
     },
     "execution_count": 4,
     "metadata": {},
     "output_type": "execute_result"
    }
   ],
   "source": [
    "df.info"
   ]
  },
  {
   "cell_type": "code",
   "execution_count": 5,
   "metadata": {},
   "outputs": [
    {
     "data": {
      "text/html": [
       "<div>\n",
       "<style scoped>\n",
       "    .dataframe tbody tr th:only-of-type {\n",
       "        vertical-align: middle;\n",
       "    }\n",
       "\n",
       "    .dataframe tbody tr th {\n",
       "        vertical-align: top;\n",
       "    }\n",
       "\n",
       "    .dataframe thead th {\n",
       "        text-align: right;\n",
       "    }\n",
       "</style>\n",
       "<table border=\"1\" class=\"dataframe\">\n",
       "  <thead>\n",
       "    <tr style=\"text-align: right;\">\n",
       "      <th></th>\n",
       "      <th>Text</th>\n",
       "      <th>Like Count</th>\n",
       "    </tr>\n",
       "  </thead>\n",
       "  <tbody>\n",
       "    <tr>\n",
       "      <th>0</th>\n",
       "      <td>米山議員の行動原理は「強烈な自己顕示欲」ですよ。それをベースに、パターンに応じて周囲に賞賛さ...</td>\n",
       "      <td>0</td>\n",
       "    </tr>\n",
       "    <tr>\n",
       "      <th>1</th>\n",
       "      <td>ChatGPTでSQLを自動生成する「SQL AI アシスタント」、DB管理画面のローコード...</td>\n",
       "      <td>0</td>\n",
       "    </tr>\n",
       "    <tr>\n",
       "      <th>2</th>\n",
       "      <td>@criprights Chatgpt's information load is up t...</td>\n",
       "      <td>0</td>\n",
       "    </tr>\n",
       "    <tr>\n",
       "      <th>3</th>\n",
       "      <td>Hmm chat GPT is actually very valid</td>\n",
       "      <td>1</td>\n",
       "    </tr>\n",
       "    <tr>\n",
       "      <th>4</th>\n",
       "      <td>@BllrsMer @leonardovalente @LeoPiccioli Claro ...</td>\n",
       "      <td>0</td>\n",
       "    </tr>\n",
       "    <tr>\n",
       "      <th>...</th>\n",
       "      <td>...</td>\n",
       "      <td>...</td>\n",
       "    </tr>\n",
       "    <tr>\n",
       "      <th>9996</th>\n",
       "      <td>ChatGPT: Disruption or fantasy? https://t.co/c...</td>\n",
       "      <td>0</td>\n",
       "    </tr>\n",
       "    <tr>\n",
       "      <th>9997</th>\n",
       "      <td>@YANAI_Kyosuke chatGPT ってかなりのうそつきデスよね\\r\\nウソででき...</td>\n",
       "      <td>1</td>\n",
       "    </tr>\n",
       "    <tr>\n",
       "      <th>9998</th>\n",
       "      <td>流行りのchatGPT凄いよ！\\r\\nと旦那に言うと。\\r\\n\\r\\n「あれ俺が答えよるんよ...</td>\n",
       "      <td>0</td>\n",
       "    </tr>\n",
       "    <tr>\n",
       "      <th>9999</th>\n",
       "      <td>Noam Chomsky, I Roberts, J Watumull: AI Unrave...</td>\n",
       "      <td>0</td>\n",
       "    </tr>\n",
       "    <tr>\n",
       "      <th>10000</th>\n",
       "      <td>@ReplyGPT @nonoinvestidor Acho que o ChatGPT t...</td>\n",
       "      <td>1</td>\n",
       "    </tr>\n",
       "  </tbody>\n",
       "</table>\n",
       "<p>10001 rows × 2 columns</p>\n",
       "</div>"
      ],
      "text/plain": [
       "                                                    Text  Like Count\n",
       "0      米山議員の行動原理は「強烈な自己顕示欲」ですよ。それをベースに、パターンに応じて周囲に賞賛さ...           0\n",
       "1      ChatGPTでSQLを自動生成する「SQL AI アシスタント」、DB管理画面のローコード...           0\n",
       "2      @criprights Chatgpt's information load is up t...           0\n",
       "3                    Hmm chat GPT is actually very valid           1\n",
       "4      @BllrsMer @leonardovalente @LeoPiccioli Claro ...           0\n",
       "...                                                  ...         ...\n",
       "9996   ChatGPT: Disruption or fantasy? https://t.co/c...           0\n",
       "9997   @YANAI_Kyosuke chatGPT ってかなりのうそつきデスよね\\r\\nウソででき...           1\n",
       "9998   流行りのchatGPT凄いよ！\\r\\nと旦那に言うと。\\r\\n\\r\\n「あれ俺が答えよるんよ...           0\n",
       "9999   Noam Chomsky, I Roberts, J Watumull: AI Unrave...           0\n",
       "10000  @ReplyGPT @nonoinvestidor Acho que o ChatGPT t...           1\n",
       "\n",
       "[10001 rows x 2 columns]"
      ]
     },
     "execution_count": 5,
     "metadata": {},
     "output_type": "execute_result"
    }
   ],
   "source": [
    "# Deleting other columns besides text, Like Count and precessed_tweet\n",
    "df.drop(['Datetime', 'Tweet Id', 'Username'], axis=1, inplace=True)\n",
    "df"
   ]
  },
  {
   "cell_type": "code",
   "execution_count": 6,
   "metadata": {},
   "outputs": [
    {
     "data": {
      "text/plain": [
       "Index(['Text', 'Like Count'], dtype='object')"
      ]
     },
     "execution_count": 6,
     "metadata": {},
     "output_type": "execute_result"
    }
   ],
   "source": [
    "df.columns"
   ]
  },
  {
   "cell_type": "markdown",
   "metadata": {},
   "source": [
    "#### Funtions for preprocessing the raw reviews."
   ]
  },
  {
   "cell_type": "code",
   "execution_count": 7,
   "metadata": {},
   "outputs": [],
   "source": [
    "pattern = '&(amp|lt|gt);?'\n",
    "pattern_replace_map = {\n",
    "    '&lt;': '<',\n",
    "    '&gt;': '>',\n",
    "    '&amp;': 'and'\n",
    "}\n",
    "\n",
    "# Define a function to replace the matches with their corresponding values\n",
    "def replace_match(match):\n",
    "    return pattern_replace_map[match.group(0)]\n",
    "\n",
    "\n",
    "def tweet_process(tweet_text: str) -> str:\n",
    "    \"\"\"\n",
    "        Processes the tweet text to remove any non-ascii characters.\n",
    "        \n",
    "        ### Parameters:\n",
    "        text: str\n",
    "            Tweet text\n",
    "\n",
    "        ### Returns:\n",
    "        str:\n",
    "            A string only containing ascii characters \n",
    "    \"\"\"\n",
    "    tweet_text = re.sub('https://\\S+|http://\\S+', '', tweet_text) # Remove whole links\n",
    "    tweet_text = re.sub(pattern, replace_match, tweet_text) # Converting html tags references\n",
    "    tweet_text = re.sub('\\d+', '', tweet_text) # removing numbers from text\n",
    "    # Remove new lines, mentions, hastags, and multiple spaces\n",
    "    tweet_text = re.sub('[\\r\\n]+', ' ', tweet_text)\n",
    "    tweet_text = re.sub(r'@\\w+', '', tweet_text)\n",
    "    tweet_text = re.sub(r'#\\w+', '', tweet_text)\n",
    "    tweet_text = re.sub('\\s+', ' ', tweet_text)\n",
    "    tweet_text = re.sub(r\"\\b\\d{4}-\\d{2}-\\d{2}\\b|\\b\\d{2}:\\d{2}:\\d{2}\\b\", \"\", tweet_text) # Remove datetime string\n",
    "    return tweet_text.lower()\n"
   ]
  },
  {
   "cell_type": "code",
   "execution_count": 8,
   "metadata": {},
   "outputs": [],
   "source": [
    "# Creating a new column for precessed tweet text\n",
    "df['processed_tweet'] = df['Text'].apply(tweet_process)"
   ]
  },
  {
   "cell_type": "code",
   "execution_count": 9,
   "metadata": {},
   "outputs": [
    {
     "data": {
      "text/html": [
       "<div>\n",
       "<style scoped>\n",
       "    .dataframe tbody tr th:only-of-type {\n",
       "        vertical-align: middle;\n",
       "    }\n",
       "\n",
       "    .dataframe tbody tr th {\n",
       "        vertical-align: top;\n",
       "    }\n",
       "\n",
       "    .dataframe thead th {\n",
       "        text-align: right;\n",
       "    }\n",
       "</style>\n",
       "<table border=\"1\" class=\"dataframe\">\n",
       "  <thead>\n",
       "    <tr style=\"text-align: right;\">\n",
       "      <th></th>\n",
       "      <th>Text</th>\n",
       "      <th>Like Count</th>\n",
       "      <th>processed_tweet</th>\n",
       "    </tr>\n",
       "  </thead>\n",
       "  <tbody>\n",
       "    <tr>\n",
       "      <th>0</th>\n",
       "      <td>米山議員の行動原理は「強烈な自己顕示欲」ですよ。それをベースに、パターンに応じて周囲に賞賛さ...</td>\n",
       "      <td>0</td>\n",
       "      <td>米山議員の行動原理は「強烈な自己顕示欲」ですよ。それをベースに、パターンに応じて周囲に賞賛さ...</td>\n",
       "    </tr>\n",
       "    <tr>\n",
       "      <th>1</th>\n",
       "      <td>ChatGPTでSQLを自動生成する「SQL AI アシスタント」、DB管理画面のローコード...</td>\n",
       "      <td>0</td>\n",
       "      <td>chatgptでsqlを自動生成する「sql ai アシスタント」、db管理画面のローコード...</td>\n",
       "    </tr>\n",
       "    <tr>\n",
       "      <th>2</th>\n",
       "      <td>@criprights Chatgpt's information load is up t...</td>\n",
       "      <td>0</td>\n",
       "      <td>chatgpt's information load is up to november ...</td>\n",
       "    </tr>\n",
       "    <tr>\n",
       "      <th>3</th>\n",
       "      <td>Hmm chat GPT is actually very valid</td>\n",
       "      <td>1</td>\n",
       "      <td>hmm chat gpt is actually very valid</td>\n",
       "    </tr>\n",
       "    <tr>\n",
       "      <th>4</th>\n",
       "      <td>@BllrsMer @leonardovalente @LeoPiccioli Claro ...</td>\n",
       "      <td>0</td>\n",
       "      <td>claro es que a google se le escribe como oran...</td>\n",
       "    </tr>\n",
       "  </tbody>\n",
       "</table>\n",
       "</div>"
      ],
      "text/plain": [
       "                                                Text  Like Count  \\\n",
       "0  米山議員の行動原理は「強烈な自己顕示欲」ですよ。それをベースに、パターンに応じて周囲に賞賛さ...           0   \n",
       "1  ChatGPTでSQLを自動生成する「SQL AI アシスタント」、DB管理画面のローコード...           0   \n",
       "2  @criprights Chatgpt's information load is up t...           0   \n",
       "3                Hmm chat GPT is actually very valid           1   \n",
       "4  @BllrsMer @leonardovalente @LeoPiccioli Claro ...           0   \n",
       "\n",
       "                                     processed_tweet  \n",
       "0  米山議員の行動原理は「強烈な自己顕示欲」ですよ。それをベースに、パターンに応じて周囲に賞賛さ...  \n",
       "1  chatgptでsqlを自動生成する「sql ai アシスタント」、db管理画面のローコード...  \n",
       "2   chatgpt's information load is up to november ...  \n",
       "3                hmm chat gpt is actually very valid  \n",
       "4   claro es que a google se le escribe como oran...  "
      ]
     },
     "execution_count": 9,
     "metadata": {},
     "output_type": "execute_result"
    }
   ],
   "source": [
    "df.head()"
   ]
  },
  {
   "cell_type": "code",
   "execution_count": 10,
   "metadata": {},
   "outputs": [
    {
     "data": {
      "text/html": [
       "<div>\n",
       "<style scoped>\n",
       "    .dataframe tbody tr th:only-of-type {\n",
       "        vertical-align: middle;\n",
       "    }\n",
       "\n",
       "    .dataframe tbody tr th {\n",
       "        vertical-align: top;\n",
       "    }\n",
       "\n",
       "    .dataframe thead th {\n",
       "        text-align: right;\n",
       "    }\n",
       "</style>\n",
       "<table border=\"1\" class=\"dataframe\">\n",
       "  <thead>\n",
       "    <tr style=\"text-align: right;\">\n",
       "      <th></th>\n",
       "      <th>Text</th>\n",
       "      <th>Like Count</th>\n",
       "      <th>processed_tweet</th>\n",
       "    </tr>\n",
       "  </thead>\n",
       "  <tbody>\n",
       "    <tr>\n",
       "      <th>2553</th>\n",
       "      <td>@MyFundedFX Openai chatgpt can basically code ...</td>\n",
       "      <td>0</td>\n",
       "      <td>openai chatgpt can basically code a pine scri...</td>\n",
       "    </tr>\n",
       "    <tr>\n",
       "      <th>3329</th>\n",
       "      <td>But I don't mean the UI and the whole applicat...</td>\n",
       "      <td>1</td>\n",
       "      <td>but i don't mean the ui and the whole applicat...</td>\n",
       "    </tr>\n",
       "    <tr>\n",
       "      <th>5542</th>\n",
       "      <td>creativity² = Human x AI | #dalle2exp #ai  #cr...</td>\n",
       "      <td>2</td>\n",
       "      <td>creativity² = human x ai |</td>\n",
       "    </tr>\n",
       "    <tr>\n",
       "      <th>5308</th>\n",
       "      <td>ChatGPT Proposed An Almost Perfect Solution To...</td>\n",
       "      <td>0</td>\n",
       "      <td>chatgpt proposed an almost perfect solution to...</td>\n",
       "    </tr>\n",
       "    <tr>\n",
       "      <th>5378</th>\n",
       "      <td>As banks #melt - AI is #shining - GPT4 rumoure...</td>\n",
       "      <td>4</td>\n",
       "      <td>as banks - ai is - gpt rumoured multimodal ver...</td>\n",
       "    </tr>\n",
       "    <tr>\n",
       "      <th>2922</th>\n",
       "      <td>Le pedí a ChatGPT que escriba una reseña senci...</td>\n",
       "      <td>0</td>\n",
       "      <td>le pedí a chatgpt que escriba una reseña senci...</td>\n",
       "    </tr>\n",
       "    <tr>\n",
       "      <th>2218</th>\n",
       "      <td>おはのり🌞\\r\\n\\r\\n#3/13\\r\\n#今日の積み上げ\\r\\n・記事執筆✍️\\r\\n・...</td>\n",
       "      <td>9</td>\n",
       "      <td>おはのり🌞 #/ ・記事執筆✍️ ・読書 ・llac ・chatgpt触る また週間が始まり...</td>\n",
       "    </tr>\n",
       "  </tbody>\n",
       "</table>\n",
       "</div>"
      ],
      "text/plain": [
       "                                                   Text  Like Count  \\\n",
       "2553  @MyFundedFX Openai chatgpt can basically code ...           0   \n",
       "3329  But I don't mean the UI and the whole applicat...           1   \n",
       "5542  creativity² = Human x AI | #dalle2exp #ai  #cr...           2   \n",
       "5308  ChatGPT Proposed An Almost Perfect Solution To...           0   \n",
       "5378  As banks #melt - AI is #shining - GPT4 rumoure...           4   \n",
       "2922  Le pedí a ChatGPT que escriba una reseña senci...           0   \n",
       "2218  おはのり🌞\\r\\n\\r\\n#3/13\\r\\n#今日の積み上げ\\r\\n・記事執筆✍️\\r\\n・...           9   \n",
       "\n",
       "                                        processed_tweet  \n",
       "2553   openai chatgpt can basically code a pine scri...  \n",
       "3329  but i don't mean the ui and the whole applicat...  \n",
       "5542                        creativity² = human x ai |   \n",
       "5308  chatgpt proposed an almost perfect solution to...  \n",
       "5378  as banks - ai is - gpt rumoured multimodal ver...  \n",
       "2922  le pedí a chatgpt que escriba una reseña senci...  \n",
       "2218  おはのり🌞 #/ ・記事執筆✍️ ・読書 ・llac ・chatgpt触る また週間が始まり...  "
      ]
     },
     "execution_count": 10,
     "metadata": {},
     "output_type": "execute_result"
    }
   ],
   "source": [
    "df.sample(n=7)"
   ]
  },
  {
   "cell_type": "code",
   "execution_count": 11,
   "metadata": {},
   "outputs": [],
   "source": [
    "# Keeping only english words\n",
    "pattern = r'[^\\x00-\\x7F]+'\n",
    "def keep_english_words(text: str) -> str:\n",
    "    \"\"\"\n",
    "        Keep only english words in the text.\n",
    "\n",
    "        ### Parameters:\n",
    "        text: str\n",
    "            Tweet text\n",
    "\n",
    "        ### Returns:\n",
    "        str: \n",
    "            A string only containing english words \n",
    "    \"\"\"\n",
    "    return re.sub(pattern, '', text)\n"
   ]
  },
  {
   "cell_type": "code",
   "execution_count": 12,
   "metadata": {},
   "outputs": [
    {
     "data": {
      "text/html": [
       "<div>\n",
       "<style scoped>\n",
       "    .dataframe tbody tr th:only-of-type {\n",
       "        vertical-align: middle;\n",
       "    }\n",
       "\n",
       "    .dataframe tbody tr th {\n",
       "        vertical-align: top;\n",
       "    }\n",
       "\n",
       "    .dataframe thead th {\n",
       "        text-align: right;\n",
       "    }\n",
       "</style>\n",
       "<table border=\"1\" class=\"dataframe\">\n",
       "  <thead>\n",
       "    <tr style=\"text-align: right;\">\n",
       "      <th></th>\n",
       "      <th>Text</th>\n",
       "      <th>Like Count</th>\n",
       "      <th>processed_tweet</th>\n",
       "    </tr>\n",
       "  </thead>\n",
       "  <tbody>\n",
       "    <tr>\n",
       "      <th>0</th>\n",
       "      <td>米山議員の行動原理は「強烈な自己顕示欲」ですよ。それをベースに、パターンに応じて周囲に賞賛さ...</td>\n",
       "      <td>0</td>\n",
       "      <td>chatgpt</td>\n",
       "    </tr>\n",
       "    <tr>\n",
       "      <th>1</th>\n",
       "      <td>ChatGPTでSQLを自動生成する「SQL AI アシスタント」、DB管理画面のローコード...</td>\n",
       "      <td>0</td>\n",
       "      <td>chatgptsqlsql ai dbdashcomb | it leaders -</td>\n",
       "    </tr>\n",
       "    <tr>\n",
       "      <th>2</th>\n",
       "      <td>@criprights Chatgpt's information load is up t...</td>\n",
       "      <td>0</td>\n",
       "      <td>chatgpt's information load is up to november ...</td>\n",
       "    </tr>\n",
       "    <tr>\n",
       "      <th>3</th>\n",
       "      <td>Hmm chat GPT is actually very valid</td>\n",
       "      <td>1</td>\n",
       "      <td>hmm chat gpt is actually very valid</td>\n",
       "    </tr>\n",
       "    <tr>\n",
       "      <th>4</th>\n",
       "      <td>@BllrsMer @leonardovalente @LeoPiccioli Claro ...</td>\n",
       "      <td>0</td>\n",
       "      <td>claro es que a google se le escribe como oran...</td>\n",
       "    </tr>\n",
       "  </tbody>\n",
       "</table>\n",
       "</div>"
      ],
      "text/plain": [
       "                                                Text  Like Count  \\\n",
       "0  米山議員の行動原理は「強烈な自己顕示欲」ですよ。それをベースに、パターンに応じて周囲に賞賛さ...           0   \n",
       "1  ChatGPTでSQLを自動生成する「SQL AI アシスタント」、DB管理画面のローコード...           0   \n",
       "2  @criprights Chatgpt's information load is up t...           0   \n",
       "3                Hmm chat GPT is actually very valid           1   \n",
       "4  @BllrsMer @leonardovalente @LeoPiccioli Claro ...           0   \n",
       "\n",
       "                                     processed_tweet  \n",
       "0                                            chatgpt  \n",
       "1        chatgptsqlsql ai dbdashcomb | it leaders -   \n",
       "2   chatgpt's information load is up to november ...  \n",
       "3                hmm chat gpt is actually very valid  \n",
       "4   claro es que a google se le escribe como oran...  "
      ]
     },
     "execution_count": 12,
     "metadata": {},
     "output_type": "execute_result"
    }
   ],
   "source": [
    "# Removing other languages from the text\n",
    "df['processed_tweet'] = df['processed_tweet'].apply(keep_english_words)\n",
    "df.head()"
   ]
  },
  {
   "cell_type": "code",
   "execution_count": 13,
   "metadata": {},
   "outputs": [
    {
     "data": {
      "text/plain": [
       "Text               0\n",
       "Like Count         0\n",
       "processed_tweet    0\n",
       "dtype: int64"
      ]
     },
     "execution_count": 13,
     "metadata": {},
     "output_type": "execute_result"
    }
   ],
   "source": [
    "# Checking for null values\n",
    "df.isnull().sum()"
   ]
  },
  {
   "cell_type": "code",
   "execution_count": 14,
   "metadata": {},
   "outputs": [],
   "source": [
    "# nlp = en_core_web_sm.load()"
   ]
  },
  {
   "cell_type": "code",
   "execution_count": 15,
   "metadata": {
    "scrolled": true
   },
   "outputs": [
    {
     "data": {
      "text/plain": [
       "1558               south park a trouv l'utilit de chatgpt\n",
       "3765     i had nice chat with chatgpt about bob lazar ...\n",
       "5930    j'adore chatgpt ! on est vraiment au dbut d'un...\n",
       "6004                   introduction to chatgpt prompting \n",
       "1393       chatgpt gpt generative pre-trained transfor...\n",
       "2008                                              chatgpt\n",
       "2576    thank you for reading! please like and retweet...\n",
       "8114                              chatgpt baba ki jai ho \n",
       "9978    mina murati es la responsable de tecnologa de ...\n",
       "9880                                           chatgpt   \n",
       "7244                        - chatgpt - chatgpt apikey - \n",
       "5222     chatgpt has no information after . anything o...\n",
       "8420                                         deeplchatgpt\n",
       "215     \"este artculo fue escrito con la ayuda de chat...\n",
       "7234     is mind-blowing. i commanded it a topic, and ...\n",
       "Name: processed_tweet, dtype: object"
      ]
     },
     "execution_count": 15,
     "metadata": {},
     "output_type": "execute_result"
    }
   ],
   "source": [
    "df['processed_tweet'].sample(n=15)"
   ]
  },
  {
   "cell_type": "markdown",
   "metadata": {},
   "source": [
    "#### Removing Punctuations from the textual data"
   ]
  },
  {
   "cell_type": "code",
   "execution_count": 16,
   "metadata": {},
   "outputs": [],
   "source": [
    "def remove_punct(text: str) -> str:\n",
    "    \"\"\"\n",
    "        Remove punctuation from a string.\n",
    "\n",
    "        ### Parameters \n",
    "        text: str \n",
    "            The string to remove punctuation from.\n",
    "\n",
    "        ### Returns\n",
    "        text: str\n",
    "            The string with punctuation removed.\n",
    "    \"\"\"\n",
    "    text = re.sub(r'[!\"\\$%&\\'()*+,\\-.\\/:;=#@?\\[\\\\\\]^_`{|}~]*','',text)\n",
    "    return text"
   ]
  },
  {
   "cell_type": "code",
   "execution_count": 17,
   "metadata": {},
   "outputs": [
    {
     "data": {
      "text/html": [
       "<div>\n",
       "<style scoped>\n",
       "    .dataframe tbody tr th:only-of-type {\n",
       "        vertical-align: middle;\n",
       "    }\n",
       "\n",
       "    .dataframe tbody tr th {\n",
       "        vertical-align: top;\n",
       "    }\n",
       "\n",
       "    .dataframe thead th {\n",
       "        text-align: right;\n",
       "    }\n",
       "</style>\n",
       "<table border=\"1\" class=\"dataframe\">\n",
       "  <thead>\n",
       "    <tr style=\"text-align: right;\">\n",
       "      <th></th>\n",
       "      <th>Text</th>\n",
       "      <th>Like Count</th>\n",
       "      <th>processed_tweet</th>\n",
       "      <th>remove_punct</th>\n",
       "    </tr>\n",
       "  </thead>\n",
       "  <tbody>\n",
       "    <tr>\n",
       "      <th>0</th>\n",
       "      <td>米山議員の行動原理は「強烈な自己顕示欲」ですよ。それをベースに、パターンに応じて周囲に賞賛さ...</td>\n",
       "      <td>0</td>\n",
       "      <td>chatgpt</td>\n",
       "      <td>chatgpt</td>\n",
       "    </tr>\n",
       "    <tr>\n",
       "      <th>1</th>\n",
       "      <td>ChatGPTでSQLを自動生成する「SQL AI アシスタント」、DB管理画面のローコード...</td>\n",
       "      <td>0</td>\n",
       "      <td>chatgptsqlsql ai dbdashcomb | it leaders -</td>\n",
       "      <td>chatgptsqlsql ai dbdashcomb  it leaders</td>\n",
       "    </tr>\n",
       "    <tr>\n",
       "      <th>2</th>\n",
       "      <td>@criprights Chatgpt's information load is up t...</td>\n",
       "      <td>0</td>\n",
       "      <td>chatgpt's information load is up to november ...</td>\n",
       "      <td>chatgpts information load is up to november i...</td>\n",
       "    </tr>\n",
       "  </tbody>\n",
       "</table>\n",
       "</div>"
      ],
      "text/plain": [
       "                                                Text  Like Count  \\\n",
       "0  米山議員の行動原理は「強烈な自己顕示欲」ですよ。それをベースに、パターンに応じて周囲に賞賛さ...           0   \n",
       "1  ChatGPTでSQLを自動生成する「SQL AI アシスタント」、DB管理画面のローコード...           0   \n",
       "2  @criprights Chatgpt's information load is up t...           0   \n",
       "\n",
       "                                     processed_tweet  \\\n",
       "0                                            chatgpt   \n",
       "1        chatgptsqlsql ai dbdashcomb | it leaders -    \n",
       "2   chatgpt's information load is up to november ...   \n",
       "\n",
       "                                        remove_punct  \n",
       "0                                            chatgpt  \n",
       "1          chatgptsqlsql ai dbdashcomb  it leaders    \n",
       "2   chatgpts information load is up to november i...  "
      ]
     },
     "execution_count": 17,
     "metadata": {},
     "output_type": "execute_result"
    }
   ],
   "source": [
    "# removing punctuations from processed_tweet and,\n",
    "# creating new column as remove_punct\n",
    "df['remove_punct'] = df['processed_tweet'].apply(remove_punct)\n",
    "df.head(3)"
   ]
  },
  {
   "cell_type": "markdown",
   "metadata": {},
   "source": [
    "Removed the punctuation symbol from the text and created new column named remove_punct."
   ]
  },
  {
   "cell_type": "code",
   "execution_count": 18,
   "metadata": {
    "scrolled": true
   },
   "outputs": [
    {
     "data": {
      "text/html": [
       "<div>\n",
       "<style scoped>\n",
       "    .dataframe tbody tr th:only-of-type {\n",
       "        vertical-align: middle;\n",
       "    }\n",
       "\n",
       "    .dataframe tbody tr th {\n",
       "        vertical-align: top;\n",
       "    }\n",
       "\n",
       "    .dataframe thead th {\n",
       "        text-align: right;\n",
       "    }\n",
       "</style>\n",
       "<table border=\"1\" class=\"dataframe\">\n",
       "  <thead>\n",
       "    <tr style=\"text-align: right;\">\n",
       "      <th></th>\n",
       "      <th>Text</th>\n",
       "      <th>Like Count</th>\n",
       "      <th>processed_tweet</th>\n",
       "      <th>remove_punct</th>\n",
       "      <th>tokenized</th>\n",
       "    </tr>\n",
       "  </thead>\n",
       "  <tbody>\n",
       "    <tr>\n",
       "      <th>0</th>\n",
       "      <td>米山議員の行動原理は「強烈な自己顕示欲」ですよ。それをベースに、パターンに応じて周囲に賞賛さ...</td>\n",
       "      <td>0</td>\n",
       "      <td>chatgpt</td>\n",
       "      <td>chatgpt</td>\n",
       "      <td>[chatgpt]</td>\n",
       "    </tr>\n",
       "    <tr>\n",
       "      <th>1</th>\n",
       "      <td>ChatGPTでSQLを自動生成する「SQL AI アシスタント」、DB管理画面のローコード...</td>\n",
       "      <td>0</td>\n",
       "      <td>chatgptsqlsql ai dbdashcomb | it leaders -</td>\n",
       "      <td>chatgptsqlsql ai dbdashcomb  it leaders</td>\n",
       "      <td>[chatgptsqlsql, ai, dbdashcomb, it, leaders]</td>\n",
       "    </tr>\n",
       "    <tr>\n",
       "      <th>2</th>\n",
       "      <td>@criprights Chatgpt's information load is up t...</td>\n",
       "      <td>0</td>\n",
       "      <td>chatgpt's information load is up to november ...</td>\n",
       "      <td>chatgpts information load is up to november i...</td>\n",
       "      <td>[chatgpts, information, load, is, up, to, nove...</td>\n",
       "    </tr>\n",
       "  </tbody>\n",
       "</table>\n",
       "</div>"
      ],
      "text/plain": [
       "                                                Text  Like Count  \\\n",
       "0  米山議員の行動原理は「強烈な自己顕示欲」ですよ。それをベースに、パターンに応じて周囲に賞賛さ...           0   \n",
       "1  ChatGPTでSQLを自動生成する「SQL AI アシスタント」、DB管理画面のローコード...           0   \n",
       "2  @criprights Chatgpt's information load is up t...           0   \n",
       "\n",
       "                                     processed_tweet  \\\n",
       "0                                            chatgpt   \n",
       "1        chatgptsqlsql ai dbdashcomb | it leaders -    \n",
       "2   chatgpt's information load is up to november ...   \n",
       "\n",
       "                                        remove_punct  \\\n",
       "0                                            chatgpt   \n",
       "1          chatgptsqlsql ai dbdashcomb  it leaders     \n",
       "2   chatgpts information load is up to november i...   \n",
       "\n",
       "                                           tokenized  \n",
       "0                                          [chatgpt]  \n",
       "1       [chatgptsqlsql, ai, dbdashcomb, it, leaders]  \n",
       "2  [chatgpts, information, load, is, up, to, nove...  "
      ]
     },
     "execution_count": 18,
     "metadata": {},
     "output_type": "execute_result"
    }
   ],
   "source": [
    "# word tokenization: splitting of data into words\n",
    "df['tokenized'] = df['remove_punct'].apply(word_tokenize)\n",
    "df.head(3)"
   ]
  },
  {
   "cell_type": "markdown",
   "metadata": {},
   "source": [
    "Tokenized the remove_punct and created new column tokenized"
   ]
  },
  {
   "cell_type": "markdown",
   "metadata": {},
   "source": [
    "#### Removal of Stopwords "
   ]
  },
  {
   "cell_type": "code",
   "execution_count": 19,
   "metadata": {},
   "outputs": [],
   "source": [
    "stopwords = set(stopwords.words(\"english\"))\n",
    "\n",
    "def remove_stopwords(text: list) -> list:\n",
    "    \"\"\"\n",
    "        Removes stopwords from text.\n",
    "\n",
    "        ### Parameters\n",
    "        text: str \n",
    "            list of words\n",
    "        \n",
    "        ### Returns\n",
    "        list:\n",
    "            list of words without stopwords\n",
    "    \"\"\"\n",
    "    text_list = [word for word in text if word.lower() not in stopwords]\n",
    "    return text_list"
   ]
  },
  {
   "cell_type": "code",
   "execution_count": 20,
   "metadata": {
    "scrolled": true
   },
   "outputs": [
    {
     "data": {
      "text/html": [
       "<div>\n",
       "<style scoped>\n",
       "    .dataframe tbody tr th:only-of-type {\n",
       "        vertical-align: middle;\n",
       "    }\n",
       "\n",
       "    .dataframe tbody tr th {\n",
       "        vertical-align: top;\n",
       "    }\n",
       "\n",
       "    .dataframe thead th {\n",
       "        text-align: right;\n",
       "    }\n",
       "</style>\n",
       "<table border=\"1\" class=\"dataframe\">\n",
       "  <thead>\n",
       "    <tr style=\"text-align: right;\">\n",
       "      <th></th>\n",
       "      <th>Text</th>\n",
       "      <th>Like Count</th>\n",
       "      <th>processed_tweet</th>\n",
       "      <th>remove_punct</th>\n",
       "      <th>tokenized</th>\n",
       "      <th>remove_stopwords</th>\n",
       "    </tr>\n",
       "  </thead>\n",
       "  <tbody>\n",
       "    <tr>\n",
       "      <th>0</th>\n",
       "      <td>米山議員の行動原理は「強烈な自己顕示欲」ですよ。それをベースに、パターンに応じて周囲に賞賛さ...</td>\n",
       "      <td>0</td>\n",
       "      <td>chatgpt</td>\n",
       "      <td>chatgpt</td>\n",
       "      <td>[chatgpt]</td>\n",
       "      <td>[chatgpt]</td>\n",
       "    </tr>\n",
       "    <tr>\n",
       "      <th>1</th>\n",
       "      <td>ChatGPTでSQLを自動生成する「SQL AI アシスタント」、DB管理画面のローコード...</td>\n",
       "      <td>0</td>\n",
       "      <td>chatgptsqlsql ai dbdashcomb | it leaders -</td>\n",
       "      <td>chatgptsqlsql ai dbdashcomb  it leaders</td>\n",
       "      <td>[chatgptsqlsql, ai, dbdashcomb, it, leaders]</td>\n",
       "      <td>[chatgptsqlsql, ai, dbdashcomb, leaders]</td>\n",
       "    </tr>\n",
       "    <tr>\n",
       "      <th>2</th>\n",
       "      <td>@criprights Chatgpt's information load is up t...</td>\n",
       "      <td>0</td>\n",
       "      <td>chatgpt's information load is up to november ...</td>\n",
       "      <td>chatgpts information load is up to november i...</td>\n",
       "      <td>[chatgpts, information, load, is, up, to, nove...</td>\n",
       "      <td>[chatgpts, information, load, november, think,...</td>\n",
       "    </tr>\n",
       "  </tbody>\n",
       "</table>\n",
       "</div>"
      ],
      "text/plain": [
       "                                                Text  Like Count  \\\n",
       "0  米山議員の行動原理は「強烈な自己顕示欲」ですよ。それをベースに、パターンに応じて周囲に賞賛さ...           0   \n",
       "1  ChatGPTでSQLを自動生成する「SQL AI アシスタント」、DB管理画面のローコード...           0   \n",
       "2  @criprights Chatgpt's information load is up t...           0   \n",
       "\n",
       "                                     processed_tweet  \\\n",
       "0                                            chatgpt   \n",
       "1        chatgptsqlsql ai dbdashcomb | it leaders -    \n",
       "2   chatgpt's information load is up to november ...   \n",
       "\n",
       "                                        remove_punct  \\\n",
       "0                                            chatgpt   \n",
       "1          chatgptsqlsql ai dbdashcomb  it leaders     \n",
       "2   chatgpts information load is up to november i...   \n",
       "\n",
       "                                           tokenized  \\\n",
       "0                                          [chatgpt]   \n",
       "1       [chatgptsqlsql, ai, dbdashcomb, it, leaders]   \n",
       "2  [chatgpts, information, load, is, up, to, nove...   \n",
       "\n",
       "                                    remove_stopwords  \n",
       "0                                          [chatgpt]  \n",
       "1           [chatgptsqlsql, ai, dbdashcomb, leaders]  \n",
       "2  [chatgpts, information, load, november, think,...  "
      ]
     },
     "execution_count": 20,
     "metadata": {},
     "output_type": "execute_result"
    }
   ],
   "source": [
    "# Removing stopwords\n",
    "df['remove_stopwords'] = df['tokenized'].apply(remove_stopwords)\n",
    "df.head(3)"
   ]
  },
  {
   "cell_type": "markdown",
   "metadata": {},
   "source": [
    "Removed stopwords and created new column remove_stopwords. "
   ]
  },
  {
   "cell_type": "markdown",
   "metadata": {},
   "source": [
    "#### Removing words with length less than 3"
   ]
  },
  {
   "cell_type": "code",
   "execution_count": 21,
   "metadata": {},
   "outputs": [],
   "source": [
    "def filter_words(text: str) -> str:\n",
    "    \"\"\"\n",
    "        If words length is less than 2 remove it.\n",
    "        ### Parameters:\n",
    "        text: str\n",
    "            Tweet text\n",
    "\n",
    "        ### Returns:\n",
    "        str: \n",
    "            A string with words larger than 2 length \n",
    "    \"\"\"\n",
    "    words = text\n",
    "    filtered_words = [word for word in words if len(word) > 2]\n",
    "    return filtered_words"
   ]
  },
  {
   "cell_type": "code",
   "execution_count": 22,
   "metadata": {
    "scrolled": true
   },
   "outputs": [
    {
     "data": {
      "text/html": [
       "<div>\n",
       "<style scoped>\n",
       "    .dataframe tbody tr th:only-of-type {\n",
       "        vertical-align: middle;\n",
       "    }\n",
       "\n",
       "    .dataframe tbody tr th {\n",
       "        vertical-align: top;\n",
       "    }\n",
       "\n",
       "    .dataframe thead th {\n",
       "        text-align: right;\n",
       "    }\n",
       "</style>\n",
       "<table border=\"1\" class=\"dataframe\">\n",
       "  <thead>\n",
       "    <tr style=\"text-align: right;\">\n",
       "      <th></th>\n",
       "      <th>Text</th>\n",
       "      <th>Like Count</th>\n",
       "      <th>processed_tweet</th>\n",
       "      <th>remove_punct</th>\n",
       "      <th>tokenized</th>\n",
       "      <th>remove_stopwords</th>\n",
       "      <th>cleaned_tokens</th>\n",
       "    </tr>\n",
       "  </thead>\n",
       "  <tbody>\n",
       "    <tr>\n",
       "      <th>0</th>\n",
       "      <td>米山議員の行動原理は「強烈な自己顕示欲」ですよ。それをベースに、パターンに応じて周囲に賞賛さ...</td>\n",
       "      <td>0</td>\n",
       "      <td>chatgpt</td>\n",
       "      <td>chatgpt</td>\n",
       "      <td>[chatgpt]</td>\n",
       "      <td>[chatgpt]</td>\n",
       "      <td>[chatgpt]</td>\n",
       "    </tr>\n",
       "    <tr>\n",
       "      <th>1</th>\n",
       "      <td>ChatGPTでSQLを自動生成する「SQL AI アシスタント」、DB管理画面のローコード...</td>\n",
       "      <td>0</td>\n",
       "      <td>chatgptsqlsql ai dbdashcomb | it leaders -</td>\n",
       "      <td>chatgptsqlsql ai dbdashcomb  it leaders</td>\n",
       "      <td>[chatgptsqlsql, ai, dbdashcomb, it, leaders]</td>\n",
       "      <td>[chatgptsqlsql, ai, dbdashcomb, leaders]</td>\n",
       "      <td>[chatgptsqlsql, dbdashcomb, leaders]</td>\n",
       "    </tr>\n",
       "    <tr>\n",
       "      <th>2</th>\n",
       "      <td>@criprights Chatgpt's information load is up t...</td>\n",
       "      <td>0</td>\n",
       "      <td>chatgpt's information load is up to november ...</td>\n",
       "      <td>chatgpts information load is up to november i...</td>\n",
       "      <td>[chatgpts, information, load, is, up, to, nove...</td>\n",
       "      <td>[chatgpts, information, load, november, think,...</td>\n",
       "      <td>[chatgpts, information, load, november, think,...</td>\n",
       "    </tr>\n",
       "  </tbody>\n",
       "</table>\n",
       "</div>"
      ],
      "text/plain": [
       "                                                Text  Like Count  \\\n",
       "0  米山議員の行動原理は「強烈な自己顕示欲」ですよ。それをベースに、パターンに応じて周囲に賞賛さ...           0   \n",
       "1  ChatGPTでSQLを自動生成する「SQL AI アシスタント」、DB管理画面のローコード...           0   \n",
       "2  @criprights Chatgpt's information load is up t...           0   \n",
       "\n",
       "                                     processed_tweet  \\\n",
       "0                                            chatgpt   \n",
       "1        chatgptsqlsql ai dbdashcomb | it leaders -    \n",
       "2   chatgpt's information load is up to november ...   \n",
       "\n",
       "                                        remove_punct  \\\n",
       "0                                            chatgpt   \n",
       "1          chatgptsqlsql ai dbdashcomb  it leaders     \n",
       "2   chatgpts information load is up to november i...   \n",
       "\n",
       "                                           tokenized  \\\n",
       "0                                          [chatgpt]   \n",
       "1       [chatgptsqlsql, ai, dbdashcomb, it, leaders]   \n",
       "2  [chatgpts, information, load, is, up, to, nove...   \n",
       "\n",
       "                                    remove_stopwords  \\\n",
       "0                                          [chatgpt]   \n",
       "1           [chatgptsqlsql, ai, dbdashcomb, leaders]   \n",
       "2  [chatgpts, information, load, november, think,...   \n",
       "\n",
       "                                      cleaned_tokens  \n",
       "0                                          [chatgpt]  \n",
       "1               [chatgptsqlsql, dbdashcomb, leaders]  \n",
       "2  [chatgpts, information, load, november, think,...  "
      ]
     },
     "execution_count": 22,
     "metadata": {},
     "output_type": "execute_result"
    }
   ],
   "source": [
    "df['cleaned_tokens'] = df['remove_stopwords'].apply(filter_words)\n",
    "df.head(3)"
   ]
  },
  {
   "cell_type": "markdown",
   "metadata": {},
   "source": [
    "Removed words with length less than 3 and created new column cleaned tokens. "
   ]
  },
  {
   "cell_type": "markdown",
   "metadata": {},
   "source": [
    "#### Getting Part of Speech tags of the words"
   ]
  },
  {
   "cell_type": "code",
   "execution_count": 23,
   "metadata": {},
   "outputs": [],
   "source": [
    "def get_pos_tag(text_list: list) -> list:\n",
    "    \"\"\"\n",
    "        Returns a list of POS tags for the given list of words.\n",
    "\n",
    "        ### Parameters\n",
    "        text_list: list\n",
    "            A list of words\n",
    "\n",
    "        ### Returns\n",
    "        list:\n",
    "            A list of POS tags\n",
    "    \"\"\"\n",
    "    return nltk.pos_tag(text_list)"
   ]
  },
  {
   "cell_type": "code",
   "execution_count": 24,
   "metadata": {
    "scrolled": true
   },
   "outputs": [
    {
     "data": {
      "text/html": [
       "<div>\n",
       "<style scoped>\n",
       "    .dataframe tbody tr th:only-of-type {\n",
       "        vertical-align: middle;\n",
       "    }\n",
       "\n",
       "    .dataframe tbody tr th {\n",
       "        vertical-align: top;\n",
       "    }\n",
       "\n",
       "    .dataframe thead th {\n",
       "        text-align: right;\n",
       "    }\n",
       "</style>\n",
       "<table border=\"1\" class=\"dataframe\">\n",
       "  <thead>\n",
       "    <tr style=\"text-align: right;\">\n",
       "      <th></th>\n",
       "      <th>Text</th>\n",
       "      <th>Like Count</th>\n",
       "      <th>processed_tweet</th>\n",
       "      <th>remove_punct</th>\n",
       "      <th>tokenized</th>\n",
       "      <th>remove_stopwords</th>\n",
       "      <th>cleaned_tokens</th>\n",
       "      <th>pos_tag</th>\n",
       "    </tr>\n",
       "  </thead>\n",
       "  <tbody>\n",
       "    <tr>\n",
       "      <th>0</th>\n",
       "      <td>米山議員の行動原理は「強烈な自己顕示欲」ですよ。それをベースに、パターンに応じて周囲に賞賛さ...</td>\n",
       "      <td>0</td>\n",
       "      <td>chatgpt</td>\n",
       "      <td>chatgpt</td>\n",
       "      <td>[chatgpt]</td>\n",
       "      <td>[chatgpt]</td>\n",
       "      <td>[chatgpt]</td>\n",
       "      <td>[(chatgpt, NN)]</td>\n",
       "    </tr>\n",
       "    <tr>\n",
       "      <th>1</th>\n",
       "      <td>ChatGPTでSQLを自動生成する「SQL AI アシスタント」、DB管理画面のローコード...</td>\n",
       "      <td>0</td>\n",
       "      <td>chatgptsqlsql ai dbdashcomb | it leaders -</td>\n",
       "      <td>chatgptsqlsql ai dbdashcomb  it leaders</td>\n",
       "      <td>[chatgptsqlsql, ai, dbdashcomb, it, leaders]</td>\n",
       "      <td>[chatgptsqlsql, ai, dbdashcomb, leaders]</td>\n",
       "      <td>[chatgptsqlsql, dbdashcomb, leaders]</td>\n",
       "      <td>[(chatgptsqlsql, NN), (dbdashcomb, NN), (leade...</td>\n",
       "    </tr>\n",
       "    <tr>\n",
       "      <th>2</th>\n",
       "      <td>@criprights Chatgpt's information load is up t...</td>\n",
       "      <td>0</td>\n",
       "      <td>chatgpt's information load is up to november ...</td>\n",
       "      <td>chatgpts information load is up to november i...</td>\n",
       "      <td>[chatgpts, information, load, is, up, to, nove...</td>\n",
       "      <td>[chatgpts, information, load, november, think,...</td>\n",
       "      <td>[chatgpts, information, load, november, think,...</td>\n",
       "      <td>[(chatgpts, NNS), (information, NN), (load, NN...</td>\n",
       "    </tr>\n",
       "    <tr>\n",
       "      <th>3</th>\n",
       "      <td>Hmm chat GPT is actually very valid</td>\n",
       "      <td>1</td>\n",
       "      <td>hmm chat gpt is actually very valid</td>\n",
       "      <td>hmm chat gpt is actually very valid</td>\n",
       "      <td>[hmm, chat, gpt, is, actually, very, valid]</td>\n",
       "      <td>[hmm, chat, gpt, actually, valid]</td>\n",
       "      <td>[hmm, chat, gpt, actually, valid]</td>\n",
       "      <td>[(hmm, NN), (chat, WP), (gpt, VBZ), (actually,...</td>\n",
       "    </tr>\n",
       "    <tr>\n",
       "      <th>4</th>\n",
       "      <td>@BllrsMer @leonardovalente @LeoPiccioli Claro ...</td>\n",
       "      <td>0</td>\n",
       "      <td>claro es que a google se le escribe como oran...</td>\n",
       "      <td>claro es que a google se le escribe como oran...</td>\n",
       "      <td>[claro, es, que, a, google, se, le, escribe, c...</td>\n",
       "      <td>[claro, es, que, google, se, le, escribe, como...</td>\n",
       "      <td>[claro, que, google, escribe, como, orangutn, ...</td>\n",
       "      <td>[(claro, NN), (que, NN), (google, NN), (escrib...</td>\n",
       "    </tr>\n",
       "  </tbody>\n",
       "</table>\n",
       "</div>"
      ],
      "text/plain": [
       "                                                Text  Like Count  \\\n",
       "0  米山議員の行動原理は「強烈な自己顕示欲」ですよ。それをベースに、パターンに応じて周囲に賞賛さ...           0   \n",
       "1  ChatGPTでSQLを自動生成する「SQL AI アシスタント」、DB管理画面のローコード...           0   \n",
       "2  @criprights Chatgpt's information load is up t...           0   \n",
       "3                Hmm chat GPT is actually very valid           1   \n",
       "4  @BllrsMer @leonardovalente @LeoPiccioli Claro ...           0   \n",
       "\n",
       "                                     processed_tweet  \\\n",
       "0                                            chatgpt   \n",
       "1        chatgptsqlsql ai dbdashcomb | it leaders -    \n",
       "2   chatgpt's information load is up to november ...   \n",
       "3                hmm chat gpt is actually very valid   \n",
       "4   claro es que a google se le escribe como oran...   \n",
       "\n",
       "                                        remove_punct  \\\n",
       "0                                            chatgpt   \n",
       "1          chatgptsqlsql ai dbdashcomb  it leaders     \n",
       "2   chatgpts information load is up to november i...   \n",
       "3                hmm chat gpt is actually very valid   \n",
       "4   claro es que a google se le escribe como oran...   \n",
       "\n",
       "                                           tokenized  \\\n",
       "0                                          [chatgpt]   \n",
       "1       [chatgptsqlsql, ai, dbdashcomb, it, leaders]   \n",
       "2  [chatgpts, information, load, is, up, to, nove...   \n",
       "3        [hmm, chat, gpt, is, actually, very, valid]   \n",
       "4  [claro, es, que, a, google, se, le, escribe, c...   \n",
       "\n",
       "                                    remove_stopwords  \\\n",
       "0                                          [chatgpt]   \n",
       "1           [chatgptsqlsql, ai, dbdashcomb, leaders]   \n",
       "2  [chatgpts, information, load, november, think,...   \n",
       "3                  [hmm, chat, gpt, actually, valid]   \n",
       "4  [claro, es, que, google, se, le, escribe, como...   \n",
       "\n",
       "                                      cleaned_tokens  \\\n",
       "0                                          [chatgpt]   \n",
       "1               [chatgptsqlsql, dbdashcomb, leaders]   \n",
       "2  [chatgpts, information, load, november, think,...   \n",
       "3                  [hmm, chat, gpt, actually, valid]   \n",
       "4  [claro, que, google, escribe, como, orangutn, ...   \n",
       "\n",
       "                                             pos_tag  \n",
       "0                                    [(chatgpt, NN)]  \n",
       "1  [(chatgptsqlsql, NN), (dbdashcomb, NN), (leade...  \n",
       "2  [(chatgpts, NNS), (information, NN), (load, NN...  \n",
       "3  [(hmm, NN), (chat, WP), (gpt, VBZ), (actually,...  \n",
       "4  [(claro, NN), (que, NN), (google, NN), (escrib...  "
      ]
     },
     "execution_count": 24,
     "metadata": {},
     "output_type": "execute_result"
    }
   ],
   "source": [
    "# getting part of speech \n",
    "df['pos_tag'] = df['cleaned_tokens'].apply(get_pos_tag)\n",
    "df.head()"
   ]
  },
  {
   "cell_type": "markdown",
   "metadata": {},
   "source": [
    "Assigned the Part of Speech for each words in cleaned tokens using nltk pos_tag. A new column, pos_tag is created with assigned pos tag."
   ]
  },
  {
   "cell_type": "markdown",
   "metadata": {},
   "source": [
    "#### Lemmatization: transforming a word to its root or base form using Part of Speech"
   ]
  },
  {
   "cell_type": "code",
   "execution_count": 25,
   "metadata": {},
   "outputs": [],
   "source": [
    "lemmatizer = WordNetLemmatizer()\n",
    "def word_pos_lemmetize(text_list: list) -> list:\n",
    "    \"\"\"\n",
    "        Return a list of words with lemma form.\n",
    "\n",
    "        ### Parameters\n",
    "        text_list: list\n",
    "            A list of words.\n",
    "\n",
    "        ### Returns\n",
    "        list:\n",
    "            A list of words converted to lemma form.\n",
    "    \"\"\"\n",
    "    new_lemmetize_list = []\n",
    "    for text, tag in text_list:\n",
    "        text = text.lower()\n",
    "        if tag.startswith('N'):\n",
    "            wld = lemmatizer.lemmatize(text, pos='n')\n",
    "        elif tag.startswith('V'):\n",
    "            wld = lemmatizer.lemmatize(text, pos='v')\n",
    "        elif tag.startswith('J'):\n",
    "            wld = lemmatizer.lemmatize(text, pos='a')\n",
    "        elif tag.startswith('R'):\n",
    "            wld = lemmatizer.lemmatize(text, pos='r')\n",
    "        else:\n",
    "            wld = text\n",
    "        new_lemmetize_list.append(wld)\n",
    "    return new_lemmetize_list"
   ]
  },
  {
   "cell_type": "code",
   "execution_count": 26,
   "metadata": {},
   "outputs": [
    {
     "data": {
      "text/html": [
       "<div>\n",
       "<style scoped>\n",
       "    .dataframe tbody tr th:only-of-type {\n",
       "        vertical-align: middle;\n",
       "    }\n",
       "\n",
       "    .dataframe tbody tr th {\n",
       "        vertical-align: top;\n",
       "    }\n",
       "\n",
       "    .dataframe thead th {\n",
       "        text-align: right;\n",
       "    }\n",
       "</style>\n",
       "<table border=\"1\" class=\"dataframe\">\n",
       "  <thead>\n",
       "    <tr style=\"text-align: right;\">\n",
       "      <th></th>\n",
       "      <th>Text</th>\n",
       "      <th>Like Count</th>\n",
       "      <th>processed_tweet</th>\n",
       "      <th>remove_punct</th>\n",
       "      <th>tokenized</th>\n",
       "      <th>remove_stopwords</th>\n",
       "      <th>cleaned_tokens</th>\n",
       "      <th>pos_tag</th>\n",
       "      <th>text_lemmatizer</th>\n",
       "    </tr>\n",
       "  </thead>\n",
       "  <tbody>\n",
       "    <tr>\n",
       "      <th>0</th>\n",
       "      <td>米山議員の行動原理は「強烈な自己顕示欲」ですよ。それをベースに、パターンに応じて周囲に賞賛さ...</td>\n",
       "      <td>0</td>\n",
       "      <td>chatgpt</td>\n",
       "      <td>chatgpt</td>\n",
       "      <td>[chatgpt]</td>\n",
       "      <td>[chatgpt]</td>\n",
       "      <td>[chatgpt]</td>\n",
       "      <td>[(chatgpt, NN)]</td>\n",
       "      <td>[chatgpt]</td>\n",
       "    </tr>\n",
       "    <tr>\n",
       "      <th>1</th>\n",
       "      <td>ChatGPTでSQLを自動生成する「SQL AI アシスタント」、DB管理画面のローコード...</td>\n",
       "      <td>0</td>\n",
       "      <td>chatgptsqlsql ai dbdashcomb | it leaders -</td>\n",
       "      <td>chatgptsqlsql ai dbdashcomb  it leaders</td>\n",
       "      <td>[chatgptsqlsql, ai, dbdashcomb, it, leaders]</td>\n",
       "      <td>[chatgptsqlsql, ai, dbdashcomb, leaders]</td>\n",
       "      <td>[chatgptsqlsql, dbdashcomb, leaders]</td>\n",
       "      <td>[(chatgptsqlsql, NN), (dbdashcomb, NN), (leade...</td>\n",
       "      <td>[chatgptsqlsql, dbdashcomb, leader]</td>\n",
       "    </tr>\n",
       "    <tr>\n",
       "      <th>2</th>\n",
       "      <td>@criprights Chatgpt's information load is up t...</td>\n",
       "      <td>0</td>\n",
       "      <td>chatgpt's information load is up to november ...</td>\n",
       "      <td>chatgpts information load is up to november i...</td>\n",
       "      <td>[chatgpts, information, load, is, up, to, nove...</td>\n",
       "      <td>[chatgpts, information, load, november, think,...</td>\n",
       "      <td>[chatgpts, information, load, november, think,...</td>\n",
       "      <td>[(chatgpts, NNS), (information, NN), (load, NN...</td>\n",
       "      <td>[chatgpts, information, load, november, think,...</td>\n",
       "    </tr>\n",
       "  </tbody>\n",
       "</table>\n",
       "</div>"
      ],
      "text/plain": [
       "                                                Text  Like Count  \\\n",
       "0  米山議員の行動原理は「強烈な自己顕示欲」ですよ。それをベースに、パターンに応じて周囲に賞賛さ...           0   \n",
       "1  ChatGPTでSQLを自動生成する「SQL AI アシスタント」、DB管理画面のローコード...           0   \n",
       "2  @criprights Chatgpt's information load is up t...           0   \n",
       "\n",
       "                                     processed_tweet  \\\n",
       "0                                            chatgpt   \n",
       "1        chatgptsqlsql ai dbdashcomb | it leaders -    \n",
       "2   chatgpt's information load is up to november ...   \n",
       "\n",
       "                                        remove_punct  \\\n",
       "0                                            chatgpt   \n",
       "1          chatgptsqlsql ai dbdashcomb  it leaders     \n",
       "2   chatgpts information load is up to november i...   \n",
       "\n",
       "                                           tokenized  \\\n",
       "0                                          [chatgpt]   \n",
       "1       [chatgptsqlsql, ai, dbdashcomb, it, leaders]   \n",
       "2  [chatgpts, information, load, is, up, to, nove...   \n",
       "\n",
       "                                    remove_stopwords  \\\n",
       "0                                          [chatgpt]   \n",
       "1           [chatgptsqlsql, ai, dbdashcomb, leaders]   \n",
       "2  [chatgpts, information, load, november, think,...   \n",
       "\n",
       "                                      cleaned_tokens  \\\n",
       "0                                          [chatgpt]   \n",
       "1               [chatgptsqlsql, dbdashcomb, leaders]   \n",
       "2  [chatgpts, information, load, november, think,...   \n",
       "\n",
       "                                             pos_tag  \\\n",
       "0                                    [(chatgpt, NN)]   \n",
       "1  [(chatgptsqlsql, NN), (dbdashcomb, NN), (leade...   \n",
       "2  [(chatgpts, NNS), (information, NN), (load, NN...   \n",
       "\n",
       "                                     text_lemmatizer  \n",
       "0                                          [chatgpt]  \n",
       "1                [chatgptsqlsql, dbdashcomb, leader]  \n",
       "2  [chatgpts, information, load, november, think,...  "
      ]
     },
     "execution_count": 26,
     "metadata": {},
     "output_type": "execute_result"
    }
   ],
   "source": [
    "# lemmatizing the pos_tag column.\n",
    "df['text_lemmatizer'] = df['pos_tag'].apply(word_pos_lemmetize)\n",
    "df.head(3)"
   ]
  },
  {
   "cell_type": "markdown",
   "metadata": {},
   "source": [
    "Lemmatized the words using the Part of Speech and transformed each word into it's base form and kept in new column named 'text_lemmatizer'."
   ]
  },
  {
   "cell_type": "markdown",
   "metadata": {},
   "source": [
    "#### Outliers "
   ]
  },
  {
   "cell_type": "code",
   "execution_count": 27,
   "metadata": {},
   "outputs": [],
   "source": [
    "#dropping different unwanted columns\n",
    "df.drop(['Text','processed_tweet', 'tokenized', 'remove_stopwords','cleaned_tokens','pos_tag'], axis=1, inplace=True)"
   ]
  },
  {
   "cell_type": "code",
   "execution_count": 28,
   "metadata": {},
   "outputs": [
    {
     "data": {
      "text/plain": [
       "Index(['Like Count', 'remove_punct', 'text_lemmatizer'], dtype='object')"
      ]
     },
     "execution_count": 28,
     "metadata": {},
     "output_type": "execute_result"
    }
   ],
   "source": [
    "df.columns"
   ]
  },
  {
   "cell_type": "code",
   "execution_count": 29,
   "metadata": {},
   "outputs": [
    {
     "data": {
      "text/plain": [
       "count    10001.000000\n",
       "mean         7.347465\n",
       "std         73.503786\n",
       "min          0.000000\n",
       "25%          0.000000\n",
       "50%          1.000000\n",
       "75%          2.000000\n",
       "max       4082.000000\n",
       "Name: Like Count, dtype: float64"
      ]
     },
     "execution_count": 29,
     "metadata": {},
     "output_type": "execute_result"
    }
   ],
   "source": [
    "df['Like Count'].describe()"
   ]
  },
  {
   "cell_type": "code",
   "execution_count": 30,
   "metadata": {},
   "outputs": [
    {
     "data": {
      "text/plain": [
       "2.0"
      ]
     },
     "execution_count": 30,
     "metadata": {},
     "output_type": "execute_result"
    }
   ],
   "source": [
    "# Calculating IQR(Inter Quartile Range)\n",
    "Q1 = df['Like Count'].quantile(0.25) # Calculating first quartile with 25%\n",
    "Q3 = df['Like Count'].quantile(0.75) # Calculating third quartile with 75%\n",
    "IQR = Q3 - Q1 # Calculating Inter Quartile Range\n",
    "IQR"
   ]
  },
  {
   "cell_type": "code",
   "execution_count": 31,
   "metadata": {},
   "outputs": [
    {
     "data": {
      "text/plain": [
       "[-3.0, 5.0]"
      ]
     },
     "execution_count": 31,
     "metadata": {},
     "output_type": "execute_result"
    }
   ],
   "source": [
    "# Calculating upper and lower boundaries(whiskers)\n",
    "# lower boundary = Q1 - (1.5 * IQR)\n",
    "# Upper boundary = Q3 + (1.5 * IQR)\n",
    "boundary = [Q1 - (1.5 * IQR), Q3 + (1.5 * IQR)]\n",
    "boundary"
   ]
  },
  {
   "cell_type": "code",
   "execution_count": 32,
   "metadata": {},
   "outputs": [
    {
     "data": {
      "text/html": [
       "<div>\n",
       "<style scoped>\n",
       "    .dataframe tbody tr th:only-of-type {\n",
       "        vertical-align: middle;\n",
       "    }\n",
       "\n",
       "    .dataframe tbody tr th {\n",
       "        vertical-align: top;\n",
       "    }\n",
       "\n",
       "    .dataframe thead th {\n",
       "        text-align: right;\n",
       "    }\n",
       "</style>\n",
       "<table border=\"1\" class=\"dataframe\">\n",
       "  <thead>\n",
       "    <tr style=\"text-align: right;\">\n",
       "      <th></th>\n",
       "      <th>Like Count</th>\n",
       "      <th>remove_punct</th>\n",
       "      <th>text_lemmatizer</th>\n",
       "    </tr>\n",
       "  </thead>\n",
       "  <tbody>\n",
       "  </tbody>\n",
       "</table>\n",
       "</div>"
      ],
      "text/plain": [
       "Empty DataFrame\n",
       "Columns: [Like Count, remove_punct, text_lemmatizer]\n",
       "Index: []"
      ]
     },
     "execution_count": 32,
     "metadata": {},
     "output_type": "execute_result"
    }
   ],
   "source": [
    "# lower outliers\n",
    "lower_outliers = df[df['Like Count'] < boundary[0]]\n",
    "lower_outliers"
   ]
  },
  {
   "cell_type": "code",
   "execution_count": 33,
   "metadata": {},
   "outputs": [
    {
     "data": {
      "text/html": [
       "<div>\n",
       "<style scoped>\n",
       "    .dataframe tbody tr th:only-of-type {\n",
       "        vertical-align: middle;\n",
       "    }\n",
       "\n",
       "    .dataframe tbody tr th {\n",
       "        vertical-align: top;\n",
       "    }\n",
       "\n",
       "    .dataframe thead th {\n",
       "        text-align: right;\n",
       "    }\n",
       "</style>\n",
       "<table border=\"1\" class=\"dataframe\">\n",
       "  <thead>\n",
       "    <tr style=\"text-align: right;\">\n",
       "      <th></th>\n",
       "      <th>Like Count</th>\n",
       "      <th>remove_punct</th>\n",
       "      <th>text_lemmatizer</th>\n",
       "    </tr>\n",
       "  </thead>\n",
       "  <tbody>\n",
       "    <tr>\n",
       "      <th>7</th>\n",
       "      <td>16</td>\n",
       "      <td>mricchatgpt vol ai</td>\n",
       "      <td>[mricchatgpt, vol]</td>\n",
       "    </tr>\n",
       "    <tr>\n",
       "      <th>15</th>\n",
       "      <td>29</td>\n",
       "      <td>half this shit is written by aids and interns ...</td>\n",
       "      <td>[half, shit, write, aid, intern, anyway, think...</td>\n",
       "    </tr>\n",
       "    <tr>\n",
       "      <th>23</th>\n",
       "      <td>7</td>\n",
       "      <td>azure openai  chatgpt ms</td>\n",
       "      <td>[azure, openai, chatgpt]</td>\n",
       "    </tr>\n",
       "    <tr>\n",
       "      <th>29</th>\n",
       "      <td>16</td>\n",
       "      <td>chatgpt</td>\n",
       "      <td>[chatgpt]</td>\n",
       "    </tr>\n",
       "    <tr>\n",
       "      <th>30</th>\n",
       "      <td>62</td>\n",
       "      <td>look i almost guarantee therell be at least so...</td>\n",
       "      <td>[look, almost, guarantee, therell, least, chat...</td>\n",
       "    </tr>\n",
       "    <tr>\n",
       "      <th>...</th>\n",
       "      <td>...</td>\n",
       "      <td>...</td>\n",
       "      <td>...</td>\n",
       "    </tr>\n",
       "    <tr>\n",
       "      <th>9972</th>\n",
       "      <td>6</td>\n",
       "      <td>do it youtube and chatgpt will be able to hac...</td>\n",
       "      <td>[youtube, chatgpt, able, hack, blockchains, mo...</td>\n",
       "    </tr>\n",
       "    <tr>\n",
       "      <th>9975</th>\n",
       "      <td>39</td>\n",
       "      <td>chatgpt is powerful  and difficult to control ...</td>\n",
       "      <td>[chatgpt, powerful, difficult, control, micros...</td>\n",
       "    </tr>\n",
       "    <tr>\n",
       "      <th>9978</th>\n",
       "      <td>11</td>\n",
       "      <td>mina murati es la responsable de tecnologa de ...</td>\n",
       "      <td>[mina, murati, responsable, tecnologa, openai,...</td>\n",
       "    </tr>\n",
       "    <tr>\n",
       "      <th>9983</th>\n",
       "      <td>10</td>\n",
       "      <td>chatgpt</td>\n",
       "      <td>[chatgpt]</td>\n",
       "    </tr>\n",
       "    <tr>\n",
       "      <th>9987</th>\n",
       "      <td>21</td>\n",
       "      <td>chatgpt</td>\n",
       "      <td>[chatgpt]</td>\n",
       "    </tr>\n",
       "  </tbody>\n",
       "</table>\n",
       "<p>1243 rows × 3 columns</p>\n",
       "</div>"
      ],
      "text/plain": [
       "      Like Count                                       remove_punct  \\\n",
       "7             16                                mricchatgpt vol ai    \n",
       "15            29  half this shit is written by aids and interns ...   \n",
       "23             7                         azure openai  chatgpt ms     \n",
       "29            16                                           chatgpt    \n",
       "30            62  look i almost guarantee therell be at least so...   \n",
       "...          ...                                                ...   \n",
       "9972           6   do it youtube and chatgpt will be able to hac...   \n",
       "9975          39  chatgpt is powerful  and difficult to control ...   \n",
       "9978          11  mina murati es la responsable de tecnologa de ...   \n",
       "9983          10                                          chatgpt     \n",
       "9987          21                                           chatgpt    \n",
       "\n",
       "                                        text_lemmatizer  \n",
       "7                                    [mricchatgpt, vol]  \n",
       "15    [half, shit, write, aid, intern, anyway, think...  \n",
       "23                             [azure, openai, chatgpt]  \n",
       "29                                            [chatgpt]  \n",
       "30    [look, almost, guarantee, therell, least, chat...  \n",
       "...                                                 ...  \n",
       "9972  [youtube, chatgpt, able, hack, blockchains, mo...  \n",
       "9975  [chatgpt, powerful, difficult, control, micros...  \n",
       "9978  [mina, murati, responsable, tecnologa, openai,...  \n",
       "9983                                          [chatgpt]  \n",
       "9987                                          [chatgpt]  \n",
       "\n",
       "[1243 rows x 3 columns]"
      ]
     },
     "execution_count": 33,
     "metadata": {},
     "output_type": "execute_result"
    }
   ],
   "source": [
    "# upper outliers\n",
    "upper_outliers = df[df['Like Count'] > boundary[1]]\n",
    "upper_outliers"
   ]
  },
  {
   "cell_type": "code",
   "execution_count": 34,
   "metadata": {
    "scrolled": false
   },
   "outputs": [
    {
     "data": {
      "image/png": "[encoded data removed]",
      "text/plain": [
       "<Figure size 432x288 with 1 Axes>"
      ]
     },
     "metadata": {
      "needs_background": "light"
     },
     "output_type": "display_data"
    }
   ],
   "source": [
    "# visualization of outliers\n",
    "import matplotlib.pyplot as plt\n",
    "\n",
    "plt.boxplot(df[\"Like Count\"])\n",
    "plt.show()"
   ]
  },
  {
   "cell_type": "markdown",
   "metadata": {},
   "source": [
    "#### Outliers Handling"
   ]
  },
  {
   "cell_type": "markdown",
   "metadata": {},
   "source": [
    "#### Quantile-based Flooring and Capping"
   ]
  },
  {
   "cell_type": "code",
   "execution_count": 35,
   "metadata": {
    "scrolled": true
   },
   "outputs": [
    {
     "data": {
      "text/plain": [
       "{'whiskers': [<matplotlib.lines.Line2D at 0x2bf6b6de280>,\n",
       "  <matplotlib.lines.Line2D at 0x2bf6b6def70>],\n",
       " 'caps': [<matplotlib.lines.Line2D at 0x2bf6b6deb80>,\n",
       "  <matplotlib.lines.Line2D at 0x2bf6b6de7f0>],\n",
       " 'boxes': [<matplotlib.lines.Line2D at 0x2bf6b6de1c0>],\n",
       " 'medians': [<matplotlib.lines.Line2D at 0x2bf6bd84e80>],\n",
       " 'fliers': [<matplotlib.lines.Line2D at 0x2bf6bd84d00>],\n",
       " 'means': []}"
      ]
     },
     "execution_count": 35,
     "metadata": {},
     "output_type": "execute_result"
    },
    {
     "data": {
      "image/png": "[encoded data removed]",
      "text/plain": [
       "<Figure size 432x288 with 1 Axes>"
      ]
     },
     "metadata": {
      "needs_background": "light"
     },
     "output_type": "display_data"
    }
   ],
   "source": [
    "floor = df['Like Count'].quantile(0.10) # getting the floor value with 10%\n",
    "cap = df['Like Count'].quantile(0.90) # getting the ceiling or cap value with 90%\n",
    "\n",
    "# changing the values below floor values to floor value\n",
    "df['Nw2Like Count'] = np.where(df['Like Count']<floor, floor, df['Like Count'])\n",
    "\n",
    "# changing the values above cap values to cap value\n",
    "df['Nw2Like Count'] = np.where(df['Like Count']>cap, cap, df['Like Count'])\n",
    "\n",
    "# box plot of new values\n",
    "plt.boxplot(df['Nw2Like Count'])"
   ]
  },
  {
   "cell_type": "markdown",
   "metadata": {},
   "source": [
    "#### Log Transformation"
   ]
  },
  {
   "cell_type": "code",
   "execution_count": 36,
   "metadata": {},
   "outputs": [
    {
     "data": {
      "text/plain": [
       "(array([9.948e+03, 2.600e+01, 1.100e+01, 3.000e+00, 4.000e+00, 2.000e+00,\n",
       "        0.000e+00, 2.000e+00, 2.000e+00, 1.000e+00, 0.000e+00, 0.000e+00,\n",
       "        0.000e+00, 0.000e+00, 1.000e+00, 0.000e+00, 0.000e+00, 0.000e+00,\n",
       "        0.000e+00, 1.000e+00]),\n",
       " array([   0. ,  204.1,  408.2,  612.3,  816.4, 1020.5, 1224.6, 1428.7,\n",
       "        1632.8, 1836.9, 2041. , 2245.1, 2449.2, 2653.3, 2857.4, 3061.5,\n",
       "        3265.6, 3469.7, 3673.8, 3877.9, 4082. ]),\n",
       " <BarContainer object of 20 artists>)"
      ]
     },
     "execution_count": 36,
     "metadata": {},
     "output_type": "execute_result"
    },
    {
     "data": {
      "image/png": "[encoded data removed]",
      "text/plain": [
       "<Figure size 432x288 with 1 Axes>"
      ]
     },
     "metadata": {
      "needs_background": "light"
     },
     "output_type": "display_data"
    }
   ],
   "source": [
    "# Histogram plot of the feature column 'Like Count'\n",
    "plt.hist(df['Like Count'], bins=20)"
   ]
  },
  {
   "cell_type": "code",
   "execution_count": 37,
   "metadata": {},
   "outputs": [
    {
     "data": {
      "text/plain": [
       "32.50434160651931"
      ]
     },
     "execution_count": 37,
     "metadata": {},
     "output_type": "execute_result"
    }
   ],
   "source": [
    "# checking for the skewness of feature column 'Like Count'\n",
    "df['Like Count'].skew() "
   ]
  },
  {
   "cell_type": "code",
   "execution_count": 38,
   "metadata": {},
   "outputs": [
    {
     "data": {
      "text/plain": [
       "0        0.0\n",
       "1        0.0\n",
       "2        0.0\n",
       "3        0.0\n",
       "4        0.0\n",
       "        ... \n",
       "9996     0.0\n",
       "9997     0.0\n",
       "9998     0.0\n",
       "9999     0.0\n",
       "10000    0.0\n",
       "Name: Log_Like Count, Length: 10001, dtype: float64"
      ]
     },
     "execution_count": 38,
     "metadata": {},
     "output_type": "execute_result"
    }
   ],
   "source": [
    "# Replacing each values of feature column 'Like Count' with their logarithmic values\n",
    "df['Log_Like Count'] = df['Like Count'].map(lambda i: np.log(i) if i > 0 else 0)\n",
    "df['Log_Like Count']"
   ]
  },
  {
   "cell_type": "code",
   "execution_count": 39,
   "metadata": {},
   "outputs": [
    {
     "data": {
      "text/plain": [
       "2.4569393778272777"
      ]
     },
     "execution_count": 39,
     "metadata": {},
     "output_type": "execute_result"
    }
   ],
   "source": [
    "# checking for the skewness of feature column 'Like Count' with logarithmic values\n",
    "df['Log_Like Count'].skew()"
   ]
  },
  {
   "cell_type": "code",
   "execution_count": 40,
   "metadata": {},
   "outputs": [
    {
     "data": {
      "text/plain": [
       "(array([6.853e+03, 8.840e+02, 5.090e+02, 5.120e+02, 2.820e+02, 3.030e+02,\n",
       "        1.970e+02, 1.180e+02, 1.060e+02, 8.200e+01, 5.100e+01, 3.200e+01,\n",
       "        2.500e+01, 1.100e+01, 1.800e+01, 5.000e+00, 5.000e+00, 5.000e+00,\n",
       "        1.000e+00, 2.000e+00]),\n",
       " array([0.        , 0.41571712, 0.83143423, 1.24715135, 1.66286847,\n",
       "        2.07858559, 2.4943027 , 2.91001982, 3.32573694, 3.74145405,\n",
       "        4.15717117, 4.57288829, 4.98860541, 5.40432252, 5.82003964,\n",
       "        6.23575676, 6.65147387, 7.06719099, 7.48290811, 7.89862523,\n",
       "        8.31434234]),\n",
       " <BarContainer object of 20 artists>)"
      ]
     },
     "execution_count": 40,
     "metadata": {},
     "output_type": "execute_result"
    },
    {
     "data": {
      "image/png": "[encoded data removed]",
      "text/plain": [
       "<Figure size 432x288 with 1 Axes>"
      ]
     },
     "metadata": {
      "needs_background": "light"
     },
     "output_type": "display_data"
    }
   ],
   "source": [
    "# Histogram plot of the feature column 'Like Count' with logarithmic values\n",
    "plt.hist(df['Log_Like Count'], bins=20)"
   ]
  },
  {
   "cell_type": "code",
   "execution_count": 41,
   "metadata": {},
   "outputs": [
    {
     "data": {
      "text/plain": [
       "{'whiskers': [<matplotlib.lines.Line2D at 0x2bf6bfbfbb0>,\n",
       "  <matplotlib.lines.Line2D at 0x2bf6bfbfe80>],\n",
       " 'caps': [<matplotlib.lines.Line2D at 0x2bf6bfd0190>,\n",
       "  <matplotlib.lines.Line2D at 0x2bf6bfd0460>],\n",
       " 'boxes': [<matplotlib.lines.Line2D at 0x2bf6bfbf8b0>],\n",
       " 'medians': [<matplotlib.lines.Line2D at 0x2bf6bfd0730>],\n",
       " 'fliers': [<matplotlib.lines.Line2D at 0x2bf6bfd0a00>],\n",
       " 'means': []}"
      ]
     },
     "execution_count": 41,
     "metadata": {},
     "output_type": "execute_result"
    },
    {
     "data": {
      "image/png": "[encoded data removed]",
      "text/plain": [
       "<Figure size 432x288 with 1 Axes>"
      ]
     },
     "metadata": {
      "needs_background": "light"
     },
     "output_type": "display_data"
    }
   ],
   "source": [
    "# Box plot of the feature column 'Like Count' without logarithmic values\n",
    "plt.boxplot(df['Like Count'])"
   ]
  },
  {
   "cell_type": "code",
   "execution_count": 42,
   "metadata": {
    "scrolled": true
   },
   "outputs": [
    {
     "data": {
      "text/plain": [
       "{'whiskers': [<matplotlib.lines.Line2D at 0x2bf6c02afa0>,\n",
       "  <matplotlib.lines.Line2D at 0x2bf6c0392b0>],\n",
       " 'caps': [<matplotlib.lines.Line2D at 0x2bf6c039580>,\n",
       "  <matplotlib.lines.Line2D at 0x2bf6c039850>],\n",
       " 'boxes': [<matplotlib.lines.Line2D at 0x2bf6c02acd0>],\n",
       " 'medians': [<matplotlib.lines.Line2D at 0x2bf6c039b20>],\n",
       " 'fliers': [<matplotlib.lines.Line2D at 0x2bf6c039df0>],\n",
       " 'means': []}"
      ]
     },
     "execution_count": 42,
     "metadata": {},
     "output_type": "execute_result"
    },
    {
     "data": {
      "image/png": "[encoded data removed]",
      "text/plain": [
       "<Figure size 432x288 with 1 Axes>"
      ]
     },
     "metadata": {
      "needs_background": "light"
     },
     "output_type": "display_data"
    }
   ],
   "source": [
    "# Histogram plot of the feature column 'Like Count' with logarithmic values\n",
    "plt.boxplot(df['Log_Like Count'])"
   ]
  },
  {
   "cell_type": "markdown",
   "metadata": {},
   "source": [
    "#### Trimming"
   ]
  },
  {
   "cell_type": "code",
   "execution_count": 43,
   "metadata": {},
   "outputs": [
    {
     "data": {
      "text/plain": [
       "(1450,\n",
       " Int64Index([   7,    9,   15,   23,   29,   30,   35,   40,   51,   52,\n",
       "             ...\n",
       "             9942, 9950, 9958, 9966, 9971, 9972, 9975, 9978, 9983, 9987],\n",
       "            dtype='int64', length=1450))"
      ]
     },
     "execution_count": 43,
     "metadata": {},
     "output_type": "execute_result"
    }
   ],
   "source": [
    "# Calculating IQR(Inter Quartile Range)\n",
    "Q1 = df['Like Count'].quantile(0.25) # Calculating first quartile with 25%\n",
    "Q3 = df['Like Count'].quantile(0.75) # Calculating third quartile with 75%\n",
    "IQR = Q3 - Q1 # Calculating Inter Quartile Range\n",
    "\n",
    "# Determining the boundaries\n",
    "# lower boundary = Q1 - (1.5 * IQR)\n",
    "# Upper boundary = Q3 + (1.5 * IQR)\n",
    "boundary = [Q1 - (1.5 * IQR), Q3 + (1.5 * IQR)]\n",
    "\n",
    "# getting the indexes of data which are out of boundary\n",
    "index = df[(df['Like Count'] >= boundary[1]) | (df['Like Count'] <= boundary[0])].index\n",
    "len(index), index"
   ]
  },
  {
   "cell_type": "code",
   "execution_count": 44,
   "metadata": {},
   "outputs": [
    {
     "data": {
      "text/html": [
       "<div>\n",
       "<style scoped>\n",
       "    .dataframe tbody tr th:only-of-type {\n",
       "        vertical-align: middle;\n",
       "    }\n",
       "\n",
       "    .dataframe tbody tr th {\n",
       "        vertical-align: top;\n",
       "    }\n",
       "\n",
       "    .dataframe thead th {\n",
       "        text-align: right;\n",
       "    }\n",
       "</style>\n",
       "<table border=\"1\" class=\"dataframe\">\n",
       "  <thead>\n",
       "    <tr style=\"text-align: right;\">\n",
       "      <th></th>\n",
       "      <th>Like Count</th>\n",
       "      <th>remove_punct</th>\n",
       "      <th>text_lemmatizer</th>\n",
       "      <th>Nw2Like Count</th>\n",
       "      <th>Log_Like Count</th>\n",
       "    </tr>\n",
       "  </thead>\n",
       "  <tbody>\n",
       "    <tr>\n",
       "      <th>0</th>\n",
       "      <td>0</td>\n",
       "      <td>chatgpt</td>\n",
       "      <td>[chatgpt]</td>\n",
       "      <td>0.0</td>\n",
       "      <td>0.0</td>\n",
       "    </tr>\n",
       "    <tr>\n",
       "      <th>1</th>\n",
       "      <td>0</td>\n",
       "      <td>chatgptsqlsql ai dbdashcomb  it leaders</td>\n",
       "      <td>[chatgptsqlsql, dbdashcomb, leader]</td>\n",
       "      <td>0.0</td>\n",
       "      <td>0.0</td>\n",
       "    </tr>\n",
       "    <tr>\n",
       "      <th>2</th>\n",
       "      <td>0</td>\n",
       "      <td>chatgpts information load is up to november i...</td>\n",
       "      <td>[chatgpts, information, load, november, think,...</td>\n",
       "      <td>0.0</td>\n",
       "      <td>0.0</td>\n",
       "    </tr>\n",
       "    <tr>\n",
       "      <th>3</th>\n",
       "      <td>1</td>\n",
       "      <td>hmm chat gpt is actually very valid</td>\n",
       "      <td>[hmm, chat, gpt, actually, valid]</td>\n",
       "      <td>1.0</td>\n",
       "      <td>0.0</td>\n",
       "    </tr>\n",
       "    <tr>\n",
       "      <th>4</th>\n",
       "      <td>0</td>\n",
       "      <td>claro es que a google se le escribe como oran...</td>\n",
       "      <td>[claro, que, google, escribe, como, orangutn, ...</td>\n",
       "      <td>0.0</td>\n",
       "      <td>0.0</td>\n",
       "    </tr>\n",
       "  </tbody>\n",
       "</table>\n",
       "</div>"
      ],
      "text/plain": [
       "   Like Count                                       remove_punct  \\\n",
       "0           0                                            chatgpt   \n",
       "1           0          chatgptsqlsql ai dbdashcomb  it leaders     \n",
       "2           0   chatgpts information load is up to november i...   \n",
       "3           1                hmm chat gpt is actually very valid   \n",
       "4           0   claro es que a google se le escribe como oran...   \n",
       "\n",
       "                                     text_lemmatizer  Nw2Like Count  \\\n",
       "0                                          [chatgpt]            0.0   \n",
       "1                [chatgptsqlsql, dbdashcomb, leader]            0.0   \n",
       "2  [chatgpts, information, load, november, think,...            0.0   \n",
       "3                  [hmm, chat, gpt, actually, valid]            1.0   \n",
       "4  [claro, que, google, escribe, como, orangutn, ...            0.0   \n",
       "\n",
       "   Log_Like Count  \n",
       "0             0.0  \n",
       "1             0.0  \n",
       "2             0.0  \n",
       "3             0.0  \n",
       "4             0.0  "
      ]
     },
     "execution_count": 44,
     "metadata": {},
     "output_type": "execute_result"
    }
   ],
   "source": [
    "# Removing all the data outside the boundary(Outliers)\n",
    "df.drop(index, inplace=True)\n",
    "df.head(5)"
   ]
  },
  {
   "cell_type": "code",
   "execution_count": 45,
   "metadata": {},
   "outputs": [
    {
     "data": {
      "image/png": "[encoded data removed]",
      "text/plain": [
       "<Figure size 432x288 with 1 Axes>"
      ]
     },
     "metadata": {
      "needs_background": "light"
     },
     "output_type": "display_data"
    }
   ],
   "source": [
    "# visualization of outliers\n",
    "import matplotlib.pyplot as plt\n",
    "\n",
    "plt.boxplot(df[\"Like Count\"])\n",
    "plt.show()"
   ]
  },
  {
   "cell_type": "markdown",
   "metadata": {},
   "source": [
    "#### Visualization of textual data"
   ]
  },
  {
   "cell_type": "code",
   "execution_count": 46,
   "metadata": {},
   "outputs": [
    {
     "data": {
      "text/plain": [
       "Index(['Like Count', 'remove_punct', 'text_lemmatizer', 'Nw2Like Count',\n",
       "       'Log_Like Count'],\n",
       "      dtype='object')"
      ]
     },
     "execution_count": 46,
     "metadata": {},
     "output_type": "execute_result"
    }
   ],
   "source": [
    "df.columns"
   ]
  },
  {
   "cell_type": "code",
   "execution_count": 47,
   "metadata": {
    "scrolled": true
   },
   "outputs": [
    {
     "data": {
      "text/html": [
       "<div>\n",
       "<style scoped>\n",
       "    .dataframe tbody tr th:only-of-type {\n",
       "        vertical-align: middle;\n",
       "    }\n",
       "\n",
       "    .dataframe tbody tr th {\n",
       "        vertical-align: top;\n",
       "    }\n",
       "\n",
       "    .dataframe thead th {\n",
       "        text-align: right;\n",
       "    }\n",
       "</style>\n",
       "<table border=\"1\" class=\"dataframe\">\n",
       "  <thead>\n",
       "    <tr style=\"text-align: right;\">\n",
       "      <th></th>\n",
       "      <th>remove_punct</th>\n",
       "      <th>text_lemmatizer</th>\n",
       "    </tr>\n",
       "  </thead>\n",
       "  <tbody>\n",
       "    <tr>\n",
       "      <th>0</th>\n",
       "      <td>chatgpt</td>\n",
       "      <td>[chatgpt]</td>\n",
       "    </tr>\n",
       "    <tr>\n",
       "      <th>1</th>\n",
       "      <td>chatgptsqlsql ai dbdashcomb  it leaders</td>\n",
       "      <td>[chatgptsqlsql, dbdashcomb, leader]</td>\n",
       "    </tr>\n",
       "    <tr>\n",
       "      <th>2</th>\n",
       "      <td>chatgpts information load is up to november i...</td>\n",
       "      <td>[chatgpts, information, load, november, think,...</td>\n",
       "    </tr>\n",
       "    <tr>\n",
       "      <th>3</th>\n",
       "      <td>hmm chat gpt is actually very valid</td>\n",
       "      <td>[hmm, chat, gpt, actually, valid]</td>\n",
       "    </tr>\n",
       "    <tr>\n",
       "      <th>4</th>\n",
       "      <td>claro es que a google se le escribe como oran...</td>\n",
       "      <td>[claro, que, google, escribe, como, orangutn, ...</td>\n",
       "    </tr>\n",
       "  </tbody>\n",
       "</table>\n",
       "</div>"
      ],
      "text/plain": [
       "                                        remove_punct  \\\n",
       "0                                            chatgpt   \n",
       "1          chatgptsqlsql ai dbdashcomb  it leaders     \n",
       "2   chatgpts information load is up to november i...   \n",
       "3                hmm chat gpt is actually very valid   \n",
       "4   claro es que a google se le escribe como oran...   \n",
       "\n",
       "                                     text_lemmatizer  \n",
       "0                                          [chatgpt]  \n",
       "1                [chatgptsqlsql, dbdashcomb, leader]  \n",
       "2  [chatgpts, information, load, november, think,...  \n",
       "3                  [hmm, chat, gpt, actually, valid]  \n",
       "4  [claro, que, google, escribe, como, orangutn, ...  "
      ]
     },
     "execution_count": 47,
     "metadata": {},
     "output_type": "execute_result"
    }
   ],
   "source": [
    "#dropping the outlier calculation columns\n",
    "df.drop(['Nw2Like Count','Log_Like Count', 'Like Count'], axis=1, inplace=True)\n",
    "df.head(5)"
   ]
  },
  {
   "cell_type": "markdown",
   "metadata": {},
   "source": [
    "#### Generating N-grams"
   ]
  },
  {
   "cell_type": "code",
   "execution_count": 48,
   "metadata": {},
   "outputs": [],
   "source": [
    "def get_n_gram(corpus: pd.Series, n: int=None, range: tuple=(2, 2)) -> list:\n",
    "    \"\"\"\n",
    "        Returns n-grams from a corpus.\n",
    "\n",
    "        ### Parameters\n",
    "        corpus: pd.Series\n",
    "            A dataframe series containing corpus.\n",
    "        n: int \n",
    "            The number of n-grams to return.\n",
    "        range: tuple\n",
    "            The range of n-grams to return.\n",
    "\n",
    "        ### Returns\n",
    "        list: \n",
    "            List of top occurring n-grams\n",
    "    \"\"\"\n",
    "    count_vector = CountVectorizer(ngram_range=range, stop_words='english').fit(corpus)\n",
    "    bag_of_words =  count_vector.fit_transform(corpus)\n",
    "    bg_sum = bag_of_words.sum(axis=0)\n",
    "    words_freq = [(word, bg_sum[0, idx]) for word, idx in count_vector.vocabulary_.items()]\n",
    "    words_freq = sorted(words_freq, key=lambda x: x[1], reverse=True)\n",
    "    return words_freq[:n]\n"
   ]
  },
  {
   "cell_type": "code",
   "execution_count": 49,
   "metadata": {},
   "outputs": [],
   "source": [
    "# getting bi common words\n",
    "bi_common_words = get_n_gram(df['remove_punct'], 15)"
   ]
  },
  {
   "cell_type": "code",
   "execution_count": 50,
   "metadata": {},
   "outputs": [
    {
     "data": {
      "text/plain": [
       "[('chat gpt', 941),\n",
       " ('use chatgpt', 146),\n",
       " ('using chatgpt', 141),\n",
       " ('chatgpt ai', 112),\n",
       " ('chatgpt people', 87),\n",
       " ('asked chatgpt', 86),\n",
       " ('like chatgpt', 80),\n",
       " ('people saying', 80),\n",
       " ('google run', 80),\n",
       " ('run money', 80),\n",
       " ('saying google', 79),\n",
       " ('ask chatgpt', 73),\n",
       " ('chatgpt write', 67),\n",
       " ('chatgpt api', 59),\n",
       " ('ai chatgpt', 58)]"
      ]
     },
     "execution_count": 50,
     "metadata": {},
     "output_type": "execute_result"
    }
   ],
   "source": [
    "bi_common_words"
   ]
  },
  {
   "cell_type": "code",
   "execution_count": 51,
   "metadata": {},
   "outputs": [],
   "source": [
    "def visualization_n_gram(common_words: list, title: str) -> None:\n",
    "    \"\"\"\n",
    "        Visualization of n-grams\n",
    "        \n",
    "        ### Parameters\n",
    "        common_words: list\n",
    "            list of common n_gram words \n",
    "            >>> [('chat gpt', 596),\n",
    "                    ('character limit', 259),\n",
    "                ]\n",
    "        title: str\n",
    "            Title of graph\n",
    "        ### Return\n",
    "        None\n",
    "    \"\"\"\n",
    "    # Create a dataframe \n",
    "    vis_df = pd.DataFrame(common_words, columns=['Tweet', 'Count'])\n",
    "    vis_df.plot(x='Tweet', y='Count', kind='bar', title=title)"
   ]
  },
  {
   "cell_type": "code",
   "execution_count": 52,
   "metadata": {
    "scrolled": true
   },
   "outputs": [
    {
     "data": {
      "image/png": "[encoded data removed]",
      "text/plain": [
       "<Figure size 432x288 with 1 Axes>"
      ]
     },
     "metadata": {
      "needs_background": "light"
     },
     "output_type": "display_data"
    }
   ],
   "source": [
    "visualization_n_gram(common_words=bi_common_words, title='The 15 most frequent bi-grams in the dataset')"
   ]
  },
  {
   "cell_type": "markdown",
   "metadata": {},
   "source": [
    "We have used CountVectorizer to find the bi-gram. This bar plot shows the 15 most frequent bi-gram in processed data. According to the bi-gram \"chat gpt\" has the highest frequency of count 800+ in the dataset."
   ]
  },
  {
   "cell_type": "code",
   "execution_count": 53,
   "metadata": {},
   "outputs": [
    {
     "data": {
      "text/plain": [
       "[('google run money', 80),\n",
       " ('chatgpt people saying', 79),\n",
       " ('people saying google', 79),\n",
       " ('saying google run', 79),\n",
       " ('working chatgptlike digital', 31),\n",
       " ('chatgptlike digital assistant', 31),\n",
       " ('digital assistant cars', 31),\n",
       " ('gm working chatgptlike', 29),\n",
       " ('la inteligencia artificial', 24),\n",
       " ('use openais chatgpt', 21),\n",
       " ('qu es chatgpt', 20),\n",
       " ('tools like chatgpt', 19),\n",
       " ('el chat gpt', 19),\n",
       " ('add chatgpt browser', 19),\n",
       " ('openais chatgpt api', 18)]"
      ]
     },
     "execution_count": 53,
     "metadata": {},
     "output_type": "execute_result"
    }
   ],
   "source": [
    "# getting tri common words\n",
    "tri_common_words = get_n_gram(df['remove_punct'], 15, range=(3,3))\n",
    "tri_common_words"
   ]
  },
  {
   "cell_type": "code",
   "execution_count": 54,
   "metadata": {},
   "outputs": [
    {
     "data": {
      "image/png": "[encoded data removed]",
      "text/plain": [
       "<Figure size 432x288 with 1 Axes>"
      ]
     },
     "metadata": {
      "needs_background": "light"
     },
     "output_type": "display_data"
    }
   ],
   "source": [
    "visualization_n_gram(tri_common_words, title='The 15 most frequent tri-grams in the dataset')"
   ]
  },
  {
   "cell_type": "markdown",
   "metadata": {},
   "source": [
    "We have used CountVectorizer to find the tri-gram. This bar plot shows the 15 most frequent tri-gram in processed data. According to the tri-gram \"google run money\" has the highest frequency in the dataset."
   ]
  },
  {
   "cell_type": "markdown",
   "metadata": {},
   "source": [
    "#### Generating a Word-Cloud"
   ]
  },
  {
   "cell_type": "code",
   "execution_count": 55,
   "metadata": {},
   "outputs": [],
   "source": [
    "# Converting the whole tokenized texts to a single text\n",
    "def convert_list_to_str(text_list: list) -> str:\n",
    "    \"\"\"\n",
    "        Convert a list of strings to a string.\n",
    "\n",
    "        ### Parameters\n",
    "        text_list: list\n",
    "            A list of strings\n",
    "\n",
    "        ### Returns\n",
    "        str:\n",
    "            A text of string\n",
    "    \"\"\"\n",
    "    str_text = ''\n",
    "    for i in text_list:\n",
    "        str_text += i +' '\n",
    "    return str_text"
   ]
  },
  {
   "cell_type": "code",
   "execution_count": 56,
   "metadata": {},
   "outputs": [],
   "source": [
    "# Joining all tokenized and lemmatized words into a single string\n",
    "all_text = \" \".join(df['text_lemmatizer'].apply(convert_list_to_str))"
   ]
  },
  {
   "cell_type": "code",
   "execution_count": 57,
   "metadata": {},
   "outputs": [],
   "source": [
    "# Generating wordCloud\n",
    "word_cloud = WordCloud(\n",
    "    width=3000,\n",
    "    height=3000,\n",
    "    stopwords=STOPWORDS,\n",
    "    mode=\"RGBA\",\n",
    "    background_color='white',\n",
    ").generate(all_text)"
   ]
  },
  {
   "cell_type": "code",
   "execution_count": 58,
   "metadata": {},
   "outputs": [
    {
     "data": {
      "image/png": "[encoded data removed]",
      "text/plain": [
       "<Figure size 720x720 with 1 Axes>"
      ]
     },
     "metadata": {
      "needs_background": "light"
     },
     "output_type": "display_data"
    }
   ],
   "source": [
    "plt.figure(figsize=(10, 10), facecolor=None)\n",
    "plt.imshow(word_cloud)\n",
    "plt.axis('off')\n",
    "plt.title(\"Word Cloud: lemmatized dataset\")\n",
    "plt.show()"
   ]
  },
  {
   "cell_type": "markdown",
   "metadata": {},
   "source": [
    "For this word cloud, we have joined all the word from lemmatized columns."
   ]
  },
  {
   "cell_type": "markdown",
   "metadata": {},
   "source": [
    "#### Reducing the dataset for smooth processing due to lack of high physical resources "
   ]
  },
  {
   "cell_type": "code",
   "execution_count": 59,
   "metadata": {},
   "outputs": [],
   "source": [
    "# reducing the dataset for smooth processing\n",
    "df = df.sample(5000)"
   ]
  },
  {
   "cell_type": "markdown",
   "metadata": {},
   "source": [
    "#### Word Vectorization with TFIDF"
   ]
  },
  {
   "cell_type": "code",
   "execution_count": 60,
   "metadata": {},
   "outputs": [],
   "source": [
    "vectorizer = TfidfVectorizer(stop_words='english', ngram_range=(1, 3))"
   ]
  },
  {
   "cell_type": "code",
   "execution_count": 61,
   "metadata": {},
   "outputs": [],
   "source": [
    "X = vectorizer.fit_transform(df['text_lemmatizer'].map(lambda x: ' '.join(x)).tolist())"
   ]
  },
  {
   "cell_type": "code",
   "execution_count": 62,
   "metadata": {},
   "outputs": [
    {
     "data": {
      "text/plain": [
       "<5000x74495 sparse matrix of type '<class 'numpy.float64'>'\n",
       "\twith 111372 stored elements in Compressed Sparse Row format>"
      ]
     },
     "execution_count": 62,
     "metadata": {},
     "output_type": "execute_result"
    }
   ],
   "source": [
    "X"
   ]
  },
  {
   "cell_type": "code",
   "execution_count": 63,
   "metadata": {},
   "outputs": [
    {
     "data": {
      "text/plain": [
       "(5000, 74495)"
      ]
     },
     "execution_count": 63,
     "metadata": {},
     "output_type": "execute_result"
    }
   ],
   "source": [
    "X.shape"
   ]
  },
  {
   "cell_type": "code",
   "execution_count": 64,
   "metadata": {},
   "outputs": [],
   "source": [
    "# converting the vectorized data to dataframe\n",
    "df_tfidf = pd.DataFrame(X.toarray(), columns=vectorizer.get_feature_names_out())"
   ]
  },
  {
   "cell_type": "markdown",
   "metadata": {},
   "source": [
    "#### Dimensionality Reduction -> Principal Component Analysis"
   ]
  },
  {
   "cell_type": "code",
   "execution_count": 65,
   "metadata": {},
   "outputs": [
    {
     "name": "stdout",
     "output_type": "stream",
     "text": [
      "Original data shape:  (5000, 74495)\n",
      "Transformed data shape:  (5000, 50)\n"
     ]
    }
   ],
   "source": [
    "from sklearn.decomposition import PCA\n",
    "import numpy as np\n",
    "\n",
    "# creating a PCA object and reducing our feature vector columns to 50\n",
    "pca = PCA(n_components=50)\n",
    "\n",
    "# fit the PCA model to the data and transform it\n",
    "df = pca.fit_transform(df_tfidf)\n",
    "\n",
    "# print the original data shape and the PCA transformed data shape\n",
    "print(\"Original data shape: \", df_tfidf.shape)\n",
    "print(\"Transformed data shape: \", df.shape)\n"
   ]
  },
  {
   "cell_type": "markdown",
   "metadata": {},
   "source": [
    "#### KMeans Clustering"
   ]
  },
  {
   "cell_type": "code",
   "execution_count": 66,
   "metadata": {},
   "outputs": [],
   "source": [
    "from sklearn.cluster import KMeans\n",
    "from sklearn.metrics import ConfusionMatrixDisplay\n",
    "from scipy.spatial.distance import cdist"
   ]
  },
  {
   "cell_type": "code",
   "execution_count": 68,
   "metadata": {},
   "outputs": [],
   "source": [
    "# Building the clustering model and calculating the values of the Distortion and Inertia\n",
    "distortions = []\n",
    "inertias = []\n",
    "clusters = range(1, 10)\n",
    "\n",
    "# KMeans algorithm for cluster of 1 to 10\n",
    "for k in clusters:\n",
    "    # Building and fitting the model\n",
    "    kmeanModel = KMeans(n_clusters=k)\n",
    "    kmeanModel.fit_predict(df)  \n",
    "    distortions.append(sum(np.min(cdist(df, kmeanModel.cluster_centers_,'euclidean'), axis=1)) / df.shape[0])\n",
    "    inertias.append(kmeanModel.inertia_)"
   ]
  },
  {
   "cell_type": "code",
   "execution_count": 69,
   "metadata": {},
   "outputs": [
    {
     "data": {
      "image/png": "[encoded data removed]",
      "text/plain": [
       "<Figure size 432x288 with 1 Axes>"
      ]
     },
     "metadata": {
      "needs_background": "light"
     },
     "output_type": "display_data"
    }
   ],
   "source": [
    "# Tabulating and Visualizing the results using the different values of Distortion\n",
    "plt.plot(clusters, distortions, 'bx-')\n",
    "plt.xlabel('Values of K')\n",
    "plt.ylabel('Distortion')\n",
    "plt.title('The Elbow Method using Distortion')\n",
    "plt.show()"
   ]
  },
  {
   "cell_type": "code",
   "execution_count": 70,
   "metadata": {},
   "outputs": [
    {
     "data": {
      "image/png": "[encoded data removed]",
      "text/plain": [
       "<Figure size 432x288 with 1 Axes>"
      ]
     },
     "metadata": {
      "needs_background": "light"
     },
     "output_type": "display_data"
    }
   ],
   "source": [
    "# Tabulating and Visualizing the results using the different values of inertias\n",
    "plt.plot(clusters, inertias, 'bx-')\n",
    "plt.xlabel('Values of K')\n",
    "plt.ylabel('Inertia')\n",
    "plt.title('The Elbow Method using Inertia')\n",
    "plt.show()"
   ]
  },
  {
   "cell_type": "markdown",
   "metadata": {},
   "source": [
    "To determine the optimal number of clusters, we have to select the value of k at the “elbow” ie the point after which the distortion/inertia start decreasing in a linear fashion. Thus for the given data, we conclude that the optimal number of clusters for the data is 2."
   ]
  },
  {
   "cell_type": "code",
   "execution_count": 71,
   "metadata": {},
   "outputs": [],
   "source": [
    "# Implementing KMeans algorithm with optimal number of clusters =2 \n",
    "clusters = 2\n",
    "\n",
    "#Initialize the class object\n",
    "kmeans = KMeans(n_clusters= clusters)"
   ]
  },
  {
   "cell_type": "code",
   "execution_count": 72,
   "metadata": {},
   "outputs": [],
   "source": [
    "#predict the labels of clusters.\n",
    "label = kmeans.fit_predict(df)"
   ]
  },
  {
   "cell_type": "code",
   "execution_count": 73,
   "metadata": {},
   "outputs": [],
   "source": [
    "u_labels = np.unique(label)"
   ]
  },
  {
   "cell_type": "code",
   "execution_count": 74,
   "metadata": {},
   "outputs": [
    {
     "data": {
      "image/png": "[encoded data removed]",
      "text/plain": [
       "<Figure size 432x288 with 1 Axes>"
      ]
     },
     "metadata": {
      "needs_background": "light"
     },
     "output_type": "display_data"
    }
   ],
   "source": [
    "#plotting the results:\n",
    "for i in u_labels:\n",
    "    plt.scatter(df[label == i , 0] , df[label == i , 1] , label = i)\n",
    "plt.legend()\n",
    "plt.show()"
   ]
  },
  {
   "cell_type": "markdown",
   "metadata": {},
   "source": [
    "#### Pandas Profiling of final dataset"
   ]
  },
  {
   "cell_type": "code",
   "execution_count": 358,
   "metadata": {},
   "outputs": [],
   "source": [
    "import pandas_profiling as pp"
   ]
  },
  {
   "cell_type": "code",
   "execution_count": 359,
   "metadata": {},
   "outputs": [],
   "source": [
    "profile = pp.ProfileReport(pd.DataFrame(X_pca), minimal=True)"
   ]
  },
  {
   "cell_type": "code",
   "execution_count": 360,
   "metadata": {},
   "outputs": [
    {
     "data": {
      "application/vnd.jupyter.widget-view+json": {
       "model_id": "a7d569894c8c439b844eb0da8607934d",
       "version_major": 2,
       "version_minor": 0
      },
      "text/plain": [
       "Summarize dataset:   0%|          | 0/5 [00:00<?, ?it/s]"
      ]
     },
     "metadata": {},
     "output_type": "display_data"
    },
    {
     "data": {
      "application/vnd.jupyter.widget-view+json": {
       "model_id": "901418428d1a47759372157ddc27b8c0",
       "version_major": 2,
       "version_minor": 0
      },
      "text/plain": [
       "Generate report structure:   0%|          | 0/1 [00:00<?, ?it/s]"
      ]
     },
     "metadata": {},
     "output_type": "display_data"
    },
    {
     "data": {
      "application/vnd.jupyter.widget-view+json": {
       "model_id": "475bb76cecdf4df9924ad4b00686631c",
       "version_major": 2,
       "version_minor": 0
      },
      "text/plain": [
       "Render HTML:   0%|          | 0/1 [00:00<?, ?it/s]"
      ]
     },
     "metadata": {},
     "output_type": "display_data"
    },
    {
     "name": "stderr",
     "output_type": "stream",
     "text": [
      "C:\\Users\\DELL\\AppData\\Roaming\\Python\\Python39\\site-packages\\pandas_profiling\\profile_report.py:314: UserWarning: Extension  not supported. For now we assume .html was intended. To remove this warning, please use .html or .json.\n",
      "  warnings.warn(\n"
     ]
    },
    {
     "data": {
      "application/vnd.jupyter.widget-view+json": {
       "model_id": "5dd22fc0c32d4ee58e3c1cb03ebd5cd9",
       "version_major": 2,
       "version_minor": 0
      },
      "text/plain": [
       "Export report to file:   0%|          | 0/1 [00:00<?, ?it/s]"
      ]
     },
     "metadata": {},
     "output_type": "display_data"
    }
   ],
   "source": [
    "profile.to_file('chatgpt_tweets_data_profile')"
   ]
  }
 ],
 "metadata": {
  "kernelspec": {
   "display_name": "Python 3 (ipykernel)",
   "language": "python",
   "name": "python3"
  },
  "language_info": {
   "codemirror_mode": {
    "name": "ipython",
    "version": 3
   },
   "file_extension": ".py",
   "mimetype": "text/x-python",
   "name": "python",
   "nbconvert_exporter": "python",
   "pygments_lexer": "ipython3",
   "version": "3.9.12"
  },
  "vscode": {
   "interpreter": {
    "hash": "47d7a3528df19f6d7d5b443030394cb1b3b5540a28bb20dc453d994d1e3e4878"
   }
  }
 },
 "nbformat": 4,
 "nbformat_minor": 2
}
