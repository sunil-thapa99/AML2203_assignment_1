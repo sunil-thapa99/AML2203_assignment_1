{
 "cells": [
  {
   "cell_type": "markdown",
   "metadata": {},
   "source": [
    "## Data Wrangling"
   ]
  },
  {
   "cell_type": "code",
   "execution_count": 1,
   "metadata": {},
   "outputs": [],
   "source": [
    "# !pip install wordcloud\n",
    "# !pip install snscrape\n",
    "\n",
    "# Built-in package\n",
    "import re\n",
    "from string import punctuation\n",
    "\n",
    "# Plotting package\n",
    "import matplotlib.pyplot as plt\n",
    "import seaborn as sns\n",
    "\n",
    "# NLTK package\n",
    "import nltk\n",
    "from nltk.tokenize import RegexpTokenizer, WhitespaceTokenizer, word_tokenize\n",
    "from nltk.stem import WordNetLemmatizer\n",
    "from nltk.corpus import stopwords\n",
    "import en_core_web_sm\n",
    "from wordcloud import WordCloud, STOPWORDS, ImageColorGenerator\n",
    "\n",
    "# Scikit-Learn package\n",
    "from sklearn.feature_extraction.text import CountVectorizer, TfidfVectorizer, TfidfTransformer\n",
    "from sklearn.metrics.pairwise import cosine_similarity\n",
    "from sklearn.model_selection import train_test_split\n",
    "\n",
    "# Mathematical operation package\n",
    "import pandas as pd\n",
    "import numpy as np\n",
    "\n",
    "# twitter scrapper\n",
    "import snscrape.modules.twitter as sntwitter\n"
   ]
  },
  {
   "cell_type": "code",
   "execution_count": 2,
   "metadata": {},
   "outputs": [
    {
     "data": {
      "text/html": [
       "<div>\n",
       "<style scoped>\n",
       "    .dataframe tbody tr th:only-of-type {\n",
       "        vertical-align: middle;\n",
       "    }\n",
       "\n",
       "    .dataframe tbody tr th {\n",
       "        vertical-align: top;\n",
       "    }\n",
       "\n",
       "    .dataframe thead th {\n",
       "        text-align: right;\n",
       "    }\n",
       "</style>\n",
       "<table border=\"1\" class=\"dataframe\">\n",
       "  <thead>\n",
       "    <tr style=\"text-align: right;\">\n",
       "      <th></th>\n",
       "      <th>Datetime</th>\n",
       "      <th>Tweet Id</th>\n",
       "      <th>Text</th>\n",
       "      <th>Username</th>\n",
       "      <th>Like Count</th>\n",
       "    </tr>\n",
       "  </thead>\n",
       "  <tbody>\n",
       "    <tr>\n",
       "      <th>0</th>\n",
       "      <td>2023-03-12 23:59:59+00:00</td>\n",
       "      <td>1635068150483156993</td>\n",
       "      <td>米山議員の行動原理は「強烈な自己顕示欲」ですよ。それをベースに、パターンに応じて周囲に賞賛さ...</td>\n",
       "      <td>k0ii6</td>\n",
       "      <td>0</td>\n",
       "    </tr>\n",
       "    <tr>\n",
       "      <th>1</th>\n",
       "      <td>2023-03-12 23:59:59+00:00</td>\n",
       "      <td>1635068148809621504</td>\n",
       "      <td>ChatGPTでSQLを自動生成する「SQL AI アシスタント」、DB管理画面のローコード...</td>\n",
       "      <td>Nautilus99</td>\n",
       "      <td>0</td>\n",
       "    </tr>\n",
       "    <tr>\n",
       "      <th>2</th>\n",
       "      <td>2023-03-12 23:59:52+00:00</td>\n",
       "      <td>1635068120623882241</td>\n",
       "      <td>@criprights Chatgpt's information load is up t...</td>\n",
       "      <td>FreoPope</td>\n",
       "      <td>0</td>\n",
       "    </tr>\n",
       "    <tr>\n",
       "      <th>3</th>\n",
       "      <td>2023-03-12 23:59:51+00:00</td>\n",
       "      <td>1635068117482356737</td>\n",
       "      <td>Hmm chat GPT is actually very valid</td>\n",
       "      <td>NyamekyeOA</td>\n",
       "      <td>1</td>\n",
       "    </tr>\n",
       "    <tr>\n",
       "      <th>4</th>\n",
       "      <td>2023-03-12 23:59:48+00:00</td>\n",
       "      <td>1635068101980213248</td>\n",
       "      <td>@BllrsMer @leonardovalente @LeoPiccioli Claro ...</td>\n",
       "      <td>Brancamonteh</td>\n",
       "      <td>0</td>\n",
       "    </tr>\n",
       "  </tbody>\n",
       "</table>\n",
       "</div>"
      ],
      "text/plain": [
       "                    Datetime             Tweet Id  \\\n",
       "0  2023-03-12 23:59:59+00:00  1635068150483156993   \n",
       "1  2023-03-12 23:59:59+00:00  1635068148809621504   \n",
       "2  2023-03-12 23:59:52+00:00  1635068120623882241   \n",
       "3  2023-03-12 23:59:51+00:00  1635068117482356737   \n",
       "4  2023-03-12 23:59:48+00:00  1635068101980213248   \n",
       "\n",
       "                                                Text      Username  Like Count  \n",
       "0  米山議員の行動原理は「強烈な自己顕示欲」ですよ。それをベースに、パターンに応じて周囲に賞賛さ...         k0ii6           0  \n",
       "1  ChatGPTでSQLを自動生成する「SQL AI アシスタント」、DB管理画面のローコード...    Nautilus99           0  \n",
       "2  @criprights Chatgpt's information load is up t...      FreoPope           0  \n",
       "3                Hmm chat GPT is actually very valid    NyamekyeOA           1  \n",
       "4  @BllrsMer @leonardovalente @LeoPiccioli Claro ...  Brancamonteh           0  "
      ]
     },
     "execution_count": 2,
     "metadata": {},
     "output_type": "execute_result"
    }
   ],
   "source": [
    "# Importing of scraped data from twitter with word chatgpt\n",
    "df = pd.read_csv('chatgpt_tweet_new.csv')\n",
    "df.head()"
   ]
  },
  {
   "cell_type": "code",
   "execution_count": 3,
   "metadata": {},
   "outputs": [],
   "source": [
    "pattern = '&(amp|lt|gt);?'\n",
    "pattern_replace_map = {\n",
    "    '&lt;': '<',\n",
    "    '&gt;': '>',\n",
    "    '&amp;': 'and'\n",
    "}\n",
    "\n",
    "# Define a function to replace the matches with their corresponding values\n",
    "def replace_match(match):\n",
    "    return pattern_replace_map[match.group(0)]\n",
    "\n",
    "\n",
    "def tweet_process(tweet_text: str) -> str:\n",
    "    \"\"\"\n",
    "        Processes the tweet text to remove any non-ascii characters.\n",
    "        \n",
    "        ### Parameters:\n",
    "        text: str\n",
    "            Tweet text\n",
    "\n",
    "        ### Returns:\n",
    "        str:\n",
    "            A string only containing ascii characters \n",
    "    \"\"\"\n",
    "    tweet_text = re.sub('https://\\S+|http://\\S+', '', tweet_text) # Remove whole links\n",
    "    tweet_text = re.sub(pattern, replace_match, tweet_text) # Converting html tags references\n",
    "    tweet_text = re.sub('\\d+', '', tweet_text) # removing numbers from text\n",
    "    # Remove new lines, mentions, hastags, and multiple spaces\n",
    "    tweet_text = re.sub('[\\r\\n]+', ' ', tweet_text)\n",
    "    tweet_text = re.sub(r'@\\w+', '', tweet_text)\n",
    "    tweet_text = re.sub(r'#\\w+', '', tweet_text)\n",
    "    tweet_text = re.sub('\\s+', ' ', tweet_text)\n",
    "    tweet_text = re.sub(r\"\\b\\d{4}-\\d{2}-\\d{2}\\b|\\b\\d{2}:\\d{2}:\\d{2}\\b\", \"\", tweet_text) # Remove datetime string\n",
    "    return tweet_text.lower()\n"
   ]
  },
  {
   "cell_type": "code",
   "execution_count": 4,
   "metadata": {},
   "outputs": [],
   "source": [
    "# Creating a new column for precessed tweet text\n",
    "df['processed_tweet'] = df['Text'].apply(tweet_process)"
   ]
  },
  {
   "cell_type": "code",
   "execution_count": 5,
   "metadata": {},
   "outputs": [
    {
     "data": {
      "text/html": [
       "<div>\n",
       "<style scoped>\n",
       "    .dataframe tbody tr th:only-of-type {\n",
       "        vertical-align: middle;\n",
       "    }\n",
       "\n",
       "    .dataframe tbody tr th {\n",
       "        vertical-align: top;\n",
       "    }\n",
       "\n",
       "    .dataframe thead th {\n",
       "        text-align: right;\n",
       "    }\n",
       "</style>\n",
       "<table border=\"1\" class=\"dataframe\">\n",
       "  <thead>\n",
       "    <tr style=\"text-align: right;\">\n",
       "      <th></th>\n",
       "      <th>Datetime</th>\n",
       "      <th>Tweet Id</th>\n",
       "      <th>Text</th>\n",
       "      <th>Username</th>\n",
       "      <th>Like Count</th>\n",
       "      <th>processed_tweet</th>\n",
       "    </tr>\n",
       "  </thead>\n",
       "  <tbody>\n",
       "    <tr>\n",
       "      <th>0</th>\n",
       "      <td>2023-03-12 23:59:59+00:00</td>\n",
       "      <td>1635068150483156993</td>\n",
       "      <td>米山議員の行動原理は「強烈な自己顕示欲」ですよ。それをベースに、パターンに応じて周囲に賞賛さ...</td>\n",
       "      <td>k0ii6</td>\n",
       "      <td>0</td>\n",
       "      <td>米山議員の行動原理は「強烈な自己顕示欲」ですよ。それをベースに、パターンに応じて周囲に賞賛さ...</td>\n",
       "    </tr>\n",
       "    <tr>\n",
       "      <th>1</th>\n",
       "      <td>2023-03-12 23:59:59+00:00</td>\n",
       "      <td>1635068148809621504</td>\n",
       "      <td>ChatGPTでSQLを自動生成する「SQL AI アシスタント」、DB管理画面のローコード...</td>\n",
       "      <td>Nautilus99</td>\n",
       "      <td>0</td>\n",
       "      <td>chatgptでsqlを自動生成する「sql ai アシスタント」、db管理画面のローコード...</td>\n",
       "    </tr>\n",
       "    <tr>\n",
       "      <th>2</th>\n",
       "      <td>2023-03-12 23:59:52+00:00</td>\n",
       "      <td>1635068120623882241</td>\n",
       "      <td>@criprights Chatgpt's information load is up t...</td>\n",
       "      <td>FreoPope</td>\n",
       "      <td>0</td>\n",
       "      <td>chatgpt's information load is up to november ...</td>\n",
       "    </tr>\n",
       "    <tr>\n",
       "      <th>3</th>\n",
       "      <td>2023-03-12 23:59:51+00:00</td>\n",
       "      <td>1635068117482356737</td>\n",
       "      <td>Hmm chat GPT is actually very valid</td>\n",
       "      <td>NyamekyeOA</td>\n",
       "      <td>1</td>\n",
       "      <td>hmm chat gpt is actually very valid</td>\n",
       "    </tr>\n",
       "    <tr>\n",
       "      <th>4</th>\n",
       "      <td>2023-03-12 23:59:48+00:00</td>\n",
       "      <td>1635068101980213248</td>\n",
       "      <td>@BllrsMer @leonardovalente @LeoPiccioli Claro ...</td>\n",
       "      <td>Brancamonteh</td>\n",
       "      <td>0</td>\n",
       "      <td>claro es que a google se le escribe como oran...</td>\n",
       "    </tr>\n",
       "  </tbody>\n",
       "</table>\n",
       "</div>"
      ],
      "text/plain": [
       "                    Datetime             Tweet Id  \\\n",
       "0  2023-03-12 23:59:59+00:00  1635068150483156993   \n",
       "1  2023-03-12 23:59:59+00:00  1635068148809621504   \n",
       "2  2023-03-12 23:59:52+00:00  1635068120623882241   \n",
       "3  2023-03-12 23:59:51+00:00  1635068117482356737   \n",
       "4  2023-03-12 23:59:48+00:00  1635068101980213248   \n",
       "\n",
       "                                                Text      Username  \\\n",
       "0  米山議員の行動原理は「強烈な自己顕示欲」ですよ。それをベースに、パターンに応じて周囲に賞賛さ...         k0ii6   \n",
       "1  ChatGPTでSQLを自動生成する「SQL AI アシスタント」、DB管理画面のローコード...    Nautilus99   \n",
       "2  @criprights Chatgpt's information load is up t...      FreoPope   \n",
       "3                Hmm chat GPT is actually very valid    NyamekyeOA   \n",
       "4  @BllrsMer @leonardovalente @LeoPiccioli Claro ...  Brancamonteh   \n",
       "\n",
       "   Like Count                                    processed_tweet  \n",
       "0           0  米山議員の行動原理は「強烈な自己顕示欲」ですよ。それをベースに、パターンに応じて周囲に賞賛さ...  \n",
       "1           0  chatgptでsqlを自動生成する「sql ai アシスタント」、db管理画面のローコード...  \n",
       "2           0   chatgpt's information load is up to november ...  \n",
       "3           1                hmm chat gpt is actually very valid  \n",
       "4           0   claro es que a google se le escribe como oran...  "
      ]
     },
     "execution_count": 5,
     "metadata": {},
     "output_type": "execute_result"
    }
   ],
   "source": [
    "df.head()"
   ]
  },
  {
   "cell_type": "code",
   "execution_count": 6,
   "metadata": {},
   "outputs": [
    {
     "data": {
      "text/html": [
       "<div>\n",
       "<style scoped>\n",
       "    .dataframe tbody tr th:only-of-type {\n",
       "        vertical-align: middle;\n",
       "    }\n",
       "\n",
       "    .dataframe tbody tr th {\n",
       "        vertical-align: top;\n",
       "    }\n",
       "\n",
       "    .dataframe thead th {\n",
       "        text-align: right;\n",
       "    }\n",
       "</style>\n",
       "<table border=\"1\" class=\"dataframe\">\n",
       "  <thead>\n",
       "    <tr style=\"text-align: right;\">\n",
       "      <th></th>\n",
       "      <th>Datetime</th>\n",
       "      <th>Tweet Id</th>\n",
       "      <th>Text</th>\n",
       "      <th>Username</th>\n",
       "      <th>Like Count</th>\n",
       "      <th>processed_tweet</th>\n",
       "    </tr>\n",
       "  </thead>\n",
       "  <tbody>\n",
       "    <tr>\n",
       "      <th>7122</th>\n",
       "      <td>2023-03-12 16:44:14+00:00</td>\n",
       "      <td>1634958488140156928</td>\n",
       "      <td>@news_brasinha Quem fazer conta de cabeça hj j...</td>\n",
       "      <td>fwor2023</td>\n",
       "      <td>0</td>\n",
       "      <td>quem fazer conta de cabeça hj já tamos digita...</td>\n",
       "    </tr>\n",
       "    <tr>\n",
       "      <th>1134</th>\n",
       "      <td>2023-03-12 22:43:50+00:00</td>\n",
       "      <td>1635048986158727169</td>\n",
       "      <td>[사단법인 유엔미래포럼] [ChatGPT가 로봇을 제어] Microsoft 덕분에 ...</td>\n",
       "      <td>indaily3</td>\n",
       "      <td>0</td>\n",
       "      <td>[사단법인 유엔미래포럼] [chatgpt가 로봇을 제어] microsoft 덕분에 ...</td>\n",
       "    </tr>\n",
       "    <tr>\n",
       "      <th>7442</th>\n",
       "      <td>2023-03-12 16:28:59+00:00</td>\n",
       "      <td>1634954653308952576</td>\n",
       "      <td>@edisonvsemma 没使用过chatgpt，或许他能翻译的更好！</td>\n",
       "      <td>lile69960041</td>\n",
       "      <td>1</td>\n",
       "      <td>没使用过chatgpt，或许他能翻译的更好！</td>\n",
       "    </tr>\n",
       "    <tr>\n",
       "      <th>8421</th>\n",
       "      <td>2023-03-12 15:37:22+00:00</td>\n",
       "      <td>1634941662572183553</td>\n",
       "      <td>Chat GPTで自分の書いた英文を丁寧にしてくれるように頼むと、Thank youをWe ...</td>\n",
       "      <td>KMITANI</td>\n",
       "      <td>14</td>\n",
       "      <td>chat gptで自分の書いた英文を丁寧にしてくれるように頼むと、thank youをwe ...</td>\n",
       "    </tr>\n",
       "    <tr>\n",
       "      <th>7890</th>\n",
       "      <td>2023-03-12 16:04:36+00:00</td>\n",
       "      <td>1634948513544159232</td>\n",
       "      <td>ChatGPT and Midjourney have changed advertisin...</td>\n",
       "      <td>brandman3000</td>\n",
       "      <td>2</td>\n",
       "      <td>chatgpt and midjourney have changed advertisin...</td>\n",
       "    </tr>\n",
       "    <tr>\n",
       "      <th>4479</th>\n",
       "      <td>2023-03-12 19:16:57+00:00</td>\n",
       "      <td>1634996922233819137</td>\n",
       "      <td>JAJAJAJAJA Poema Shizaya por ChatGPT https://t...</td>\n",
       "      <td>ChirlyGalvan</td>\n",
       "      <td>0</td>\n",
       "      <td>jajajajaja poema shizaya por chatgpt</td>\n",
       "    </tr>\n",
       "    <tr>\n",
       "      <th>1807</th>\n",
       "      <td>2023-03-12 22:04:15+00:00</td>\n",
       "      <td>1635039022337884162</td>\n",
       "      <td>I asked ChatGPT for a prompt for a sikhoon fan...</td>\n",
       "      <td>SikRoong</td>\n",
       "      <td>1</td>\n",
       "      <td>i asked chatgpt for a prompt for a sikhoon fan...</td>\n",
       "    </tr>\n",
       "    <tr>\n",
       "      <th>3077</th>\n",
       "      <td>2023-03-12 20:46:37+00:00</td>\n",
       "      <td>1635019485748011008</td>\n",
       "      <td>Imagine how much more useful #AmazonAlexa woul...</td>\n",
       "      <td>coolguycarlos</td>\n",
       "      <td>0</td>\n",
       "      <td>imagine how much more useful would be if it in...</td>\n",
       "    </tr>\n",
       "    <tr>\n",
       "      <th>81</th>\n",
       "      <td>2023-03-12 23:54:35+00:00</td>\n",
       "      <td>1635066789095968768</td>\n",
       "      <td>おはようございます。\\r\\n\\r\\n久しぶりのTwitterです。\\r\\n久しぶりのツイート...</td>\n",
       "      <td>Advance_1993</td>\n",
       "      <td>18</td>\n",
       "      <td>おはようございます。 久しぶりのtwitterです。 久しぶりのツイートです。 久しぶりに書...</td>\n",
       "    </tr>\n",
       "    <tr>\n",
       "      <th>1764</th>\n",
       "      <td>2023-03-12 22:06:51+00:00</td>\n",
       "      <td>1635039676502515712</td>\n",
       "      <td>Il ChatGPT aggiornato sarà in grado di creare ...</td>\n",
       "      <td>My_Salute</td>\n",
       "      <td>1</td>\n",
       "      <td>il chatgpt aggiornato sarà in grado di creare ...</td>\n",
       "    </tr>\n",
       "    <tr>\n",
       "      <th>3298</th>\n",
       "      <td>2023-03-12 20:32:40+00:00</td>\n",
       "      <td>1635015977409855488</td>\n",
       "      <td>@DingoRomuald To że Ms i G. coś ma, to jeszcze...</td>\n",
       "      <td>przekret</td>\n",
       "      <td>0</td>\n",
       "      <td>to że ms i g. coś ma, to jeszcze nie oznacza,...</td>\n",
       "    </tr>\n",
       "    <tr>\n",
       "      <th>4263</th>\n",
       "      <td>2023-03-12 19:31:10+00:00</td>\n",
       "      <td>1635000498003787776</td>\n",
       "      <td>@Russell_CNX btw `'current government`' in thi...</td>\n",
       "      <td>SduH</td>\n",
       "      <td>0</td>\n",
       "      <td>btw `'current government`' in this context is...</td>\n",
       "    </tr>\n",
       "    <tr>\n",
       "      <th>2093</th>\n",
       "      <td>2023-03-12 21:46:12+00:00</td>\n",
       "      <td>1635034482687262727</td>\n",
       "      <td>Move over Wordle, ChatGPT just invented a new ...</td>\n",
       "      <td>iMore</td>\n",
       "      <td>10</td>\n",
       "      <td>move over wordle, chatgpt just invented a new ...</td>\n",
       "    </tr>\n",
       "    <tr>\n",
       "      <th>5548</th>\n",
       "      <td>2023-03-12 18:14:12+00:00</td>\n",
       "      <td>1634981130301739010</td>\n",
       "      <td>https://t.co/UXD05sK7bR . For Sale : \\r\\n\\r\\n🔥...</td>\n",
       "      <td>DomainNames777</td>\n",
       "      <td>5</td>\n",
       "      <td>. for sale : 🔥 one word 🔥 global monthly sear...</td>\n",
       "    </tr>\n",
       "    <tr>\n",
       "      <th>7681</th>\n",
       "      <td>2023-03-12 16:15:26+00:00</td>\n",
       "      <td>1634951242345742336</td>\n",
       "      <td>People working with ChatGPT API, anyone know w...</td>\n",
       "      <td>1xdevloper</td>\n",
       "      <td>1</td>\n",
       "      <td>people working with chatgpt api, anyone know w...</td>\n",
       "    </tr>\n",
       "    <tr>\n",
       "      <th>4614</th>\n",
       "      <td>2023-03-12 19:09:01+00:00</td>\n",
       "      <td>1634994923123638272</td>\n",
       "      <td>[日本経済新聞]\\r\\n ChatGPTが語る「ヒトの強み」 \\r\\n(会員限定🔒) htt...</td>\n",
       "      <td>nikkei_top</td>\n",
       "      <td>0</td>\n",
       "      <td>[日本経済新聞] chatgptが語る「ヒトの強み」 (会員限定🔒)</td>\n",
       "    </tr>\n",
       "    <tr>\n",
       "      <th>5027</th>\n",
       "      <td>2023-03-12 18:45:22+00:00</td>\n",
       "      <td>1634988973897707521</td>\n",
       "      <td>romantizar a miña vida sería moito máis sinxel...</td>\n",
       "      <td>motxomami</td>\n",
       "      <td>6</td>\n",
       "      <td>romantizar a miña vida sería moito máis sinxel...</td>\n",
       "    </tr>\n",
       "    <tr>\n",
       "      <th>5774</th>\n",
       "      <td>2023-03-12 18:00:52+00:00</td>\n",
       "      <td>1634977775290568705</td>\n",
       "      <td>@sama Can #ChatGPT solve it?</td>\n",
       "      <td>Pig_Pic_</td>\n",
       "      <td>1</td>\n",
       "      <td>can solve it?</td>\n",
       "    </tr>\n",
       "    <tr>\n",
       "      <th>3397</th>\n",
       "      <td>2023-03-12 20:26:53+00:00</td>\n",
       "      <td>1635014522078625793</td>\n",
       "      <td>@davecraige It's tempting to think that becaus...</td>\n",
       "      <td>Crypto__Yogi</td>\n",
       "      <td>1</td>\n",
       "      <td>it's tempting to think that because complex t...</td>\n",
       "    </tr>\n",
       "    <tr>\n",
       "      <th>2977</th>\n",
       "      <td>2023-03-12 20:54:41+00:00</td>\n",
       "      <td>1635021518374842373</td>\n",
       "      <td>恣意的に言わせてる感もあるので、意思があるかには懐疑的ですが\\r\\n何を学習したことでこうな...</td>\n",
       "      <td>beginner_ai</td>\n",
       "      <td>3</td>\n",
       "      <td>恣意的に言わせてる感もあるので、意思があるかには懐疑的ですが 何を学習したことでこうなるのか...</td>\n",
       "    </tr>\n",
       "  </tbody>\n",
       "</table>\n",
       "</div>"
      ],
      "text/plain": [
       "                       Datetime             Tweet Id  \\\n",
       "7122  2023-03-12 16:44:14+00:00  1634958488140156928   \n",
       "1134  2023-03-12 22:43:50+00:00  1635048986158727169   \n",
       "7442  2023-03-12 16:28:59+00:00  1634954653308952576   \n",
       "8421  2023-03-12 15:37:22+00:00  1634941662572183553   \n",
       "7890  2023-03-12 16:04:36+00:00  1634948513544159232   \n",
       "4479  2023-03-12 19:16:57+00:00  1634996922233819137   \n",
       "1807  2023-03-12 22:04:15+00:00  1635039022337884162   \n",
       "3077  2023-03-12 20:46:37+00:00  1635019485748011008   \n",
       "81    2023-03-12 23:54:35+00:00  1635066789095968768   \n",
       "1764  2023-03-12 22:06:51+00:00  1635039676502515712   \n",
       "3298  2023-03-12 20:32:40+00:00  1635015977409855488   \n",
       "4263  2023-03-12 19:31:10+00:00  1635000498003787776   \n",
       "2093  2023-03-12 21:46:12+00:00  1635034482687262727   \n",
       "5548  2023-03-12 18:14:12+00:00  1634981130301739010   \n",
       "7681  2023-03-12 16:15:26+00:00  1634951242345742336   \n",
       "4614  2023-03-12 19:09:01+00:00  1634994923123638272   \n",
       "5027  2023-03-12 18:45:22+00:00  1634988973897707521   \n",
       "5774  2023-03-12 18:00:52+00:00  1634977775290568705   \n",
       "3397  2023-03-12 20:26:53+00:00  1635014522078625793   \n",
       "2977  2023-03-12 20:54:41+00:00  1635021518374842373   \n",
       "\n",
       "                                                   Text        Username  \\\n",
       "7122  @news_brasinha Quem fazer conta de cabeça hj j...        fwor2023   \n",
       "1134  [사단법인 유엔미래포럼] [ChatGPT가 로봇을 제어] Microsoft 덕분에 ...        indaily3   \n",
       "7442               @edisonvsemma 没使用过chatgpt，或许他能翻译的更好！    lile69960041   \n",
       "8421  Chat GPTで自分の書いた英文を丁寧にしてくれるように頼むと、Thank youをWe ...         KMITANI   \n",
       "7890  ChatGPT and Midjourney have changed advertisin...    brandman3000   \n",
       "4479  JAJAJAJAJA Poema Shizaya por ChatGPT https://t...    ChirlyGalvan   \n",
       "1807  I asked ChatGPT for a prompt for a sikhoon fan...        SikRoong   \n",
       "3077  Imagine how much more useful #AmazonAlexa woul...   coolguycarlos   \n",
       "81    おはようございます。\\r\\n\\r\\n久しぶりのTwitterです。\\r\\n久しぶりのツイート...    Advance_1993   \n",
       "1764  Il ChatGPT aggiornato sarà in grado di creare ...       My_Salute   \n",
       "3298  @DingoRomuald To że Ms i G. coś ma, to jeszcze...        przekret   \n",
       "4263  @Russell_CNX btw `'current government`' in thi...            SduH   \n",
       "2093  Move over Wordle, ChatGPT just invented a new ...           iMore   \n",
       "5548  https://t.co/UXD05sK7bR . For Sale : \\r\\n\\r\\n🔥...  DomainNames777   \n",
       "7681  People working with ChatGPT API, anyone know w...      1xdevloper   \n",
       "4614  [日本経済新聞]\\r\\n ChatGPTが語る「ヒトの強み」 \\r\\n(会員限定🔒) htt...      nikkei_top   \n",
       "5027  romantizar a miña vida sería moito máis sinxel...       motxomami   \n",
       "5774                       @sama Can #ChatGPT solve it?        Pig_Pic_   \n",
       "3397  @davecraige It's tempting to think that becaus...    Crypto__Yogi   \n",
       "2977  恣意的に言わせてる感もあるので、意思があるかには懐疑的ですが\\r\\n何を学習したことでこうな...     beginner_ai   \n",
       "\n",
       "      Like Count                                    processed_tweet  \n",
       "7122           0   quem fazer conta de cabeça hj já tamos digita...  \n",
       "1134           0  [사단법인 유엔미래포럼] [chatgpt가 로봇을 제어] microsoft 덕분에 ...  \n",
       "7442           1                             没使用过chatgpt，或许他能翻译的更好！  \n",
       "8421          14  chat gptで自分の書いた英文を丁寧にしてくれるように頼むと、thank youをwe ...  \n",
       "7890           2  chatgpt and midjourney have changed advertisin...  \n",
       "4479           0              jajajajaja poema shizaya por chatgpt   \n",
       "1807           1  i asked chatgpt for a prompt for a sikhoon fan...  \n",
       "3077           0  imagine how much more useful would be if it in...  \n",
       "81            18  おはようございます。 久しぶりのtwitterです。 久しぶりのツイートです。 久しぶりに書...  \n",
       "1764           1  il chatgpt aggiornato sarà in grado di creare ...  \n",
       "3298           0   to że ms i g. coś ma, to jeszcze nie oznacza,...  \n",
       "4263           0   btw `'current government`' in this context is...  \n",
       "2093          10  move over wordle, chatgpt just invented a new ...  \n",
       "5548           5   . for sale : 🔥 one word 🔥 global monthly sear...  \n",
       "7681           1  people working with chatgpt api, anyone know w...  \n",
       "4614           0                [日本経済新聞] chatgptが語る「ヒトの強み」 (会員限定🔒)   \n",
       "5027           6  romantizar a miña vida sería moito máis sinxel...  \n",
       "5774           1                                      can solve it?  \n",
       "3397           1   it's tempting to think that because complex t...  \n",
       "2977           3  恣意的に言わせてる感もあるので、意思があるかには懐疑的ですが 何を学習したことでこうなるのか...  "
      ]
     },
     "execution_count": 6,
     "metadata": {},
     "output_type": "execute_result"
    }
   ],
   "source": [
    "df.sample(n=20)"
   ]
  },
  {
   "cell_type": "code",
   "execution_count": 7,
   "metadata": {},
   "outputs": [
    {
     "data": {
      "text/html": [
       "<div>\n",
       "<style scoped>\n",
       "    .dataframe tbody tr th:only-of-type {\n",
       "        vertical-align: middle;\n",
       "    }\n",
       "\n",
       "    .dataframe tbody tr th {\n",
       "        vertical-align: top;\n",
       "    }\n",
       "\n",
       "    .dataframe thead th {\n",
       "        text-align: right;\n",
       "    }\n",
       "</style>\n",
       "<table border=\"1\" class=\"dataframe\">\n",
       "  <thead>\n",
       "    <tr style=\"text-align: right;\">\n",
       "      <th></th>\n",
       "      <th>Text</th>\n",
       "      <th>Like Count</th>\n",
       "      <th>processed_tweet</th>\n",
       "    </tr>\n",
       "  </thead>\n",
       "  <tbody>\n",
       "    <tr>\n",
       "      <th>0</th>\n",
       "      <td>米山議員の行動原理は「強烈な自己顕示欲」ですよ。それをベースに、パターンに応じて周囲に賞賛さ...</td>\n",
       "      <td>0</td>\n",
       "      <td>米山議員の行動原理は「強烈な自己顕示欲」ですよ。それをベースに、パターンに応じて周囲に賞賛さ...</td>\n",
       "    </tr>\n",
       "    <tr>\n",
       "      <th>1</th>\n",
       "      <td>ChatGPTでSQLを自動生成する「SQL AI アシスタント」、DB管理画面のローコード...</td>\n",
       "      <td>0</td>\n",
       "      <td>chatgptでsqlを自動生成する「sql ai アシスタント」、db管理画面のローコード...</td>\n",
       "    </tr>\n",
       "    <tr>\n",
       "      <th>2</th>\n",
       "      <td>@criprights Chatgpt's information load is up t...</td>\n",
       "      <td>0</td>\n",
       "      <td>chatgpt's information load is up to november ...</td>\n",
       "    </tr>\n",
       "    <tr>\n",
       "      <th>3</th>\n",
       "      <td>Hmm chat GPT is actually very valid</td>\n",
       "      <td>1</td>\n",
       "      <td>hmm chat gpt is actually very valid</td>\n",
       "    </tr>\n",
       "    <tr>\n",
       "      <th>4</th>\n",
       "      <td>@BllrsMer @leonardovalente @LeoPiccioli Claro ...</td>\n",
       "      <td>0</td>\n",
       "      <td>claro es que a google se le escribe como oran...</td>\n",
       "    </tr>\n",
       "    <tr>\n",
       "      <th>...</th>\n",
       "      <td>...</td>\n",
       "      <td>...</td>\n",
       "      <td>...</td>\n",
       "    </tr>\n",
       "    <tr>\n",
       "      <th>9996</th>\n",
       "      <td>ChatGPT: Disruption or fantasy? https://t.co/c...</td>\n",
       "      <td>0</td>\n",
       "      <td>chatgpt: disruption or fantasy?</td>\n",
       "    </tr>\n",
       "    <tr>\n",
       "      <th>9997</th>\n",
       "      <td>@YANAI_Kyosuke chatGPT ってかなりのうそつきデスよね\\r\\nウソででき...</td>\n",
       "      <td>1</td>\n",
       "      <td>chatgpt ってかなりのうそつきデスよね ウソでできあがっているとゆうか・・・(´･ω･｀)</td>\n",
       "    </tr>\n",
       "    <tr>\n",
       "      <th>9998</th>\n",
       "      <td>流行りのchatGPT凄いよ！\\r\\nと旦那に言うと。\\r\\n\\r\\n「あれ俺が答えよるんよ...</td>\n",
       "      <td>0</td>\n",
       "      <td>流行りのchatgpt凄いよ！ と旦那に言うと。 「あれ俺が答えよるんよ」と。 嘘では無いね...</td>\n",
       "    </tr>\n",
       "    <tr>\n",
       "      <th>9999</th>\n",
       "      <td>Noam Chomsky, I Roberts, J Watumull: AI Unrave...</td>\n",
       "      <td>0</td>\n",
       "      <td>noam chomsky, i roberts, j watumull: ai unrave...</td>\n",
       "    </tr>\n",
       "    <tr>\n",
       "      <th>10000</th>\n",
       "      <td>@ReplyGPT @nonoinvestidor Acho que o ChatGPT t...</td>\n",
       "      <td>1</td>\n",
       "      <td>acho que o chatgpt ta falando de vc</td>\n",
       "    </tr>\n",
       "  </tbody>\n",
       "</table>\n",
       "<p>10001 rows × 3 columns</p>\n",
       "</div>"
      ],
      "text/plain": [
       "                                                    Text  Like Count  \\\n",
       "0      米山議員の行動原理は「強烈な自己顕示欲」ですよ。それをベースに、パターンに応じて周囲に賞賛さ...           0   \n",
       "1      ChatGPTでSQLを自動生成する「SQL AI アシスタント」、DB管理画面のローコード...           0   \n",
       "2      @criprights Chatgpt's information load is up t...           0   \n",
       "3                    Hmm chat GPT is actually very valid           1   \n",
       "4      @BllrsMer @leonardovalente @LeoPiccioli Claro ...           0   \n",
       "...                                                  ...         ...   \n",
       "9996   ChatGPT: Disruption or fantasy? https://t.co/c...           0   \n",
       "9997   @YANAI_Kyosuke chatGPT ってかなりのうそつきデスよね\\r\\nウソででき...           1   \n",
       "9998   流行りのchatGPT凄いよ！\\r\\nと旦那に言うと。\\r\\n\\r\\n「あれ俺が答えよるんよ...           0   \n",
       "9999   Noam Chomsky, I Roberts, J Watumull: AI Unrave...           0   \n",
       "10000  @ReplyGPT @nonoinvestidor Acho que o ChatGPT t...           1   \n",
       "\n",
       "                                         processed_tweet  \n",
       "0      米山議員の行動原理は「強烈な自己顕示欲」ですよ。それをベースに、パターンに応じて周囲に賞賛さ...  \n",
       "1      chatgptでsqlを自動生成する「sql ai アシスタント」、db管理画面のローコード...  \n",
       "2       chatgpt's information load is up to november ...  \n",
       "3                    hmm chat gpt is actually very valid  \n",
       "4       claro es que a google se le escribe como oran...  \n",
       "...                                                  ...  \n",
       "9996                    chatgpt: disruption or fantasy?   \n",
       "9997    chatgpt ってかなりのうそつきデスよね ウソでできあがっているとゆうか・・・(´･ω･｀)  \n",
       "9998   流行りのchatgpt凄いよ！ と旦那に言うと。 「あれ俺が答えよるんよ」と。 嘘では無いね...  \n",
       "9999   noam chomsky, i roberts, j watumull: ai unrave...  \n",
       "10000               acho que o chatgpt ta falando de vc   \n",
       "\n",
       "[10001 rows x 3 columns]"
      ]
     },
     "execution_count": 7,
     "metadata": {},
     "output_type": "execute_result"
    }
   ],
   "source": [
    "# Deleting other columns besides text, Like Count and precessed_tweet\n",
    "df.drop(['Datetime', 'Tweet Id', 'Username'], axis=1, inplace=True)\n",
    "df"
   ]
  },
  {
   "cell_type": "code",
   "execution_count": 8,
   "metadata": {},
   "outputs": [],
   "source": [
    "pattern = r'[^\\x00-\\x7F]+'\n",
    "def keep_english_words(text: str) -> str:\n",
    "    \"\"\"\n",
    "        Keep only english words in the text.\n",
    "\n",
    "        ### Parameters:\n",
    "        text: str\n",
    "            Tweet text\n",
    "\n",
    "        ### Returns:\n",
    "        str: \n",
    "            A string only containing english words \n",
    "    \"\"\"\n",
    "    return re.sub(pattern, '', text)\n"
   ]
  },
  {
   "cell_type": "code",
   "execution_count": 9,
   "metadata": {},
   "outputs": [
    {
     "data": {
      "text/html": [
       "<div>\n",
       "<style scoped>\n",
       "    .dataframe tbody tr th:only-of-type {\n",
       "        vertical-align: middle;\n",
       "    }\n",
       "\n",
       "    .dataframe tbody tr th {\n",
       "        vertical-align: top;\n",
       "    }\n",
       "\n",
       "    .dataframe thead th {\n",
       "        text-align: right;\n",
       "    }\n",
       "</style>\n",
       "<table border=\"1\" class=\"dataframe\">\n",
       "  <thead>\n",
       "    <tr style=\"text-align: right;\">\n",
       "      <th></th>\n",
       "      <th>Text</th>\n",
       "      <th>Like Count</th>\n",
       "      <th>processed_tweet</th>\n",
       "    </tr>\n",
       "  </thead>\n",
       "  <tbody>\n",
       "    <tr>\n",
       "      <th>0</th>\n",
       "      <td>米山議員の行動原理は「強烈な自己顕示欲」ですよ。それをベースに、パターンに応じて周囲に賞賛さ...</td>\n",
       "      <td>0</td>\n",
       "      <td>chatgpt</td>\n",
       "    </tr>\n",
       "    <tr>\n",
       "      <th>1</th>\n",
       "      <td>ChatGPTでSQLを自動生成する「SQL AI アシスタント」、DB管理画面のローコード...</td>\n",
       "      <td>0</td>\n",
       "      <td>chatgptsqlsql ai dbdashcomb | it leaders -</td>\n",
       "    </tr>\n",
       "    <tr>\n",
       "      <th>2</th>\n",
       "      <td>@criprights Chatgpt's information load is up t...</td>\n",
       "      <td>0</td>\n",
       "      <td>chatgpt's information load is up to november ...</td>\n",
       "    </tr>\n",
       "    <tr>\n",
       "      <th>3</th>\n",
       "      <td>Hmm chat GPT is actually very valid</td>\n",
       "      <td>1</td>\n",
       "      <td>hmm chat gpt is actually very valid</td>\n",
       "    </tr>\n",
       "    <tr>\n",
       "      <th>4</th>\n",
       "      <td>@BllrsMer @leonardovalente @LeoPiccioli Claro ...</td>\n",
       "      <td>0</td>\n",
       "      <td>claro es que a google se le escribe como oran...</td>\n",
       "    </tr>\n",
       "  </tbody>\n",
       "</table>\n",
       "</div>"
      ],
      "text/plain": [
       "                                                Text  Like Count  \\\n",
       "0  米山議員の行動原理は「強烈な自己顕示欲」ですよ。それをベースに、パターンに応じて周囲に賞賛さ...           0   \n",
       "1  ChatGPTでSQLを自動生成する「SQL AI アシスタント」、DB管理画面のローコード...           0   \n",
       "2  @criprights Chatgpt's information load is up t...           0   \n",
       "3                Hmm chat GPT is actually very valid           1   \n",
       "4  @BllrsMer @leonardovalente @LeoPiccioli Claro ...           0   \n",
       "\n",
       "                                     processed_tweet  \n",
       "0                                            chatgpt  \n",
       "1        chatgptsqlsql ai dbdashcomb | it leaders -   \n",
       "2   chatgpt's information load is up to november ...  \n",
       "3                hmm chat gpt is actually very valid  \n",
       "4   claro es que a google se le escribe como oran...  "
      ]
     },
     "execution_count": 9,
     "metadata": {},
     "output_type": "execute_result"
    }
   ],
   "source": [
    "# Removing other languages from the text\n",
    "df['processed_tweet'] = df['processed_tweet'].apply(keep_english_words)\n",
    "df.head()"
   ]
  },
  {
   "cell_type": "code",
   "execution_count": 10,
   "metadata": {},
   "outputs": [
    {
     "data": {
      "text/plain": [
       "Text               0\n",
       "Like Count         0\n",
       "processed_tweet    0\n",
       "dtype: int64"
      ]
     },
     "execution_count": 10,
     "metadata": {},
     "output_type": "execute_result"
    }
   ],
   "source": [
    "# Checking for null values\n",
    "df.isnull().sum()"
   ]
  },
  {
   "cell_type": "code",
   "execution_count": 11,
   "metadata": {},
   "outputs": [],
   "source": [
    "nlp = en_core_web_sm.load()"
   ]
  },
  {
   "cell_type": "code",
   "execution_count": 12,
   "metadata": {},
   "outputs": [
    {
     "data": {
      "text/plain": [
       "4986    gracias a chat gpt hoy duermo siesta, pens que...\n",
       "9137                              gpt.! gpt!   :  cxzbz  \n",
       "7152    los trabajos sanitarios ms amenazados por chat...\n",
       "3893    oigan en verdad estoy haciendo el ensayo de mi...\n",
       "5652     nice, great tips. thank you  having a style i...\n",
       "3026    seems like gaslighting hey chatgpt, what do yo...\n",
       "4202    i had a moment of doubt, so i had to ask chatg...\n",
       "5147        chat gpt prompt to create midjourney prompts \n",
       "6313                                          sirichatgpt\n",
       "8370    bruh chat gpt cant replace me look here, ask i...\n",
       "3648     chatgpt: nj mik m kritikoi pr shkak se kisha ...\n",
       "6665                                         is  chatgpt \n",
       "3019    \"how to use chatgpt as a tool to spur students...\n",
       "8262     un povero scemo  uno scemo. un ricco scemo  u...\n",
       "8357     a better ui for chatgptopenai api key$ licens...\n",
       "Name: processed_tweet, dtype: object"
      ]
     },
     "execution_count": 12,
     "metadata": {},
     "output_type": "execute_result"
    }
   ],
   "source": [
    "df['processed_tweet'].sample(n=15)"
   ]
  },
  {
   "cell_type": "code",
   "execution_count": 13,
   "metadata": {},
   "outputs": [],
   "source": [
    "def get_n_gram(corpus: pd.Series, n: int=None, range: tuple=(2, 2)) -> list:\n",
    "    \"\"\"\n",
    "        Returns n-grams from a corpus.\n",
    "\n",
    "        ### Parameters\n",
    "        corpus: pd.Series\n",
    "            A dataframe series containing corpus.\n",
    "        n: int \n",
    "            The number of n-grams to return.\n",
    "        range: tuple\n",
    "            The range of n-grams to return.\n",
    "\n",
    "        ### Returns\n",
    "        list: \n",
    "            List of top occurring n-grams\n",
    "    \"\"\"\n",
    "    count_vector = CountVectorizer(ngram_range=range, stop_words='english').fit(corpus)\n",
    "    bag_of_words =  count_vector.fit_transform(corpus)\n",
    "    bg_sum = bag_of_words.sum(axis=0)\n",
    "    words_freq = [(word, bg_sum[0, idx]) for word, idx in count_vector.vocabulary_.items()]\n",
    "    words_freq = sorted(words_freq, key=lambda x: x[1], reverse=True)\n",
    "    return words_freq[:n]\n"
   ]
  },
  {
   "cell_type": "code",
   "execution_count": 14,
   "metadata": {},
   "outputs": [],
   "source": [
    "# getting bi common words\n",
    "bi_common_words = get_n_gram(df['processed_tweet'], 15)"
   ]
  },
  {
   "cell_type": "code",
   "execution_count": 15,
   "metadata": {},
   "outputs": [
    {
     "data": {
      "text/plain": [
       "[('chat gpt', 1101),\n",
       " ('using chatgpt', 165),\n",
       " ('use chatgpt', 162),\n",
       " ('chatgpt ai', 134),\n",
       " ('asked chatgpt', 110),\n",
       " ('chatgpt people', 89),\n",
       " ('ask chatgpt', 88),\n",
       " ('like chatgpt', 88),\n",
       " ('ai chatgpt', 83),\n",
       " ('chatgpt write', 82),\n",
       " ('people saying', 80),\n",
       " ('google run', 80),\n",
       " ('run money', 80),\n",
       " ('saying google', 79),\n",
       " ('chatgpt api', 77)]"
      ]
     },
     "execution_count": 15,
     "metadata": {},
     "output_type": "execute_result"
    }
   ],
   "source": [
    "bi_common_words"
   ]
  },
  {
   "cell_type": "code",
   "execution_count": 16,
   "metadata": {},
   "outputs": [],
   "source": [
    "def visualization_n_gram(common_words: list, title: str) -> None:\n",
    "    \"\"\"\n",
    "        Visualization of n-grams\n",
    "        \n",
    "        ### Parameters\n",
    "        common_words: list\n",
    "            list of common n_gram words \n",
    "            >>> [('chat gpt', 596),\n",
    "                    ('character limit', 259),\n",
    "                ]\n",
    "        title: str\n",
    "            Title of graph\n",
    "        ### Return\n",
    "        None\n",
    "    \"\"\"\n",
    "    # Create a dataframe \n",
    "    vis_df = pd.DataFrame(common_words, columns=['Tweet', 'Count'])\n",
    "    vis_df.plot(x='Tweet', y='Count', kind='bar', title=title)"
   ]
  },
  {
   "cell_type": "code",
   "execution_count": 17,
   "metadata": {},
   "outputs": [
    {
     "data": {
      "image/png": "[encoded data removed]",
      "text/plain": [
       "<Figure size 432x288 with 1 Axes>"
      ]
     },
     "metadata": {
      "needs_background": "light"
     },
     "output_type": "display_data"
    }
   ],
   "source": [
    "visualization_n_gram(common_words=bi_common_words, title='The 15 most frequent bi-grams in the dataset')"
   ]
  },
  {
   "cell_type": "code",
   "execution_count": 18,
   "metadata": {},
   "outputs": [
    {
     "data": {
      "text/plain": [
       "[('google run money', 80),\n",
       " ('chatgpt people saying', 79),\n",
       " ('people saying google', 79),\n",
       " ('saying google run', 79),\n",
       " ('working chatgpt like', 32),\n",
       " ('chatgpt like digital', 32),\n",
       " ('like digital assistant', 32),\n",
       " ('digital assistant cars', 32),\n",
       " ('gm working chatgpt', 31),\n",
       " ('la inteligencia artificial', 26),\n",
       " ('tools like chatgpt', 21),\n",
       " ('ai language model', 20),\n",
       " ('openai chatgpt api', 20),\n",
       " ('api node js', 20),\n",
       " ('qu es chatgpt', 20)]"
      ]
     },
     "execution_count": 18,
     "metadata": {},
     "output_type": "execute_result"
    }
   ],
   "source": [
    "# getting tri common words\n",
    "tri_common_words = get_n_gram(df['processed_tweet'], 15, range=(3,3))\n",
    "tri_common_words"
   ]
  },
  {
   "cell_type": "code",
   "execution_count": 19,
   "metadata": {},
   "outputs": [
    {
     "data": {
      "image/png": "[encoded data removed]",
      "text/plain": [
       "<Figure size 432x288 with 1 Axes>"
      ]
     },
     "metadata": {
      "needs_background": "light"
     },
     "output_type": "display_data"
    }
   ],
   "source": [
    "visualization_n_gram(tri_common_words, title='The 15 most frequent tri-grams in the dataset')"
   ]
  },
  {
   "cell_type": "code",
   "execution_count": 20,
   "metadata": {},
   "outputs": [],
   "source": [
    "def remove_punct(text: str) -> str:\n",
    "    \"\"\"\n",
    "        Remove punctuation from a string.\n",
    "\n",
    "        ### Parameters \n",
    "        text: str \n",
    "            The string to remove punctuation from.\n",
    "\n",
    "        ### Returns\n",
    "        text: str\n",
    "            The string with punctuation removed.\n",
    "    \"\"\"\n",
    "    text = re.sub(r'[!\"\\$%&\\'()*+,\\-.\\/:;=#@?\\[\\\\\\]^_`{|}~]*','',text)\n",
    "    return text"
   ]
  },
  {
   "cell_type": "code",
   "execution_count": 21,
   "metadata": {},
   "outputs": [],
   "source": [
    "# creating new column as remove_punct by removing punctuations from processed_tweet\n",
    "df['remove_punct'] = df['processed_tweet'].apply(remove_punct)"
   ]
  },
  {
   "cell_type": "code",
   "execution_count": 22,
   "metadata": {},
   "outputs": [
    {
     "data": {
      "text/html": [
       "<div>\n",
       "<style scoped>\n",
       "    .dataframe tbody tr th:only-of-type {\n",
       "        vertical-align: middle;\n",
       "    }\n",
       "\n",
       "    .dataframe tbody tr th {\n",
       "        vertical-align: top;\n",
       "    }\n",
       "\n",
       "    .dataframe thead th {\n",
       "        text-align: right;\n",
       "    }\n",
       "</style>\n",
       "<table border=\"1\" class=\"dataframe\">\n",
       "  <thead>\n",
       "    <tr style=\"text-align: right;\">\n",
       "      <th></th>\n",
       "      <th>Text</th>\n",
       "      <th>Like Count</th>\n",
       "      <th>processed_tweet</th>\n",
       "      <th>remove_punct</th>\n",
       "    </tr>\n",
       "  </thead>\n",
       "  <tbody>\n",
       "    <tr>\n",
       "      <th>0</th>\n",
       "      <td>米山議員の行動原理は「強烈な自己顕示欲」ですよ。それをベースに、パターンに応じて周囲に賞賛さ...</td>\n",
       "      <td>0</td>\n",
       "      <td>chatgpt</td>\n",
       "      <td>[chatgpt]</td>\n",
       "    </tr>\n",
       "    <tr>\n",
       "      <th>1</th>\n",
       "      <td>ChatGPTでSQLを自動生成する「SQL AI アシスタント」、DB管理画面のローコード...</td>\n",
       "      <td>0</td>\n",
       "      <td>chatgptsqlsql ai dbdashcomb | it leaders -</td>\n",
       "      <td>[chatgptsqlsql, ai, dbdashcomb, it, leaders]</td>\n",
       "    </tr>\n",
       "    <tr>\n",
       "      <th>2</th>\n",
       "      <td>@criprights Chatgpt's information load is up t...</td>\n",
       "      <td>0</td>\n",
       "      <td>chatgpt's information load is up to november ...</td>\n",
       "      <td>[chatgpts, information, load, is, up, to, nove...</td>\n",
       "    </tr>\n",
       "    <tr>\n",
       "      <th>3</th>\n",
       "      <td>Hmm chat GPT is actually very valid</td>\n",
       "      <td>1</td>\n",
       "      <td>hmm chat gpt is actually very valid</td>\n",
       "      <td>[hmm, chat, gpt, is, actually, very, valid]</td>\n",
       "    </tr>\n",
       "    <tr>\n",
       "      <th>4</th>\n",
       "      <td>@BllrsMer @leonardovalente @LeoPiccioli Claro ...</td>\n",
       "      <td>0</td>\n",
       "      <td>claro es que a google se le escribe como oran...</td>\n",
       "      <td>[claro, es, que, a, google, se, le, escribe, c...</td>\n",
       "    </tr>\n",
       "  </tbody>\n",
       "</table>\n",
       "</div>"
      ],
      "text/plain": [
       "                                                Text  Like Count  \\\n",
       "0  米山議員の行動原理は「強烈な自己顕示欲」ですよ。それをベースに、パターンに応じて周囲に賞賛さ...           0   \n",
       "1  ChatGPTでSQLを自動生成する「SQL AI アシスタント」、DB管理画面のローコード...           0   \n",
       "2  @criprights Chatgpt's information load is up t...           0   \n",
       "3                Hmm chat GPT is actually very valid           1   \n",
       "4  @BllrsMer @leonardovalente @LeoPiccioli Claro ...           0   \n",
       "\n",
       "                                     processed_tweet  \\\n",
       "0                                            chatgpt   \n",
       "1        chatgptsqlsql ai dbdashcomb | it leaders -    \n",
       "2   chatgpt's information load is up to november ...   \n",
       "3                hmm chat gpt is actually very valid   \n",
       "4   claro es que a google se le escribe como oran...   \n",
       "\n",
       "                                        remove_punct  \n",
       "0                                          [chatgpt]  \n",
       "1       [chatgptsqlsql, ai, dbdashcomb, it, leaders]  \n",
       "2  [chatgpts, information, load, is, up, to, nove...  \n",
       "3        [hmm, chat, gpt, is, actually, very, valid]  \n",
       "4  [claro, es, que, a, google, se, le, escribe, c...  "
      ]
     },
     "execution_count": 22,
     "metadata": {},
     "output_type": "execute_result"
    }
   ],
   "source": [
    "# Removing punctuations\n",
    "df['remove_punct'] = df['remove_punct'].apply(word_tokenize)\n",
    "df.head()"
   ]
  },
  {
   "cell_type": "code",
   "execution_count": 23,
   "metadata": {},
   "outputs": [],
   "source": [
    "stopwords = set(stopwords.words(\"english\"))\n",
    "\n",
    "def remove_stopwords(text: list) -> list:\n",
    "    \"\"\"\n",
    "        Removes stopwords from text.\n",
    "\n",
    "        ### Parameters\n",
    "        text: str \n",
    "            list of words\n",
    "        \n",
    "        ### Returns\n",
    "        list:\n",
    "            list of words without stopwords\n",
    "    \"\"\"\n",
    "    text_list = [word for word in text if word.lower() not in stopwords]\n",
    "    return text_list"
   ]
  },
  {
   "cell_type": "code",
   "execution_count": 24,
   "metadata": {},
   "outputs": [
    {
     "data": {
      "text/html": [
       "<div>\n",
       "<style scoped>\n",
       "    .dataframe tbody tr th:only-of-type {\n",
       "        vertical-align: middle;\n",
       "    }\n",
       "\n",
       "    .dataframe tbody tr th {\n",
       "        vertical-align: top;\n",
       "    }\n",
       "\n",
       "    .dataframe thead th {\n",
       "        text-align: right;\n",
       "    }\n",
       "</style>\n",
       "<table border=\"1\" class=\"dataframe\">\n",
       "  <thead>\n",
       "    <tr style=\"text-align: right;\">\n",
       "      <th></th>\n",
       "      <th>Text</th>\n",
       "      <th>Like Count</th>\n",
       "      <th>processed_tweet</th>\n",
       "      <th>remove_punct</th>\n",
       "      <th>remove_stopwords</th>\n",
       "    </tr>\n",
       "  </thead>\n",
       "  <tbody>\n",
       "    <tr>\n",
       "      <th>0</th>\n",
       "      <td>米山議員の行動原理は「強烈な自己顕示欲」ですよ。それをベースに、パターンに応じて周囲に賞賛さ...</td>\n",
       "      <td>0</td>\n",
       "      <td>chatgpt</td>\n",
       "      <td>[chatgpt]</td>\n",
       "      <td>[chatgpt]</td>\n",
       "    </tr>\n",
       "    <tr>\n",
       "      <th>1</th>\n",
       "      <td>ChatGPTでSQLを自動生成する「SQL AI アシスタント」、DB管理画面のローコード...</td>\n",
       "      <td>0</td>\n",
       "      <td>chatgptsqlsql ai dbdashcomb | it leaders -</td>\n",
       "      <td>[chatgptsqlsql, ai, dbdashcomb, it, leaders]</td>\n",
       "      <td>[chatgptsqlsql, ai, dbdashcomb, leaders]</td>\n",
       "    </tr>\n",
       "    <tr>\n",
       "      <th>2</th>\n",
       "      <td>@criprights Chatgpt's information load is up t...</td>\n",
       "      <td>0</td>\n",
       "      <td>chatgpt's information load is up to november ...</td>\n",
       "      <td>[chatgpts, information, load, is, up, to, nove...</td>\n",
       "      <td>[chatgpts, information, load, november, think,...</td>\n",
       "    </tr>\n",
       "    <tr>\n",
       "      <th>3</th>\n",
       "      <td>Hmm chat GPT is actually very valid</td>\n",
       "      <td>1</td>\n",
       "      <td>hmm chat gpt is actually very valid</td>\n",
       "      <td>[hmm, chat, gpt, is, actually, very, valid]</td>\n",
       "      <td>[hmm, chat, gpt, actually, valid]</td>\n",
       "    </tr>\n",
       "    <tr>\n",
       "      <th>4</th>\n",
       "      <td>@BllrsMer @leonardovalente @LeoPiccioli Claro ...</td>\n",
       "      <td>0</td>\n",
       "      <td>claro es que a google se le escribe como oran...</td>\n",
       "      <td>[claro, es, que, a, google, se, le, escribe, c...</td>\n",
       "      <td>[claro, es, que, google, se, le, escribe, como...</td>\n",
       "    </tr>\n",
       "    <tr>\n",
       "      <th>...</th>\n",
       "      <td>...</td>\n",
       "      <td>...</td>\n",
       "      <td>...</td>\n",
       "      <td>...</td>\n",
       "      <td>...</td>\n",
       "    </tr>\n",
       "    <tr>\n",
       "      <th>9996</th>\n",
       "      <td>ChatGPT: Disruption or fantasy? https://t.co/c...</td>\n",
       "      <td>0</td>\n",
       "      <td>chatgpt: disruption or fantasy?</td>\n",
       "      <td>[chatgpt, disruption, or, fantasy]</td>\n",
       "      <td>[chatgpt, disruption, fantasy]</td>\n",
       "    </tr>\n",
       "    <tr>\n",
       "      <th>9997</th>\n",
       "      <td>@YANAI_Kyosuke chatGPT ってかなりのうそつきデスよね\\r\\nウソででき...</td>\n",
       "      <td>1</td>\n",
       "      <td>chatgpt  ()</td>\n",
       "      <td>[chatgpt]</td>\n",
       "      <td>[chatgpt]</td>\n",
       "    </tr>\n",
       "    <tr>\n",
       "      <th>9998</th>\n",
       "      <td>流行りのchatGPT凄いよ！\\r\\nと旦那に言うと。\\r\\n\\r\\n「あれ俺が答えよるんよ...</td>\n",
       "      <td>0</td>\n",
       "      <td>chatgpt    ai chatgpt</td>\n",
       "      <td>[chatgpt, ai, chatgpt]</td>\n",
       "      <td>[chatgpt, ai, chatgpt]</td>\n",
       "    </tr>\n",
       "    <tr>\n",
       "      <th>9999</th>\n",
       "      <td>Noam Chomsky, I Roberts, J Watumull: AI Unrave...</td>\n",
       "      <td>0</td>\n",
       "      <td>noam chomsky, i roberts, j watumull: ai unrave...</td>\n",
       "      <td>[noam, chomsky, i, roberts, j, watumull, ai, u...</td>\n",
       "      <td>[noam, chomsky, roberts, j, watumull, ai, unra...</td>\n",
       "    </tr>\n",
       "    <tr>\n",
       "      <th>10000</th>\n",
       "      <td>@ReplyGPT @nonoinvestidor Acho que o ChatGPT t...</td>\n",
       "      <td>1</td>\n",
       "      <td>acho que o chatgpt ta falando de vc</td>\n",
       "      <td>[acho, que, o, chatgpt, ta, falando, de, vc]</td>\n",
       "      <td>[acho, que, chatgpt, ta, falando, de, vc]</td>\n",
       "    </tr>\n",
       "  </tbody>\n",
       "</table>\n",
       "<p>10001 rows × 5 columns</p>\n",
       "</div>"
      ],
      "text/plain": [
       "                                                    Text  Like Count  \\\n",
       "0      米山議員の行動原理は「強烈な自己顕示欲」ですよ。それをベースに、パターンに応じて周囲に賞賛さ...           0   \n",
       "1      ChatGPTでSQLを自動生成する「SQL AI アシスタント」、DB管理画面のローコード...           0   \n",
       "2      @criprights Chatgpt's information load is up t...           0   \n",
       "3                    Hmm chat GPT is actually very valid           1   \n",
       "4      @BllrsMer @leonardovalente @LeoPiccioli Claro ...           0   \n",
       "...                                                  ...         ...   \n",
       "9996   ChatGPT: Disruption or fantasy? https://t.co/c...           0   \n",
       "9997   @YANAI_Kyosuke chatGPT ってかなりのうそつきデスよね\\r\\nウソででき...           1   \n",
       "9998   流行りのchatGPT凄いよ！\\r\\nと旦那に言うと。\\r\\n\\r\\n「あれ俺が答えよるんよ...           0   \n",
       "9999   Noam Chomsky, I Roberts, J Watumull: AI Unrave...           0   \n",
       "10000  @ReplyGPT @nonoinvestidor Acho que o ChatGPT t...           1   \n",
       "\n",
       "                                         processed_tweet  \\\n",
       "0                                                chatgpt   \n",
       "1            chatgptsqlsql ai dbdashcomb | it leaders -    \n",
       "2       chatgpt's information load is up to november ...   \n",
       "3                    hmm chat gpt is actually very valid   \n",
       "4       claro es que a google se le escribe como oran...   \n",
       "...                                                  ...   \n",
       "9996                    chatgpt: disruption or fantasy?    \n",
       "9997                                         chatgpt  ()   \n",
       "9998                               chatgpt    ai chatgpt   \n",
       "9999   noam chomsky, i roberts, j watumull: ai unrave...   \n",
       "10000               acho que o chatgpt ta falando de vc    \n",
       "\n",
       "                                            remove_punct  \\\n",
       "0                                              [chatgpt]   \n",
       "1           [chatgptsqlsql, ai, dbdashcomb, it, leaders]   \n",
       "2      [chatgpts, information, load, is, up, to, nove...   \n",
       "3            [hmm, chat, gpt, is, actually, very, valid]   \n",
       "4      [claro, es, que, a, google, se, le, escribe, c...   \n",
       "...                                                  ...   \n",
       "9996                  [chatgpt, disruption, or, fantasy]   \n",
       "9997                                           [chatgpt]   \n",
       "9998                              [chatgpt, ai, chatgpt]   \n",
       "9999   [noam, chomsky, i, roberts, j, watumull, ai, u...   \n",
       "10000       [acho, que, o, chatgpt, ta, falando, de, vc]   \n",
       "\n",
       "                                        remove_stopwords  \n",
       "0                                              [chatgpt]  \n",
       "1               [chatgptsqlsql, ai, dbdashcomb, leaders]  \n",
       "2      [chatgpts, information, load, november, think,...  \n",
       "3                      [hmm, chat, gpt, actually, valid]  \n",
       "4      [claro, es, que, google, se, le, escribe, como...  \n",
       "...                                                  ...  \n",
       "9996                      [chatgpt, disruption, fantasy]  \n",
       "9997                                           [chatgpt]  \n",
       "9998                              [chatgpt, ai, chatgpt]  \n",
       "9999   [noam, chomsky, roberts, j, watumull, ai, unra...  \n",
       "10000          [acho, que, chatgpt, ta, falando, de, vc]  \n",
       "\n",
       "[10001 rows x 5 columns]"
      ]
     },
     "execution_count": 24,
     "metadata": {},
     "output_type": "execute_result"
    }
   ],
   "source": [
    "# Removing stopwords\n",
    "df['remove_stopwords'] = df['remove_punct'].apply(remove_stopwords)\n",
    "df"
   ]
  },
  {
   "cell_type": "code",
   "execution_count": 25,
   "metadata": {},
   "outputs": [],
   "source": [
    "def get_pos_tag(text_list: list) -> list:\n",
    "    \"\"\"\n",
    "        Returns a list of POS tags for the given list of words.\n",
    "\n",
    "        ### Parameters\n",
    "        text_list: list\n",
    "            A list of words\n",
    "\n",
    "        ### Returns\n",
    "        list:\n",
    "            A list of POS tags\n",
    "    \"\"\"\n",
    "    return nltk.pos_tag(text_list)"
   ]
  },
  {
   "cell_type": "code",
   "execution_count": 26,
   "metadata": {
    "scrolled": true
   },
   "outputs": [
    {
     "data": {
      "text/html": [
       "<div>\n",
       "<style scoped>\n",
       "    .dataframe tbody tr th:only-of-type {\n",
       "        vertical-align: middle;\n",
       "    }\n",
       "\n",
       "    .dataframe tbody tr th {\n",
       "        vertical-align: top;\n",
       "    }\n",
       "\n",
       "    .dataframe thead th {\n",
       "        text-align: right;\n",
       "    }\n",
       "</style>\n",
       "<table border=\"1\" class=\"dataframe\">\n",
       "  <thead>\n",
       "    <tr style=\"text-align: right;\">\n",
       "      <th></th>\n",
       "      <th>Text</th>\n",
       "      <th>Like Count</th>\n",
       "      <th>processed_tweet</th>\n",
       "      <th>remove_punct</th>\n",
       "      <th>remove_stopwords</th>\n",
       "      <th>pos_tag</th>\n",
       "    </tr>\n",
       "  </thead>\n",
       "  <tbody>\n",
       "    <tr>\n",
       "      <th>0</th>\n",
       "      <td>米山議員の行動原理は「強烈な自己顕示欲」ですよ。それをベースに、パターンに応じて周囲に賞賛さ...</td>\n",
       "      <td>0</td>\n",
       "      <td>chatgpt</td>\n",
       "      <td>[chatgpt]</td>\n",
       "      <td>[chatgpt]</td>\n",
       "      <td>[(chatgpt, NN)]</td>\n",
       "    </tr>\n",
       "    <tr>\n",
       "      <th>1</th>\n",
       "      <td>ChatGPTでSQLを自動生成する「SQL AI アシスタント」、DB管理画面のローコード...</td>\n",
       "      <td>0</td>\n",
       "      <td>chatgptsqlsql ai dbdashcomb | it leaders -</td>\n",
       "      <td>[chatgptsqlsql, ai, dbdashcomb, it, leaders]</td>\n",
       "      <td>[chatgptsqlsql, ai, dbdashcomb, leaders]</td>\n",
       "      <td>[(chatgptsqlsql, NN), (ai, VBP), (dbdashcomb, ...</td>\n",
       "    </tr>\n",
       "    <tr>\n",
       "      <th>2</th>\n",
       "      <td>@criprights Chatgpt's information load is up t...</td>\n",
       "      <td>0</td>\n",
       "      <td>chatgpt's information load is up to november ...</td>\n",
       "      <td>[chatgpts, information, load, is, up, to, nove...</td>\n",
       "      <td>[chatgpts, information, load, november, think,...</td>\n",
       "      <td>[(chatgpts, NNS), (information, NN), (load, NN...</td>\n",
       "    </tr>\n",
       "    <tr>\n",
       "      <th>3</th>\n",
       "      <td>Hmm chat GPT is actually very valid</td>\n",
       "      <td>1</td>\n",
       "      <td>hmm chat gpt is actually very valid</td>\n",
       "      <td>[hmm, chat, gpt, is, actually, very, valid]</td>\n",
       "      <td>[hmm, chat, gpt, actually, valid]</td>\n",
       "      <td>[(hmm, NN), (chat, WP), (gpt, VBZ), (actually,...</td>\n",
       "    </tr>\n",
       "    <tr>\n",
       "      <th>4</th>\n",
       "      <td>@BllrsMer @leonardovalente @LeoPiccioli Claro ...</td>\n",
       "      <td>0</td>\n",
       "      <td>claro es que a google se le escribe como oran...</td>\n",
       "      <td>[claro, es, que, a, google, se, le, escribe, c...</td>\n",
       "      <td>[claro, es, que, google, se, le, escribe, como...</td>\n",
       "      <td>[(claro, NN), (es, NN), (que, NN), (google, NN...</td>\n",
       "    </tr>\n",
       "  </tbody>\n",
       "</table>\n",
       "</div>"
      ],
      "text/plain": [
       "                                                Text  Like Count  \\\n",
       "0  米山議員の行動原理は「強烈な自己顕示欲」ですよ。それをベースに、パターンに応じて周囲に賞賛さ...           0   \n",
       "1  ChatGPTでSQLを自動生成する「SQL AI アシスタント」、DB管理画面のローコード...           0   \n",
       "2  @criprights Chatgpt's information load is up t...           0   \n",
       "3                Hmm chat GPT is actually very valid           1   \n",
       "4  @BllrsMer @leonardovalente @LeoPiccioli Claro ...           0   \n",
       "\n",
       "                                     processed_tweet  \\\n",
       "0                                            chatgpt   \n",
       "1        chatgptsqlsql ai dbdashcomb | it leaders -    \n",
       "2   chatgpt's information load is up to november ...   \n",
       "3                hmm chat gpt is actually very valid   \n",
       "4   claro es que a google se le escribe como oran...   \n",
       "\n",
       "                                        remove_punct  \\\n",
       "0                                          [chatgpt]   \n",
       "1       [chatgptsqlsql, ai, dbdashcomb, it, leaders]   \n",
       "2  [chatgpts, information, load, is, up, to, nove...   \n",
       "3        [hmm, chat, gpt, is, actually, very, valid]   \n",
       "4  [claro, es, que, a, google, se, le, escribe, c...   \n",
       "\n",
       "                                    remove_stopwords  \\\n",
       "0                                          [chatgpt]   \n",
       "1           [chatgptsqlsql, ai, dbdashcomb, leaders]   \n",
       "2  [chatgpts, information, load, november, think,...   \n",
       "3                  [hmm, chat, gpt, actually, valid]   \n",
       "4  [claro, es, que, google, se, le, escribe, como...   \n",
       "\n",
       "                                             pos_tag  \n",
       "0                                    [(chatgpt, NN)]  \n",
       "1  [(chatgptsqlsql, NN), (ai, VBP), (dbdashcomb, ...  \n",
       "2  [(chatgpts, NNS), (information, NN), (load, NN...  \n",
       "3  [(hmm, NN), (chat, WP), (gpt, VBZ), (actually,...  \n",
       "4  [(claro, NN), (es, NN), (que, NN), (google, NN...  "
      ]
     },
     "execution_count": 26,
     "metadata": {},
     "output_type": "execute_result"
    }
   ],
   "source": [
    "# getting part of speech \n",
    "df['pos_tag'] = df['remove_stopwords'].apply(get_pos_tag)\n",
    "df.head()"
   ]
  },
  {
   "cell_type": "code",
   "execution_count": 27,
   "metadata": {},
   "outputs": [],
   "source": [
    "lemmatizer = WordNetLemmatizer()"
   ]
  },
  {
   "cell_type": "code",
   "execution_count": 28,
   "metadata": {},
   "outputs": [],
   "source": [
    "def word_pos_lemmetize(text_list: list) -> list:\n",
    "    \"\"\"\n",
    "        Return a list of words with lemma form.\n",
    "\n",
    "        ### Parameters\n",
    "        text_list: list\n",
    "            A list of words.\n",
    "\n",
    "        ### Returns\n",
    "        list:\n",
    "            A list of words converted to lemma form.\n",
    "    \"\"\"\n",
    "    new_lemmetize_list = []\n",
    "    for text, tag in text_list:\n",
    "        text = text.lower()\n",
    "        if tag.startswith('N'):\n",
    "            wld = lemmatizer.lemmatize(text, pos='n')\n",
    "        elif tag.startswith('V'):\n",
    "            wld = lemmatizer.lemmatize(text, pos='v')\n",
    "        elif tag.startswith('J'):\n",
    "            wld = lemmatizer.lemmatize(text, pos='a')\n",
    "        elif tag.startswith('R'):\n",
    "            wld = lemmatizer.lemmatize(text, pos='r')\n",
    "        else:\n",
    "            wld = text\n",
    "        new_lemmetize_list.append(wld)\n",
    "    return new_lemmetize_list"
   ]
  },
  {
   "cell_type": "code",
   "execution_count": 29,
   "metadata": {},
   "outputs": [],
   "source": [
    "df['text_lemmatizer'] = df['pos_tag'].apply(word_pos_lemmetize)"
   ]
  },
  {
   "cell_type": "code",
   "execution_count": 30,
   "metadata": {},
   "outputs": [
    {
     "data": {
      "text/html": [
       "<div>\n",
       "<style scoped>\n",
       "    .dataframe tbody tr th:only-of-type {\n",
       "        vertical-align: middle;\n",
       "    }\n",
       "\n",
       "    .dataframe tbody tr th {\n",
       "        vertical-align: top;\n",
       "    }\n",
       "\n",
       "    .dataframe thead th {\n",
       "        text-align: right;\n",
       "    }\n",
       "</style>\n",
       "<table border=\"1\" class=\"dataframe\">\n",
       "  <thead>\n",
       "    <tr style=\"text-align: right;\">\n",
       "      <th></th>\n",
       "      <th>Text</th>\n",
       "      <th>Like Count</th>\n",
       "      <th>processed_tweet</th>\n",
       "      <th>remove_punct</th>\n",
       "      <th>remove_stopwords</th>\n",
       "      <th>pos_tag</th>\n",
       "      <th>text_lemmatizer</th>\n",
       "    </tr>\n",
       "  </thead>\n",
       "  <tbody>\n",
       "    <tr>\n",
       "      <th>3608</th>\n",
       "      <td>@IsaReynoldsC @DylanoA4 If I had to learn Engl...</td>\n",
       "      <td>1</td>\n",
       "      <td>if i had to learn english again, i would use ...</td>\n",
       "      <td>[if, i, had, to, learn, english, again, i, wou...</td>\n",
       "      <td>[learn, english, would, use, ai, tools, like, ...</td>\n",
       "      <td>[(learn, JJ), (english, NN), (would, MD), (use...</td>\n",
       "      <td>[learn, english, would, use, ai, tool, like, c...</td>\n",
       "    </tr>\n",
       "    <tr>\n",
       "      <th>4569</th>\n",
       "      <td>@tout_eth @iiamnpc @ShiLLin_ViLLian @Selene406...</td>\n",
       "      <td>3</td>\n",
       "      <td>name might be npc but doesnt fuck with chat gpt</td>\n",
       "      <td>[name, might, be, npc, but, doesnt, fuck, with...</td>\n",
       "      <td>[name, might, npc, doesnt, fuck, chat, gpt]</td>\n",
       "      <td>[(name, NN), (might, MD), (npc, VB), (doesnt, ...</td>\n",
       "      <td>[name, might, npc, doesnt, fuck, chat, gpt]</td>\n",
       "    </tr>\n",
       "    <tr>\n",
       "      <th>6360</th>\n",
       "      <td>@OlgaOfUzhhorod @castletongreene OpenAI has Ch...</td>\n",
       "      <td>0</td>\n",
       "      <td>openai has chatgpt. microsoft has bing chatbo...</td>\n",
       "      <td>[openai, has, chatgpt, microsoft, has, bing, c...</td>\n",
       "      <td>[openai, chatgpt, microsoft, bing, chatbox, ru...</td>\n",
       "      <td>[(openai, JJ), (chatgpt, NN), (microsoft, JJ),...</td>\n",
       "      <td>[openai, chatgpt, microsoft, bing, chatbox, ru...</td>\n",
       "    </tr>\n",
       "    <tr>\n",
       "      <th>2488</th>\n",
       "      <td>@MarioNawfal Just throwing it out there - the ...</td>\n",
       "      <td>0</td>\n",
       "      <td>just throwing it out there - the jailbreak ve...</td>\n",
       "      <td>[just, throwing, it, out, there, the, jailbrea...</td>\n",
       "      <td>[throwing, jailbreak, version, chat, gpt, dan,...</td>\n",
       "      <td>[(throwing, VBG), (jailbreak, JJ), (version, N...</td>\n",
       "      <td>[throw, jailbreak, version, chat, gpt, dan, sa...</td>\n",
       "    </tr>\n",
       "    <tr>\n",
       "      <th>3136</th>\n",
       "      <td>@VFontaineAuthor It might not be possible, as ...</td>\n",
       "      <td>1</td>\n",
       "      <td>it might not be possible, as chatgpt is mostl...</td>\n",
       "      <td>[it, might, not, be, possible, as, chatgpt, is...</td>\n",
       "      <td>[might, possible, chatgpt, mostly, limited, fa...</td>\n",
       "      <td>[(might, MD), (possible, JJ), (chatgpt, NN), (...</td>\n",
       "      <td>[might, possible, chatgpt, mostly, limit, fami...</td>\n",
       "    </tr>\n",
       "    <tr>\n",
       "      <th>7868</th>\n",
       "      <td>@ChatGPT_0penAI @NotionHQ @LangChainAI @pineco...</td>\n",
       "      <td>0</td>\n",
       "      <td></td>\n",
       "      <td>[]</td>\n",
       "      <td>[]</td>\n",
       "      <td>[]</td>\n",
       "      <td>[]</td>\n",
       "    </tr>\n",
       "    <tr>\n",
       "      <th>9192</th>\n",
       "      <td>Ese momento mágico en que chatGPT se convierte...</td>\n",
       "      <td>0</td>\n",
       "      <td>ese momento mgico en que chatgpt se convierte ...</td>\n",
       "      <td>[ese, momento, mgico, en, que, chatgpt, se, co...</td>\n",
       "      <td>[ese, momento, mgico, en, que, chatgpt, se, co...</td>\n",
       "      <td>[(ese, JJ), (momento, NN), (mgico, NN), (en, I...</td>\n",
       "      <td>[ese, momento, mgico, en, que, chatgpt, se, co...</td>\n",
       "    </tr>\n",
       "    <tr>\n",
       "      <th>5566</th>\n",
       "      <td>@_huza_ ChatGPT solved this like fuck https://...</td>\n",
       "      <td>0</td>\n",
       "      <td>chatgpt solved this like fuck</td>\n",
       "      <td>[chatgpt, solved, this, like, fuck]</td>\n",
       "      <td>[chatgpt, solved, like, fuck]</td>\n",
       "      <td>[(chatgpt, NN), (solved, VBD), (like, IN), (fu...</td>\n",
       "      <td>[chatgpt, solve, like, fuck]</td>\n",
       "    </tr>\n",
       "    <tr>\n",
       "      <th>4332</th>\n",
       "      <td>La IA (ChatGPT) Nos Cuenta un Sorprendente Rel...</td>\n",
       "      <td>2</td>\n",
       "      <td>la ia (chatgpt) nos cuenta un sorprendente rel...</td>\n",
       "      <td>[la, ia, chatgpt, nos, cuenta, un, sorprendent...</td>\n",
       "      <td>[la, ia, chatgpt, nos, cuenta, un, sorprendent...</td>\n",
       "      <td>[(la, NN), (ia, NN), (chatgpt, NN), (nos, JJ),...</td>\n",
       "      <td>[la, ia, chatgpt, nos, cuenta, un, sorprendent...</td>\n",
       "    </tr>\n",
       "    <tr>\n",
       "      <th>8571</th>\n",
       "      <td>ChatGPT schreibt soeben einen Sci-Fi Roman</td>\n",
       "      <td>0</td>\n",
       "      <td>chatgpt schreibt soeben einen sci-fi roman</td>\n",
       "      <td>[chatgpt, schreibt, soeben, einen, scifi, roman]</td>\n",
       "      <td>[chatgpt, schreibt, soeben, einen, scifi, roman]</td>\n",
       "      <td>[(chatgpt, NN), (schreibt, NN), (soeben, NN), ...</td>\n",
       "      <td>[chatgpt, schreibt, soeben, einen, scifi, roman]</td>\n",
       "    </tr>\n",
       "    <tr>\n",
       "      <th>8731</th>\n",
       "      <td>ChatGPTの技術とボイスロイド組み合わせて一生会話したいわ。話し相手ほしいときに使いたいよ。</td>\n",
       "      <td>1</td>\n",
       "      <td>chatgpt</td>\n",
       "      <td>[chatgpt]</td>\n",
       "      <td>[chatgpt]</td>\n",
       "      <td>[(chatgpt, NN)]</td>\n",
       "      <td>[chatgpt]</td>\n",
       "    </tr>\n",
       "    <tr>\n",
       "      <th>1220</th>\n",
       "      <td>Resumen ENTREVISTA a @sama, CEO de @OpenAI (GP...</td>\n",
       "      <td>0</td>\n",
       "      <td>resumen entrevista a , ceo de (gpt-, chatgpt, ...</td>\n",
       "      <td>[resumen, entrevista, a, ceo, de, gpt, chatgpt...</td>\n",
       "      <td>[resumen, entrevista, ceo, de, gpt, chatgpt, agi]</td>\n",
       "      <td>[(resumen, NNS), (entrevista, VBP), (ceo, NN),...</td>\n",
       "      <td>[resumen, entrevista, ceo, de, gpt, chatgpt, agi]</td>\n",
       "    </tr>\n",
       "    <tr>\n",
       "      <th>5868</th>\n",
       "      <td>@Fleur50559050 C'est un bot Chat GPT 🤪</td>\n",
       "      <td>2</td>\n",
       "      <td>c'est un bot chat gpt</td>\n",
       "      <td>[cest, un, bot, chat, gpt]</td>\n",
       "      <td>[cest, un, bot, chat, gpt]</td>\n",
       "      <td>[(cest, JJS), (un, JJ), (bot, NN), (chat, WP),...</td>\n",
       "      <td>[c, un, bot, chat, gpt]</td>\n",
       "    </tr>\n",
       "    <tr>\n",
       "      <th>8732</th>\n",
       "      <td>\"The correct explanations of language are comp...</td>\n",
       "      <td>3</td>\n",
       "      <td>\"the correct explanations of language are comp...</td>\n",
       "      <td>[the, correct, explanations, of, language, are...</td>\n",
       "      <td>[correct, explanations, language, complicated,...</td>\n",
       "      <td>[(correct, JJ), (explanations, NNS), (language...</td>\n",
       "      <td>[correct, explanation, language, complicate, l...</td>\n",
       "    </tr>\n",
       "    <tr>\n",
       "      <th>5202</th>\n",
       "      <td>@thiteanish @danshipper @thesephist Performs n...</td>\n",
       "      <td>3</td>\n",
       "      <td>performs normal gpt- via benchmarks, but most...</td>\n",
       "      <td>[performs, normal, gpt, via, benchmarks, but, ...</td>\n",
       "      <td>[performs, normal, gpt, via, benchmarks, every...</td>\n",
       "      <td>[(performs, NNS), (normal, JJ), (gpt, JJ), (vi...</td>\n",
       "      <td>[performs, normal, gpt, via, benchmark, everyo...</td>\n",
       "    </tr>\n",
       "    <tr>\n",
       "      <th>9622</th>\n",
       "      <td>Time to stream more #ChatGPT development! \\r\\n...</td>\n",
       "      <td>7</td>\n",
       "      <td>time to stream more development! the stage is ...</td>\n",
       "      <td>[time, to, stream, more, development, the, sta...</td>\n",
       "      <td>[time, stream, development, stage, set, adding...</td>\n",
       "      <td>[(time, NN), (stream, NN), (development, NN), ...</td>\n",
       "      <td>[time, stream, development, stage, set, add, q...</td>\n",
       "    </tr>\n",
       "    <tr>\n",
       "      <th>2060</th>\n",
       "      <td>Let's hope ChatGPT doesn't watch this movie:\\r...</td>\n",
       "      <td>0</td>\n",
       "      <td>let's hope chatgpt doesn't watch this movie:</td>\n",
       "      <td>[lets, hope, chatgpt, doesnt, watch, this, movie]</td>\n",
       "      <td>[lets, hope, chatgpt, doesnt, watch, movie]</td>\n",
       "      <td>[(lets, NNS), (hope, VBP), (chatgpt, JJ), (doe...</td>\n",
       "      <td>[let, hope, chatgpt, doesnt, watch, movie]</td>\n",
       "    </tr>\n",
       "    <tr>\n",
       "      <th>3050</th>\n",
       "      <td>Done with technical analysis📈📉,wacha sasa tung...</td>\n",
       "      <td>7</td>\n",
       "      <td>done with technical analysis,wacha sasa tungoj...</td>\n",
       "      <td>[done, with, technical, analysiswacha, sasa, t...</td>\n",
       "      <td>[done, technical, analysiswacha, sasa, tungoje...</td>\n",
       "      <td>[(done, VBN), (technical, JJ), (analysiswacha,...</td>\n",
       "      <td>[do, technical, analysiswacha, sasa, tungoje, ...</td>\n",
       "    </tr>\n",
       "    <tr>\n",
       "      <th>981</th>\n",
       "      <td>@lin05086474 你一天学会一个成语就行，这个“学会”是指。准确地了解它的意思，也能...</td>\n",
       "      <td>0</td>\n",
       "      <td>chatgpt</td>\n",
       "      <td>[chatgpt]</td>\n",
       "      <td>[chatgpt]</td>\n",
       "      <td>[(chatgpt, NN)]</td>\n",
       "      <td>[chatgpt]</td>\n",
       "    </tr>\n",
       "    <tr>\n",
       "      <th>2503</th>\n",
       "      <td>Chat GPT: Namaluj Kaczora Donalda w wersji PL ...</td>\n",
       "      <td>0</td>\n",
       "      <td>chat gpt: namaluj kaczora donalda w wersji pl</td>\n",
       "      <td>[chat, gpt, namaluj, kaczora, donalda, w, wers...</td>\n",
       "      <td>[chat, gpt, namaluj, kaczora, donalda, w, wers...</td>\n",
       "      <td>[(chat, RB), (gpt, JJ), (namaluj, JJ), (kaczor...</td>\n",
       "      <td>[chat, gpt, namaluj, kaczora, donalda, w, wers...</td>\n",
       "    </tr>\n",
       "    <tr>\n",
       "      <th>4636</th>\n",
       "      <td>自分のマイクラ用にかいてたシェーダーも要件書いてお願いしたらほぼそのままのコードが返ってきた...</td>\n",
       "      <td>0</td>\n",
       "      <td>chatgpt</td>\n",
       "      <td>[chatgpt]</td>\n",
       "      <td>[chatgpt]</td>\n",
       "      <td>[(chatgpt, NN)]</td>\n",
       "      <td>[chatgpt]</td>\n",
       "    </tr>\n",
       "    <tr>\n",
       "      <th>4566</th>\n",
       "      <td>How do you recover from being a scapegoat?\\r\\n...</td>\n",
       "      <td>0</td>\n",
       "      <td>how do you recover from being a scapegoat? i a...</td>\n",
       "      <td>[how, do, you, recover, from, being, a, scapeg...</td>\n",
       "      <td>[recover, scapegoat, asked, chatgpt, would, say]</td>\n",
       "      <td>[(recover, NN), (scapegoat, NN), (asked, VBD),...</td>\n",
       "      <td>[recover, scapegoat, ask, chatgpt, would, say]</td>\n",
       "    </tr>\n",
       "    <tr>\n",
       "      <th>1401</th>\n",
       "      <td>参考になる、Bing Chat が検索結果を利用してかなり賢い結果をだしているのも頷ける。 ...</td>\n",
       "      <td>0</td>\n",
       "      <td>bing chat  /  chatgpt</td>\n",
       "      <td>[bing, chat, chatgpt]</td>\n",
       "      <td>[bing, chat, chatgpt]</td>\n",
       "      <td>[(bing, VBG), (chat, WP), (chatgpt, NN)]</td>\n",
       "      <td>[bing, chat, chatgpt]</td>\n",
       "    </tr>\n",
       "    <tr>\n",
       "      <th>8681</th>\n",
       "      <td>@kmacandall Todo profesor se irá diluyendo con...</td>\n",
       "      <td>0</td>\n",
       "      <td>todo profesor se ir diluyendo con el chatgpt....</td>\n",
       "      <td>[todo, profesor, se, ir, diluyendo, con, el, c...</td>\n",
       "      <td>[todo, profesor, se, ir, diluyendo, con, el, c...</td>\n",
       "      <td>[(todo, NN), (profesor, NN), (se, NN), (ir, NN...</td>\n",
       "      <td>[todo, profesor, se, ir, diluyendo, con, el, c...</td>\n",
       "    </tr>\n",
       "    <tr>\n",
       "      <th>2995</th>\n",
       "      <td>Her movie but with ChatGpt</td>\n",
       "      <td>0</td>\n",
       "      <td>her movie but with chatgpt</td>\n",
       "      <td>[her, movie, but, with, chatgpt]</td>\n",
       "      <td>[movie, chatgpt]</td>\n",
       "      <td>[(movie, NN), (chatgpt, NN)]</td>\n",
       "      <td>[movie, chatgpt]</td>\n",
       "    </tr>\n",
       "  </tbody>\n",
       "</table>\n",
       "</div>"
      ],
      "text/plain": [
       "                                                   Text  Like Count  \\\n",
       "3608  @IsaReynoldsC @DylanoA4 If I had to learn Engl...           1   \n",
       "4569  @tout_eth @iiamnpc @ShiLLin_ViLLian @Selene406...           3   \n",
       "6360  @OlgaOfUzhhorod @castletongreene OpenAI has Ch...           0   \n",
       "2488  @MarioNawfal Just throwing it out there - the ...           0   \n",
       "3136  @VFontaineAuthor It might not be possible, as ...           1   \n",
       "7868  @ChatGPT_0penAI @NotionHQ @LangChainAI @pineco...           0   \n",
       "9192  Ese momento mágico en que chatGPT se convierte...           0   \n",
       "5566  @_huza_ ChatGPT solved this like fuck https://...           0   \n",
       "4332  La IA (ChatGPT) Nos Cuenta un Sorprendente Rel...           2   \n",
       "8571         ChatGPT schreibt soeben einen Sci-Fi Roman           0   \n",
       "8731   ChatGPTの技術とボイスロイド組み合わせて一生会話したいわ。話し相手ほしいときに使いたいよ。           1   \n",
       "1220  Resumen ENTREVISTA a @sama, CEO de @OpenAI (GP...           0   \n",
       "5868             @Fleur50559050 C'est un bot Chat GPT 🤪           2   \n",
       "8732  \"The correct explanations of language are comp...           3   \n",
       "5202  @thiteanish @danshipper @thesephist Performs n...           3   \n",
       "9622  Time to stream more #ChatGPT development! \\r\\n...           7   \n",
       "2060  Let's hope ChatGPT doesn't watch this movie:\\r...           0   \n",
       "3050  Done with technical analysis📈📉,wacha sasa tung...           7   \n",
       "981   @lin05086474 你一天学会一个成语就行，这个“学会”是指。准确地了解它的意思，也能...           0   \n",
       "2503  Chat GPT: Namaluj Kaczora Donalda w wersji PL ...           0   \n",
       "4636  自分のマイクラ用にかいてたシェーダーも要件書いてお願いしたらほぼそのままのコードが返ってきた...           0   \n",
       "4566  How do you recover from being a scapegoat?\\r\\n...           0   \n",
       "1401  参考になる、Bing Chat が検索結果を利用してかなり賢い結果をだしているのも頷ける。 ...           0   \n",
       "8681  @kmacandall Todo profesor se irá diluyendo con...           0   \n",
       "2995                         Her movie but with ChatGpt           0   \n",
       "\n",
       "                                        processed_tweet  \\\n",
       "3608   if i had to learn english again, i would use ...   \n",
       "4569    name might be npc but doesnt fuck with chat gpt   \n",
       "6360   openai has chatgpt. microsoft has bing chatbo...   \n",
       "2488   just throwing it out there - the jailbreak ve...   \n",
       "3136   it might not be possible, as chatgpt is mostl...   \n",
       "7868                                                      \n",
       "9192  ese momento mgico en que chatgpt se convierte ...   \n",
       "5566                     chatgpt solved this like fuck    \n",
       "4332  la ia (chatgpt) nos cuenta un sorprendente rel...   \n",
       "8571         chatgpt schreibt soeben einen sci-fi roman   \n",
       "8731                                            chatgpt   \n",
       "1220  resumen entrevista a , ceo de (gpt-, chatgpt, ...   \n",
       "5868                             c'est un bot chat gpt    \n",
       "8732  \"the correct explanations of language are comp...   \n",
       "5202   performs normal gpt- via benchmarks, but most...   \n",
       "9622  time to stream more development! the stage is ...   \n",
       "2060      let's hope chatgpt doesn't watch this movie:    \n",
       "3050  done with technical analysis,wacha sasa tungoj...   \n",
       "981                                             chatgpt   \n",
       "2503     chat gpt: namaluj kaczora donalda w wersji pl    \n",
       "4636                                            chatgpt   \n",
       "4566  how do you recover from being a scapegoat? i a...   \n",
       "1401                            bing chat  /  chatgpt     \n",
       "8681   todo profesor se ir diluyendo con el chatgpt....   \n",
       "2995                         her movie but with chatgpt   \n",
       "\n",
       "                                           remove_punct  \\\n",
       "3608  [if, i, had, to, learn, english, again, i, wou...   \n",
       "4569  [name, might, be, npc, but, doesnt, fuck, with...   \n",
       "6360  [openai, has, chatgpt, microsoft, has, bing, c...   \n",
       "2488  [just, throwing, it, out, there, the, jailbrea...   \n",
       "3136  [it, might, not, be, possible, as, chatgpt, is...   \n",
       "7868                                                 []   \n",
       "9192  [ese, momento, mgico, en, que, chatgpt, se, co...   \n",
       "5566                [chatgpt, solved, this, like, fuck]   \n",
       "4332  [la, ia, chatgpt, nos, cuenta, un, sorprendent...   \n",
       "8571   [chatgpt, schreibt, soeben, einen, scifi, roman]   \n",
       "8731                                          [chatgpt]   \n",
       "1220  [resumen, entrevista, a, ceo, de, gpt, chatgpt...   \n",
       "5868                         [cest, un, bot, chat, gpt]   \n",
       "8732  [the, correct, explanations, of, language, are...   \n",
       "5202  [performs, normal, gpt, via, benchmarks, but, ...   \n",
       "9622  [time, to, stream, more, development, the, sta...   \n",
       "2060  [lets, hope, chatgpt, doesnt, watch, this, movie]   \n",
       "3050  [done, with, technical, analysiswacha, sasa, t...   \n",
       "981                                           [chatgpt]   \n",
       "2503  [chat, gpt, namaluj, kaczora, donalda, w, wers...   \n",
       "4636                                          [chatgpt]   \n",
       "4566  [how, do, you, recover, from, being, a, scapeg...   \n",
       "1401                              [bing, chat, chatgpt]   \n",
       "8681  [todo, profesor, se, ir, diluyendo, con, el, c...   \n",
       "2995                   [her, movie, but, with, chatgpt]   \n",
       "\n",
       "                                       remove_stopwords  \\\n",
       "3608  [learn, english, would, use, ai, tools, like, ...   \n",
       "4569        [name, might, npc, doesnt, fuck, chat, gpt]   \n",
       "6360  [openai, chatgpt, microsoft, bing, chatbox, ru...   \n",
       "2488  [throwing, jailbreak, version, chat, gpt, dan,...   \n",
       "3136  [might, possible, chatgpt, mostly, limited, fa...   \n",
       "7868                                                 []   \n",
       "9192  [ese, momento, mgico, en, que, chatgpt, se, co...   \n",
       "5566                      [chatgpt, solved, like, fuck]   \n",
       "4332  [la, ia, chatgpt, nos, cuenta, un, sorprendent...   \n",
       "8571   [chatgpt, schreibt, soeben, einen, scifi, roman]   \n",
       "8731                                          [chatgpt]   \n",
       "1220  [resumen, entrevista, ceo, de, gpt, chatgpt, agi]   \n",
       "5868                         [cest, un, bot, chat, gpt]   \n",
       "8732  [correct, explanations, language, complicated,...   \n",
       "5202  [performs, normal, gpt, via, benchmarks, every...   \n",
       "9622  [time, stream, development, stage, set, adding...   \n",
       "2060        [lets, hope, chatgpt, doesnt, watch, movie]   \n",
       "3050  [done, technical, analysiswacha, sasa, tungoje...   \n",
       "981                                           [chatgpt]   \n",
       "2503  [chat, gpt, namaluj, kaczora, donalda, w, wers...   \n",
       "4636                                          [chatgpt]   \n",
       "4566   [recover, scapegoat, asked, chatgpt, would, say]   \n",
       "1401                              [bing, chat, chatgpt]   \n",
       "8681  [todo, profesor, se, ir, diluyendo, con, el, c...   \n",
       "2995                                   [movie, chatgpt]   \n",
       "\n",
       "                                                pos_tag  \\\n",
       "3608  [(learn, JJ), (english, NN), (would, MD), (use...   \n",
       "4569  [(name, NN), (might, MD), (npc, VB), (doesnt, ...   \n",
       "6360  [(openai, JJ), (chatgpt, NN), (microsoft, JJ),...   \n",
       "2488  [(throwing, VBG), (jailbreak, JJ), (version, N...   \n",
       "3136  [(might, MD), (possible, JJ), (chatgpt, NN), (...   \n",
       "7868                                                 []   \n",
       "9192  [(ese, JJ), (momento, NN), (mgico, NN), (en, I...   \n",
       "5566  [(chatgpt, NN), (solved, VBD), (like, IN), (fu...   \n",
       "4332  [(la, NN), (ia, NN), (chatgpt, NN), (nos, JJ),...   \n",
       "8571  [(chatgpt, NN), (schreibt, NN), (soeben, NN), ...   \n",
       "8731                                    [(chatgpt, NN)]   \n",
       "1220  [(resumen, NNS), (entrevista, VBP), (ceo, NN),...   \n",
       "5868  [(cest, JJS), (un, JJ), (bot, NN), (chat, WP),...   \n",
       "8732  [(correct, JJ), (explanations, NNS), (language...   \n",
       "5202  [(performs, NNS), (normal, JJ), (gpt, JJ), (vi...   \n",
       "9622  [(time, NN), (stream, NN), (development, NN), ...   \n",
       "2060  [(lets, NNS), (hope, VBP), (chatgpt, JJ), (doe...   \n",
       "3050  [(done, VBN), (technical, JJ), (analysiswacha,...   \n",
       "981                                     [(chatgpt, NN)]   \n",
       "2503  [(chat, RB), (gpt, JJ), (namaluj, JJ), (kaczor...   \n",
       "4636                                    [(chatgpt, NN)]   \n",
       "4566  [(recover, NN), (scapegoat, NN), (asked, VBD),...   \n",
       "1401           [(bing, VBG), (chat, WP), (chatgpt, NN)]   \n",
       "8681  [(todo, NN), (profesor, NN), (se, NN), (ir, NN...   \n",
       "2995                       [(movie, NN), (chatgpt, NN)]   \n",
       "\n",
       "                                        text_lemmatizer  \n",
       "3608  [learn, english, would, use, ai, tool, like, c...  \n",
       "4569        [name, might, npc, doesnt, fuck, chat, gpt]  \n",
       "6360  [openai, chatgpt, microsoft, bing, chatbox, ru...  \n",
       "2488  [throw, jailbreak, version, chat, gpt, dan, sa...  \n",
       "3136  [might, possible, chatgpt, mostly, limit, fami...  \n",
       "7868                                                 []  \n",
       "9192  [ese, momento, mgico, en, que, chatgpt, se, co...  \n",
       "5566                       [chatgpt, solve, like, fuck]  \n",
       "4332  [la, ia, chatgpt, nos, cuenta, un, sorprendent...  \n",
       "8571   [chatgpt, schreibt, soeben, einen, scifi, roman]  \n",
       "8731                                          [chatgpt]  \n",
       "1220  [resumen, entrevista, ceo, de, gpt, chatgpt, agi]  \n",
       "5868                            [c, un, bot, chat, gpt]  \n",
       "8732  [correct, explanation, language, complicate, l...  \n",
       "5202  [performs, normal, gpt, via, benchmark, everyo...  \n",
       "9622  [time, stream, development, stage, set, add, q...  \n",
       "2060         [let, hope, chatgpt, doesnt, watch, movie]  \n",
       "3050  [do, technical, analysiswacha, sasa, tungoje, ...  \n",
       "981                                           [chatgpt]  \n",
       "2503  [chat, gpt, namaluj, kaczora, donalda, w, wers...  \n",
       "4636                                          [chatgpt]  \n",
       "4566     [recover, scapegoat, ask, chatgpt, would, say]  \n",
       "1401                              [bing, chat, chatgpt]  \n",
       "8681  [todo, profesor, se, ir, diluyendo, con, el, c...  \n",
       "2995                                   [movie, chatgpt]  "
      ]
     },
     "execution_count": 30,
     "metadata": {},
     "output_type": "execute_result"
    }
   ],
   "source": [
    "df.sample(n=25)"
   ]
  },
  {
   "cell_type": "markdown",
   "metadata": {},
   "source": [
    "#### Outliers "
   ]
  },
  {
   "cell_type": "code",
   "execution_count": 31,
   "metadata": {},
   "outputs": [
    {
     "data": {
      "text/plain": [
       "count    10001.000000\n",
       "mean         7.347465\n",
       "std         73.503786\n",
       "min          0.000000\n",
       "25%          0.000000\n",
       "50%          1.000000\n",
       "75%          2.000000\n",
       "max       4082.000000\n",
       "Name: Like Count, dtype: float64"
      ]
     },
     "execution_count": 31,
     "metadata": {},
     "output_type": "execute_result"
    }
   ],
   "source": [
    "df['Like Count'].describe()"
   ]
  },
  {
   "cell_type": "code",
   "execution_count": 32,
   "metadata": {},
   "outputs": [
    {
     "data": {
      "text/plain": [
       "2.0"
      ]
     },
     "execution_count": 32,
     "metadata": {},
     "output_type": "execute_result"
    }
   ],
   "source": [
    "# Calculating IQR\n",
    "Q1 = df['Like Count'].quantile(0.25)\n",
    "Q3 = df['Like Count'].quantile(0.75)\n",
    "IQR = Q3 - Q1\n",
    "IQR"
   ]
  },
  {
   "cell_type": "code",
   "execution_count": 33,
   "metadata": {},
   "outputs": [
    {
     "data": {
      "text/plain": [
       "[-3.0, 5.0]"
      ]
     },
     "execution_count": 33,
     "metadata": {},
     "output_type": "execute_result"
    }
   ],
   "source": [
    "# Calculating upper and lower boundaries(whiskers)\n",
    "boundary = [Q1 - (1.5 * IQR), Q3 + (1.5 * IQR)]\n",
    "boundary"
   ]
  },
  {
   "cell_type": "code",
   "execution_count": 34,
   "metadata": {},
   "outputs": [
    {
     "data": {
      "text/html": [
       "<div>\n",
       "<style scoped>\n",
       "    .dataframe tbody tr th:only-of-type {\n",
       "        vertical-align: middle;\n",
       "    }\n",
       "\n",
       "    .dataframe tbody tr th {\n",
       "        vertical-align: top;\n",
       "    }\n",
       "\n",
       "    .dataframe thead th {\n",
       "        text-align: right;\n",
       "    }\n",
       "</style>\n",
       "<table border=\"1\" class=\"dataframe\">\n",
       "  <thead>\n",
       "    <tr style=\"text-align: right;\">\n",
       "      <th></th>\n",
       "      <th>Text</th>\n",
       "      <th>Like Count</th>\n",
       "      <th>processed_tweet</th>\n",
       "      <th>remove_punct</th>\n",
       "      <th>remove_stopwords</th>\n",
       "      <th>pos_tag</th>\n",
       "      <th>text_lemmatizer</th>\n",
       "    </tr>\n",
       "  </thead>\n",
       "  <tbody>\n",
       "  </tbody>\n",
       "</table>\n",
       "</div>"
      ],
      "text/plain": [
       "Empty DataFrame\n",
       "Columns: [Text, Like Count, processed_tweet, remove_punct, remove_stopwords, pos_tag, text_lemmatizer]\n",
       "Index: []"
      ]
     },
     "execution_count": 34,
     "metadata": {},
     "output_type": "execute_result"
    }
   ],
   "source": [
    "# lower outliers\n",
    "lower_outliers = df[df['Like Count'] < boundary[0]]\n",
    "lower_outliers"
   ]
  },
  {
   "cell_type": "code",
   "execution_count": 35,
   "metadata": {},
   "outputs": [
    {
     "data": {
      "text/html": [
       "<div>\n",
       "<style scoped>\n",
       "    .dataframe tbody tr th:only-of-type {\n",
       "        vertical-align: middle;\n",
       "    }\n",
       "\n",
       "    .dataframe tbody tr th {\n",
       "        vertical-align: top;\n",
       "    }\n",
       "\n",
       "    .dataframe thead th {\n",
       "        text-align: right;\n",
       "    }\n",
       "</style>\n",
       "<table border=\"1\" class=\"dataframe\">\n",
       "  <thead>\n",
       "    <tr style=\"text-align: right;\">\n",
       "      <th></th>\n",
       "      <th>Text</th>\n",
       "      <th>Like Count</th>\n",
       "      <th>processed_tweet</th>\n",
       "      <th>remove_punct</th>\n",
       "      <th>remove_stopwords</th>\n",
       "      <th>pos_tag</th>\n",
       "      <th>text_lemmatizer</th>\n",
       "    </tr>\n",
       "  </thead>\n",
       "  <tbody>\n",
       "    <tr>\n",
       "      <th>7</th>\n",
       "      <td>今朝のMRICは、ChatGPTの医師国家試験合格率です。北大の医学生金田さんの寄稿です。\\...</td>\n",
       "      <td>16</td>\n",
       "      <td>mricchatgpt vol. ai</td>\n",
       "      <td>[mricchatgpt, vol, ai]</td>\n",
       "      <td>[mricchatgpt, vol, ai]</td>\n",
       "      <td>[(mricchatgpt, NN), (vol, NN), (ai, NN)]</td>\n",
       "      <td>[mricchatgpt, vol, ai]</td>\n",
       "    </tr>\n",
       "    <tr>\n",
       "      <th>15</th>\n",
       "      <td>half this shit is written by aids and interns ...</td>\n",
       "      <td>29</td>\n",
       "      <td>half this shit is written by aids and interns ...</td>\n",
       "      <td>[half, this, shit, is, written, by, aids, and,...</td>\n",
       "      <td>[half, shit, written, aids, interns, anyway, t...</td>\n",
       "      <td>[(half, NN), (shit, VBD), (written, VBN), (aid...</td>\n",
       "      <td>[half, shit, write, aid, intern, anyway, think...</td>\n",
       "    </tr>\n",
       "    <tr>\n",
       "      <th>23</th>\n",
       "      <td>Azure OpenAI サービスで ChatGPT を使えるようになるってよ。MS がんば...</td>\n",
       "      <td>7</td>\n",
       "      <td>azure openai  chatgpt ms</td>\n",
       "      <td>[azure, openai, chatgpt, ms]</td>\n",
       "      <td>[azure, openai, chatgpt, ms]</td>\n",
       "      <td>[(azure, NN), (openai, MD), (chatgpt, VB), (ms...</td>\n",
       "      <td>[azure, openai, chatgpt, m]</td>\n",
       "    </tr>\n",
       "    <tr>\n",
       "      <th>29</th>\n",
       "      <td>昨日の夜勢いで書いたChatGPTの星新一馮ショートショート https://t.co/vB...</td>\n",
       "      <td>16</td>\n",
       "      <td>chatgpt</td>\n",
       "      <td>[chatgpt]</td>\n",
       "      <td>[chatgpt]</td>\n",
       "      <td>[(chatgpt, NN)]</td>\n",
       "      <td>[chatgpt]</td>\n",
       "    </tr>\n",
       "    <tr>\n",
       "      <th>30</th>\n",
       "      <td>Look I almost guarantee there'll be at least s...</td>\n",
       "      <td>62</td>\n",
       "      <td>look i almost guarantee there'll be at least s...</td>\n",
       "      <td>[look, i, almost, guarantee, therell, be, at, ...</td>\n",
       "      <td>[look, almost, guarantee, therell, least, chat...</td>\n",
       "      <td>[(look, NN), (almost, RB), (guarantee, NN), (t...</td>\n",
       "      <td>[look, almost, guarantee, therell, least, chat...</td>\n",
       "    </tr>\n",
       "    <tr>\n",
       "      <th>...</th>\n",
       "      <td>...</td>\n",
       "      <td>...</td>\n",
       "      <td>...</td>\n",
       "      <td>...</td>\n",
       "      <td>...</td>\n",
       "      <td>...</td>\n",
       "      <td>...</td>\n",
       "    </tr>\n",
       "    <tr>\n",
       "      <th>9972</th>\n",
       "      <td>@Y33tDavidson @wabdoteth @orzo1203 Do it. \\r\\n...</td>\n",
       "      <td>6</td>\n",
       "      <td>do it. youtube and chatgpt. will be able to h...</td>\n",
       "      <td>[do, it, youtube, and, chatgpt, will, be, able...</td>\n",
       "      <td>[youtube, chatgpt, able, hack, blockchains, mo...</td>\n",
       "      <td>[(youtube, NN), (chatgpt, NN), (able, JJ), (ha...</td>\n",
       "      <td>[youtube, chatgpt, able, hack, blockchains, mo...</td>\n",
       "    </tr>\n",
       "    <tr>\n",
       "      <th>9975</th>\n",
       "      <td>“CHATGPT IS POWERFUL — AND DIFFICULT TO CONTRO...</td>\n",
       "      <td>39</td>\n",
       "      <td>chatgpt is powerful  and difficult to control ...</td>\n",
       "      <td>[chatgpt, is, powerful, and, difficult, to, co...</td>\n",
       "      <td>[chatgpt, powerful, difficult, control, micros...</td>\n",
       "      <td>[(chatgpt, NN), (powerful, JJ), (difficult, JJ...</td>\n",
       "      <td>[chatgpt, powerful, difficult, control, micros...</td>\n",
       "    </tr>\n",
       "    <tr>\n",
       "      <th>9978</th>\n",
       "      <td>Mina Murati es la responsable de tecnología de...</td>\n",
       "      <td>11</td>\n",
       "      <td>mina murati es la responsable de tecnologa de ...</td>\n",
       "      <td>[mina, murati, es, la, responsable, de, tecnol...</td>\n",
       "      <td>[mina, murati, es, la, responsable, de, tecnol...</td>\n",
       "      <td>[(mina, NN), (murati, NNS), (es, VBP), (la, FW...</td>\n",
       "      <td>[mina, murati, es, la, responsable, de, tecnol...</td>\n",
       "    </tr>\n",
       "    <tr>\n",
       "      <th>9983</th>\n",
       "      <td>chatGPTなどでコードが作れる、というのも冷静に考えれば一周まわっておかしな話な気もして...</td>\n",
       "      <td>10</td>\n",
       "      <td>chatgpt</td>\n",
       "      <td>[chatgpt]</td>\n",
       "      <td>[chatgpt]</td>\n",
       "      <td>[(chatgpt, NN)]</td>\n",
       "      <td>[chatgpt]</td>\n",
       "    </tr>\n",
       "    <tr>\n",
       "      <th>9987</th>\n",
       "      <td>ウワサのchatGPTに質問したら、ドヤ顔で大嘘返してきよったꉂ🤣𐤔\\r\\n #ChatGP...</td>\n",
       "      <td>21</td>\n",
       "      <td>chatgpt</td>\n",
       "      <td>[chatgpt]</td>\n",
       "      <td>[chatgpt]</td>\n",
       "      <td>[(chatgpt, NN)]</td>\n",
       "      <td>[chatgpt]</td>\n",
       "    </tr>\n",
       "  </tbody>\n",
       "</table>\n",
       "<p>1243 rows × 7 columns</p>\n",
       "</div>"
      ],
      "text/plain": [
       "                                                   Text  Like Count  \\\n",
       "7     今朝のMRICは、ChatGPTの医師国家試験合格率です。北大の医学生金田さんの寄稿です。\\...          16   \n",
       "15    half this shit is written by aids and interns ...          29   \n",
       "23    Azure OpenAI サービスで ChatGPT を使えるようになるってよ。MS がんば...           7   \n",
       "29    昨日の夜勢いで書いたChatGPTの星新一馮ショートショート https://t.co/vB...          16   \n",
       "30    Look I almost guarantee there'll be at least s...          62   \n",
       "...                                                 ...         ...   \n",
       "9972  @Y33tDavidson @wabdoteth @orzo1203 Do it. \\r\\n...           6   \n",
       "9975  “CHATGPT IS POWERFUL — AND DIFFICULT TO CONTRO...          39   \n",
       "9978  Mina Murati es la responsable de tecnología de...          11   \n",
       "9983  chatGPTなどでコードが作れる、というのも冷静に考えれば一周まわっておかしな話な気もして...          10   \n",
       "9987  ウワサのchatGPTに質問したら、ドヤ顔で大嘘返してきよったꉂ🤣𐤔\\r\\n #ChatGP...          21   \n",
       "\n",
       "                                        processed_tweet  \\\n",
       "7                                  mricchatgpt vol. ai    \n",
       "15    half this shit is written by aids and interns ...   \n",
       "23                           azure openai  chatgpt ms     \n",
       "29                                             chatgpt    \n",
       "30    look i almost guarantee there'll be at least s...   \n",
       "...                                                 ...   \n",
       "9972   do it. youtube and chatgpt. will be able to h...   \n",
       "9975  chatgpt is powerful  and difficult to control ...   \n",
       "9978  mina murati es la responsable de tecnologa de ...   \n",
       "9983                                          chatgpt     \n",
       "9987                                           chatgpt    \n",
       "\n",
       "                                           remove_punct  \\\n",
       "7                                [mricchatgpt, vol, ai]   \n",
       "15    [half, this, shit, is, written, by, aids, and,...   \n",
       "23                         [azure, openai, chatgpt, ms]   \n",
       "29                                            [chatgpt]   \n",
       "30    [look, i, almost, guarantee, therell, be, at, ...   \n",
       "...                                                 ...   \n",
       "9972  [do, it, youtube, and, chatgpt, will, be, able...   \n",
       "9975  [chatgpt, is, powerful, and, difficult, to, co...   \n",
       "9978  [mina, murati, es, la, responsable, de, tecnol...   \n",
       "9983                                          [chatgpt]   \n",
       "9987                                          [chatgpt]   \n",
       "\n",
       "                                       remove_stopwords  \\\n",
       "7                                [mricchatgpt, vol, ai]   \n",
       "15    [half, shit, written, aids, interns, anyway, t...   \n",
       "23                         [azure, openai, chatgpt, ms]   \n",
       "29                                            [chatgpt]   \n",
       "30    [look, almost, guarantee, therell, least, chat...   \n",
       "...                                                 ...   \n",
       "9972  [youtube, chatgpt, able, hack, blockchains, mo...   \n",
       "9975  [chatgpt, powerful, difficult, control, micros...   \n",
       "9978  [mina, murati, es, la, responsable, de, tecnol...   \n",
       "9983                                          [chatgpt]   \n",
       "9987                                          [chatgpt]   \n",
       "\n",
       "                                                pos_tag  \\\n",
       "7              [(mricchatgpt, NN), (vol, NN), (ai, NN)]   \n",
       "15    [(half, NN), (shit, VBD), (written, VBN), (aid...   \n",
       "23    [(azure, NN), (openai, MD), (chatgpt, VB), (ms...   \n",
       "29                                      [(chatgpt, NN)]   \n",
       "30    [(look, NN), (almost, RB), (guarantee, NN), (t...   \n",
       "...                                                 ...   \n",
       "9972  [(youtube, NN), (chatgpt, NN), (able, JJ), (ha...   \n",
       "9975  [(chatgpt, NN), (powerful, JJ), (difficult, JJ...   \n",
       "9978  [(mina, NN), (murati, NNS), (es, VBP), (la, FW...   \n",
       "9983                                    [(chatgpt, NN)]   \n",
       "9987                                    [(chatgpt, NN)]   \n",
       "\n",
       "                                        text_lemmatizer  \n",
       "7                                [mricchatgpt, vol, ai]  \n",
       "15    [half, shit, write, aid, intern, anyway, think...  \n",
       "23                          [azure, openai, chatgpt, m]  \n",
       "29                                            [chatgpt]  \n",
       "30    [look, almost, guarantee, therell, least, chat...  \n",
       "...                                                 ...  \n",
       "9972  [youtube, chatgpt, able, hack, blockchains, mo...  \n",
       "9975  [chatgpt, powerful, difficult, control, micros...  \n",
       "9978  [mina, murati, es, la, responsable, de, tecnol...  \n",
       "9983                                          [chatgpt]  \n",
       "9987                                          [chatgpt]  \n",
       "\n",
       "[1243 rows x 7 columns]"
      ]
     },
     "execution_count": 35,
     "metadata": {},
     "output_type": "execute_result"
    }
   ],
   "source": [
    "# upper outliers\n",
    "upper_outliers = df[df['Like Count'] > boundary[1]]\n",
    "upper_outliers"
   ]
  },
  {
   "cell_type": "code",
   "execution_count": 36,
   "metadata": {
    "scrolled": true
   },
   "outputs": [
    {
     "data": {
      "image/png": "[encoded data removed]",
      "text/plain": [
       "<Figure size 432x288 with 1 Axes>"
      ]
     },
     "metadata": {
      "needs_background": "light"
     },
     "output_type": "display_data"
    }
   ],
   "source": [
    "# visualization of outliers\n",
    "import matplotlib.pyplot as plt\n",
    "\n",
    "plt.boxplot(df[\"Like Count\"])\n",
    "plt.show()"
   ]
  },
  {
   "cell_type": "markdown",
   "metadata": {},
   "source": [
    "#### Quantile-based Flooring and Capping"
   ]
  },
  {
   "cell_type": "code",
   "execution_count": 37,
   "metadata": {
    "scrolled": true
   },
   "outputs": [
    {
     "data": {
      "text/plain": [
       "{'whiskers': [<matplotlib.lines.Line2D at 0x1db102595b0>,\n",
       "  <matplotlib.lines.Line2D at 0x1db10259b80>],\n",
       " 'caps': [<matplotlib.lines.Line2D at 0x1db10259e20>,\n",
       "  <matplotlib.lines.Line2D at 0x1db10273610>],\n",
       " 'boxes': [<matplotlib.lines.Line2D at 0x1db101c8460>],\n",
       " 'medians': [<matplotlib.lines.Line2D at 0x1db0d278130>],\n",
       " 'fliers': [<matplotlib.lines.Line2D at 0x1db173aa1f0>],\n",
       " 'means': []}"
      ]
     },
     "execution_count": 37,
     "metadata": {},
     "output_type": "execute_result"
    },
    {
     "data": {
      "image/png": "[encoded data removed]",
      "text/plain": [
       "<Figure size 432x288 with 1 Axes>"
      ]
     },
     "metadata": {
      "needs_background": "light"
     },
     "output_type": "display_data"
    }
   ],
   "source": [
    "floor = df['Like Count'].quantile(0.10)\n",
    "cap = df['Like Count'].quantile(0.90)\n",
    "\n",
    "df['Nw2Like Count'] = np.where(df['Like Count']<floor, floor, df['Like Count'])\n",
    "df['Nw2Like Count'] = np.where(df['Like Count']>cap, cap, df['Like Count'])\n",
    "\n",
    "plt.boxplot(df['Nw2Like Count'])"
   ]
  },
  {
   "cell_type": "markdown",
   "metadata": {},
   "source": [
    "#### Log Transformation"
   ]
  },
  {
   "cell_type": "code",
   "execution_count": 38,
   "metadata": {},
   "outputs": [
    {
     "data": {
      "text/plain": [
       "(array([9.948e+03, 2.600e+01, 1.100e+01, 3.000e+00, 4.000e+00, 2.000e+00,\n",
       "        0.000e+00, 2.000e+00, 2.000e+00, 1.000e+00, 0.000e+00, 0.000e+00,\n",
       "        0.000e+00, 0.000e+00, 1.000e+00, 0.000e+00, 0.000e+00, 0.000e+00,\n",
       "        0.000e+00, 1.000e+00]),\n",
       " array([   0. ,  204.1,  408.2,  612.3,  816.4, 1020.5, 1224.6, 1428.7,\n",
       "        1632.8, 1836.9, 2041. , 2245.1, 2449.2, 2653.3, 2857.4, 3061.5,\n",
       "        3265.6, 3469.7, 3673.8, 3877.9, 4082. ]),\n",
       " <BarContainer object of 20 artists>)"
      ]
     },
     "execution_count": 38,
     "metadata": {},
     "output_type": "execute_result"
    },
    {
     "data": {
      "image/png": "[encoded data removed]",
      "text/plain": [
       "<Figure size 432x288 with 1 Axes>"
      ]
     },
     "metadata": {
      "needs_background": "light"
     },
     "output_type": "display_data"
    }
   ],
   "source": [
    "plt.hist(df['Like Count'], bins=20)"
   ]
  },
  {
   "cell_type": "code",
   "execution_count": 39,
   "metadata": {},
   "outputs": [
    {
     "data": {
      "text/plain": [
       "32.50434160651931"
      ]
     },
     "execution_count": 39,
     "metadata": {},
     "output_type": "execute_result"
    }
   ],
   "source": [
    "df['Like Count'].skew()"
   ]
  },
  {
   "cell_type": "code",
   "execution_count": 40,
   "metadata": {},
   "outputs": [
    {
     "data": {
      "text/plain": [
       "0        0.0\n",
       "1        0.0\n",
       "2        0.0\n",
       "3        0.0\n",
       "4        0.0\n",
       "        ... \n",
       "9996     0.0\n",
       "9997     0.0\n",
       "9998     0.0\n",
       "9999     0.0\n",
       "10000    0.0\n",
       "Name: Log_Like Count, Length: 10001, dtype: float64"
      ]
     },
     "execution_count": 40,
     "metadata": {},
     "output_type": "execute_result"
    }
   ],
   "source": [
    "df['Log_Like Count'] = df['Like Count'].map(lambda i: np.log(i) if i > 0 else 0)\n",
    "df['Log_Like Count']"
   ]
  },
  {
   "cell_type": "code",
   "execution_count": 41,
   "metadata": {},
   "outputs": [
    {
     "data": {
      "text/plain": [
       "2.4569393778272777"
      ]
     },
     "execution_count": 41,
     "metadata": {},
     "output_type": "execute_result"
    }
   ],
   "source": [
    "df['Log_Like Count'].skew()"
   ]
  },
  {
   "cell_type": "code",
   "execution_count": 42,
   "metadata": {},
   "outputs": [
    {
     "data": {
      "text/plain": [
       "(array([6.853e+03, 8.840e+02, 5.090e+02, 5.120e+02, 2.820e+02, 3.030e+02,\n",
       "        1.970e+02, 1.180e+02, 1.060e+02, 8.200e+01, 5.100e+01, 3.200e+01,\n",
       "        2.500e+01, 1.100e+01, 1.800e+01, 5.000e+00, 5.000e+00, 5.000e+00,\n",
       "        1.000e+00, 2.000e+00]),\n",
       " array([0.        , 0.41571712, 0.83143423, 1.24715135, 1.66286847,\n",
       "        2.07858559, 2.4943027 , 2.91001982, 3.32573694, 3.74145405,\n",
       "        4.15717117, 4.57288829, 4.98860541, 5.40432252, 5.82003964,\n",
       "        6.23575676, 6.65147387, 7.06719099, 7.48290811, 7.89862523,\n",
       "        8.31434234]),\n",
       " <BarContainer object of 20 artists>)"
      ]
     },
     "execution_count": 42,
     "metadata": {},
     "output_type": "execute_result"
    },
    {
     "data": {
      "image/png": "[encoded data removed]",
      "text/plain": [
       "<Figure size 432x288 with 1 Axes>"
      ]
     },
     "metadata": {
      "needs_background": "light"
     },
     "output_type": "display_data"
    }
   ],
   "source": [
    "plt.hist(df['Log_Like Count'], bins=20)"
   ]
  },
  {
   "cell_type": "code",
   "execution_count": 43,
   "metadata": {},
   "outputs": [
    {
     "data": {
      "text/plain": [
       "{'whiskers': [<matplotlib.lines.Line2D at 0x1db1c830280>,\n",
       "  <matplotlib.lines.Line2D at 0x1db1c830550>],\n",
       " 'caps': [<matplotlib.lines.Line2D at 0x1db1c830820>,\n",
       "  <matplotlib.lines.Line2D at 0x1db1c830af0>],\n",
       " 'boxes': [<matplotlib.lines.Line2D at 0x1db1c822f40>],\n",
       " 'medians': [<matplotlib.lines.Line2D at 0x1db1c830dc0>],\n",
       " 'fliers': [<matplotlib.lines.Line2D at 0x1db1c83f0d0>],\n",
       " 'means': []}"
      ]
     },
     "execution_count": 43,
     "metadata": {},
     "output_type": "execute_result"
    },
    {
     "data": {
      "image/png": "[encoded data removed]",
      "text/plain": [
       "<Figure size 432x288 with 1 Axes>"
      ]
     },
     "metadata": {
      "needs_background": "light"
     },
     "output_type": "display_data"
    }
   ],
   "source": [
    "plt.boxplot(df['Like Count'])"
   ]
  },
  {
   "cell_type": "code",
   "execution_count": 44,
   "metadata": {
    "scrolled": true
   },
   "outputs": [
    {
     "data": {
      "text/plain": [
       "{'whiskers': [<matplotlib.lines.Line2D at 0x1db1c899460>,\n",
       "  <matplotlib.lines.Line2D at 0x1db1c899730>],\n",
       " 'caps': [<matplotlib.lines.Line2D at 0x1db1c899a00>,\n",
       "  <matplotlib.lines.Line2D at 0x1db1c899cd0>],\n",
       " 'boxes': [<matplotlib.lines.Line2D at 0x1db1c899190>],\n",
       " 'medians': [<matplotlib.lines.Line2D at 0x1db1c899fd0>],\n",
       " 'fliers': [<matplotlib.lines.Line2D at 0x1db1c8a72e0>],\n",
       " 'means': []}"
      ]
     },
     "execution_count": 44,
     "metadata": {},
     "output_type": "execute_result"
    },
    {
     "data": {
      "image/png": "[encoded data removed]",
      "text/plain": [
       "<Figure size 432x288 with 1 Axes>"
      ]
     },
     "metadata": {
      "needs_background": "light"
     },
     "output_type": "display_data"
    }
   ],
   "source": [
    "plt.boxplot(df['Log_Like Count'])"
   ]
  },
  {
   "cell_type": "markdown",
   "metadata": {},
   "source": [
    "#### Trimming"
   ]
  },
  {
   "cell_type": "code",
   "execution_count": 45,
   "metadata": {},
   "outputs": [
    {
     "data": {
      "text/plain": [
       "(1450,\n",
       " Int64Index([   7,    9,   15,   23,   29,   30,   35,   40,   51,   52,\n",
       "             ...\n",
       "             9942, 9950, 9958, 9966, 9971, 9972, 9975, 9978, 9983, 9987],\n",
       "            dtype='int64', length=1450))"
      ]
     },
     "execution_count": 45,
     "metadata": {},
     "output_type": "execute_result"
    }
   ],
   "source": [
    "Q1 = df['Like Count'].quantile(0.25)\n",
    "Q3 = df['Like Count'].quantile(0.75)\n",
    "IQR = Q3 - Q1\n",
    "boundary = [Q1 - (1.5 * IQR), Q3 + (1.5 * IQR)]\n",
    "\n",
    "\n",
    "index = df[(df['Like Count'] >= boundary[1]) | (df['Like Count'] <= boundary[0])].index\n",
    "len(index), index"
   ]
  },
  {
   "cell_type": "code",
   "execution_count": 46,
   "metadata": {},
   "outputs": [],
   "source": [
    "df.drop(index, inplace=True)"
   ]
  },
  {
   "cell_type": "code",
   "execution_count": 47,
   "metadata": {},
   "outputs": [
    {
     "data": {
      "text/html": [
       "<div>\n",
       "<style scoped>\n",
       "    .dataframe tbody tr th:only-of-type {\n",
       "        vertical-align: middle;\n",
       "    }\n",
       "\n",
       "    .dataframe tbody tr th {\n",
       "        vertical-align: top;\n",
       "    }\n",
       "\n",
       "    .dataframe thead th {\n",
       "        text-align: right;\n",
       "    }\n",
       "</style>\n",
       "<table border=\"1\" class=\"dataframe\">\n",
       "  <thead>\n",
       "    <tr style=\"text-align: right;\">\n",
       "      <th></th>\n",
       "      <th>Text</th>\n",
       "      <th>Like Count</th>\n",
       "      <th>processed_tweet</th>\n",
       "      <th>remove_punct</th>\n",
       "      <th>remove_stopwords</th>\n",
       "      <th>pos_tag</th>\n",
       "      <th>text_lemmatizer</th>\n",
       "      <th>Nw2Like Count</th>\n",
       "      <th>Log_Like Count</th>\n",
       "    </tr>\n",
       "  </thead>\n",
       "  <tbody>\n",
       "    <tr>\n",
       "      <th>0</th>\n",
       "      <td>米山議員の行動原理は「強烈な自己顕示欲」ですよ。それをベースに、パターンに応じて周囲に賞賛さ...</td>\n",
       "      <td>0</td>\n",
       "      <td>chatgpt</td>\n",
       "      <td>[chatgpt]</td>\n",
       "      <td>[chatgpt]</td>\n",
       "      <td>[(chatgpt, NN)]</td>\n",
       "      <td>[chatgpt]</td>\n",
       "      <td>0.0</td>\n",
       "      <td>0.0</td>\n",
       "    </tr>\n",
       "    <tr>\n",
       "      <th>1</th>\n",
       "      <td>ChatGPTでSQLを自動生成する「SQL AI アシスタント」、DB管理画面のローコード...</td>\n",
       "      <td>0</td>\n",
       "      <td>chatgptsqlsql ai dbdashcomb | it leaders -</td>\n",
       "      <td>[chatgptsqlsql, ai, dbdashcomb, it, leaders]</td>\n",
       "      <td>[chatgptsqlsql, ai, dbdashcomb, leaders]</td>\n",
       "      <td>[(chatgptsqlsql, NN), (ai, VBP), (dbdashcomb, ...</td>\n",
       "      <td>[chatgptsqlsql, ai, dbdashcomb, leader]</td>\n",
       "      <td>0.0</td>\n",
       "      <td>0.0</td>\n",
       "    </tr>\n",
       "    <tr>\n",
       "      <th>2</th>\n",
       "      <td>@criprights Chatgpt's information load is up t...</td>\n",
       "      <td>0</td>\n",
       "      <td>chatgpt's information load is up to november ...</td>\n",
       "      <td>[chatgpts, information, load, is, up, to, nove...</td>\n",
       "      <td>[chatgpts, information, load, november, think,...</td>\n",
       "      <td>[(chatgpts, NNS), (information, NN), (load, NN...</td>\n",
       "      <td>[chatgpts, information, load, november, think,...</td>\n",
       "      <td>0.0</td>\n",
       "      <td>0.0</td>\n",
       "    </tr>\n",
       "    <tr>\n",
       "      <th>3</th>\n",
       "      <td>Hmm chat GPT is actually very valid</td>\n",
       "      <td>1</td>\n",
       "      <td>hmm chat gpt is actually very valid</td>\n",
       "      <td>[hmm, chat, gpt, is, actually, very, valid]</td>\n",
       "      <td>[hmm, chat, gpt, actually, valid]</td>\n",
       "      <td>[(hmm, NN), (chat, WP), (gpt, VBZ), (actually,...</td>\n",
       "      <td>[hmm, chat, gpt, actually, valid]</td>\n",
       "      <td>1.0</td>\n",
       "      <td>0.0</td>\n",
       "    </tr>\n",
       "    <tr>\n",
       "      <th>4</th>\n",
       "      <td>@BllrsMer @leonardovalente @LeoPiccioli Claro ...</td>\n",
       "      <td>0</td>\n",
       "      <td>claro es que a google se le escribe como oran...</td>\n",
       "      <td>[claro, es, que, a, google, se, le, escribe, c...</td>\n",
       "      <td>[claro, es, que, google, se, le, escribe, como...</td>\n",
       "      <td>[(claro, NN), (es, NN), (que, NN), (google, NN...</td>\n",
       "      <td>[claro, e, que, google, se, le, escribe, como,...</td>\n",
       "      <td>0.0</td>\n",
       "      <td>0.0</td>\n",
       "    </tr>\n",
       "    <tr>\n",
       "      <th>...</th>\n",
       "      <td>...</td>\n",
       "      <td>...</td>\n",
       "      <td>...</td>\n",
       "      <td>...</td>\n",
       "      <td>...</td>\n",
       "      <td>...</td>\n",
       "      <td>...</td>\n",
       "      <td>...</td>\n",
       "      <td>...</td>\n",
       "    </tr>\n",
       "    <tr>\n",
       "      <th>9996</th>\n",
       "      <td>ChatGPT: Disruption or fantasy? https://t.co/c...</td>\n",
       "      <td>0</td>\n",
       "      <td>chatgpt: disruption or fantasy?</td>\n",
       "      <td>[chatgpt, disruption, or, fantasy]</td>\n",
       "      <td>[chatgpt, disruption, fantasy]</td>\n",
       "      <td>[(chatgpt, NN), (disruption, NN), (fantasy, NN)]</td>\n",
       "      <td>[chatgpt, disruption, fantasy]</td>\n",
       "      <td>0.0</td>\n",
       "      <td>0.0</td>\n",
       "    </tr>\n",
       "    <tr>\n",
       "      <th>9997</th>\n",
       "      <td>@YANAI_Kyosuke chatGPT ってかなりのうそつきデスよね\\r\\nウソででき...</td>\n",
       "      <td>1</td>\n",
       "      <td>chatgpt  ()</td>\n",
       "      <td>[chatgpt]</td>\n",
       "      <td>[chatgpt]</td>\n",
       "      <td>[(chatgpt, NN)]</td>\n",
       "      <td>[chatgpt]</td>\n",
       "      <td>1.0</td>\n",
       "      <td>0.0</td>\n",
       "    </tr>\n",
       "    <tr>\n",
       "      <th>9998</th>\n",
       "      <td>流行りのchatGPT凄いよ！\\r\\nと旦那に言うと。\\r\\n\\r\\n「あれ俺が答えよるんよ...</td>\n",
       "      <td>0</td>\n",
       "      <td>chatgpt    ai chatgpt</td>\n",
       "      <td>[chatgpt, ai, chatgpt]</td>\n",
       "      <td>[chatgpt, ai, chatgpt]</td>\n",
       "      <td>[(chatgpt, NN), (ai, NN), (chatgpt, NN)]</td>\n",
       "      <td>[chatgpt, ai, chatgpt]</td>\n",
       "      <td>0.0</td>\n",
       "      <td>0.0</td>\n",
       "    </tr>\n",
       "    <tr>\n",
       "      <th>9999</th>\n",
       "      <td>Noam Chomsky, I Roberts, J Watumull: AI Unrave...</td>\n",
       "      <td>0</td>\n",
       "      <td>noam chomsky, i roberts, j watumull: ai unrave...</td>\n",
       "      <td>[noam, chomsky, i, roberts, j, watumull, ai, u...</td>\n",
       "      <td>[noam, chomsky, roberts, j, watumull, ai, unra...</td>\n",
       "      <td>[(noam, RB), (chomsky, JJ), (roberts, NNS), (j...</td>\n",
       "      <td>[noam, chomsky, robert, j, watumull, ai, unrav...</td>\n",
       "      <td>0.0</td>\n",
       "      <td>0.0</td>\n",
       "    </tr>\n",
       "    <tr>\n",
       "      <th>10000</th>\n",
       "      <td>@ReplyGPT @nonoinvestidor Acho que o ChatGPT t...</td>\n",
       "      <td>1</td>\n",
       "      <td>acho que o chatgpt ta falando de vc</td>\n",
       "      <td>[acho, que, o, chatgpt, ta, falando, de, vc]</td>\n",
       "      <td>[acho, que, chatgpt, ta, falando, de, vc]</td>\n",
       "      <td>[(acho, JJ), (que, NN), (chatgpt, NN), (ta, JJ...</td>\n",
       "      <td>[acho, que, chatgpt, ta, falando, de, vc]</td>\n",
       "      <td>1.0</td>\n",
       "      <td>0.0</td>\n",
       "    </tr>\n",
       "  </tbody>\n",
       "</table>\n",
       "<p>8551 rows × 9 columns</p>\n",
       "</div>"
      ],
      "text/plain": [
       "                                                    Text  Like Count  \\\n",
       "0      米山議員の行動原理は「強烈な自己顕示欲」ですよ。それをベースに、パターンに応じて周囲に賞賛さ...           0   \n",
       "1      ChatGPTでSQLを自動生成する「SQL AI アシスタント」、DB管理画面のローコード...           0   \n",
       "2      @criprights Chatgpt's information load is up t...           0   \n",
       "3                    Hmm chat GPT is actually very valid           1   \n",
       "4      @BllrsMer @leonardovalente @LeoPiccioli Claro ...           0   \n",
       "...                                                  ...         ...   \n",
       "9996   ChatGPT: Disruption or fantasy? https://t.co/c...           0   \n",
       "9997   @YANAI_Kyosuke chatGPT ってかなりのうそつきデスよね\\r\\nウソででき...           1   \n",
       "9998   流行りのchatGPT凄いよ！\\r\\nと旦那に言うと。\\r\\n\\r\\n「あれ俺が答えよるんよ...           0   \n",
       "9999   Noam Chomsky, I Roberts, J Watumull: AI Unrave...           0   \n",
       "10000  @ReplyGPT @nonoinvestidor Acho que o ChatGPT t...           1   \n",
       "\n",
       "                                         processed_tweet  \\\n",
       "0                                                chatgpt   \n",
       "1            chatgptsqlsql ai dbdashcomb | it leaders -    \n",
       "2       chatgpt's information load is up to november ...   \n",
       "3                    hmm chat gpt is actually very valid   \n",
       "4       claro es que a google se le escribe como oran...   \n",
       "...                                                  ...   \n",
       "9996                    chatgpt: disruption or fantasy?    \n",
       "9997                                         chatgpt  ()   \n",
       "9998                               chatgpt    ai chatgpt   \n",
       "9999   noam chomsky, i roberts, j watumull: ai unrave...   \n",
       "10000               acho que o chatgpt ta falando de vc    \n",
       "\n",
       "                                            remove_punct  \\\n",
       "0                                              [chatgpt]   \n",
       "1           [chatgptsqlsql, ai, dbdashcomb, it, leaders]   \n",
       "2      [chatgpts, information, load, is, up, to, nove...   \n",
       "3            [hmm, chat, gpt, is, actually, very, valid]   \n",
       "4      [claro, es, que, a, google, se, le, escribe, c...   \n",
       "...                                                  ...   \n",
       "9996                  [chatgpt, disruption, or, fantasy]   \n",
       "9997                                           [chatgpt]   \n",
       "9998                              [chatgpt, ai, chatgpt]   \n",
       "9999   [noam, chomsky, i, roberts, j, watumull, ai, u...   \n",
       "10000       [acho, que, o, chatgpt, ta, falando, de, vc]   \n",
       "\n",
       "                                        remove_stopwords  \\\n",
       "0                                              [chatgpt]   \n",
       "1               [chatgptsqlsql, ai, dbdashcomb, leaders]   \n",
       "2      [chatgpts, information, load, november, think,...   \n",
       "3                      [hmm, chat, gpt, actually, valid]   \n",
       "4      [claro, es, que, google, se, le, escribe, como...   \n",
       "...                                                  ...   \n",
       "9996                      [chatgpt, disruption, fantasy]   \n",
       "9997                                           [chatgpt]   \n",
       "9998                              [chatgpt, ai, chatgpt]   \n",
       "9999   [noam, chomsky, roberts, j, watumull, ai, unra...   \n",
       "10000          [acho, que, chatgpt, ta, falando, de, vc]   \n",
       "\n",
       "                                                 pos_tag  \\\n",
       "0                                        [(chatgpt, NN)]   \n",
       "1      [(chatgptsqlsql, NN), (ai, VBP), (dbdashcomb, ...   \n",
       "2      [(chatgpts, NNS), (information, NN), (load, NN...   \n",
       "3      [(hmm, NN), (chat, WP), (gpt, VBZ), (actually,...   \n",
       "4      [(claro, NN), (es, NN), (que, NN), (google, NN...   \n",
       "...                                                  ...   \n",
       "9996    [(chatgpt, NN), (disruption, NN), (fantasy, NN)]   \n",
       "9997                                     [(chatgpt, NN)]   \n",
       "9998            [(chatgpt, NN), (ai, NN), (chatgpt, NN)]   \n",
       "9999   [(noam, RB), (chomsky, JJ), (roberts, NNS), (j...   \n",
       "10000  [(acho, JJ), (que, NN), (chatgpt, NN), (ta, JJ...   \n",
       "\n",
       "                                         text_lemmatizer  Nw2Like Count  \\\n",
       "0                                              [chatgpt]            0.0   \n",
       "1                [chatgptsqlsql, ai, dbdashcomb, leader]            0.0   \n",
       "2      [chatgpts, information, load, november, think,...            0.0   \n",
       "3                      [hmm, chat, gpt, actually, valid]            1.0   \n",
       "4      [claro, e, que, google, se, le, escribe, como,...            0.0   \n",
       "...                                                  ...            ...   \n",
       "9996                      [chatgpt, disruption, fantasy]            0.0   \n",
       "9997                                           [chatgpt]            1.0   \n",
       "9998                              [chatgpt, ai, chatgpt]            0.0   \n",
       "9999   [noam, chomsky, robert, j, watumull, ai, unrav...            0.0   \n",
       "10000          [acho, que, chatgpt, ta, falando, de, vc]            1.0   \n",
       "\n",
       "       Log_Like Count  \n",
       "0                 0.0  \n",
       "1                 0.0  \n",
       "2                 0.0  \n",
       "3                 0.0  \n",
       "4                 0.0  \n",
       "...               ...  \n",
       "9996              0.0  \n",
       "9997              0.0  \n",
       "9998              0.0  \n",
       "9999              0.0  \n",
       "10000             0.0  \n",
       "\n",
       "[8551 rows x 9 columns]"
      ]
     },
     "execution_count": 47,
     "metadata": {},
     "output_type": "execute_result"
    }
   ],
   "source": [
    "df"
   ]
  },
  {
   "cell_type": "code",
   "execution_count": 48,
   "metadata": {},
   "outputs": [
    {
     "data": {
      "image/png": "[encoded data removed]",
      "text/plain": [
       "<Figure size 432x288 with 1 Axes>"
      ]
     },
     "metadata": {
      "needs_background": "light"
     },
     "output_type": "display_data"
    }
   ],
   "source": [
    "# visualization of outliers\n",
    "import matplotlib.pyplot as plt\n",
    "\n",
    "plt.boxplot(df[\"Like Count\"])\n",
    "plt.show()"
   ]
  },
  {
   "cell_type": "markdown",
   "metadata": {},
   "source": [
    "#### Visualization of textual data"
   ]
  },
  {
   "cell_type": "code",
   "execution_count": 49,
   "metadata": {},
   "outputs": [
    {
     "data": {
      "text/plain": [
       "Index(['Text', 'Like Count', 'processed_tweet', 'remove_punct',\n",
       "       'remove_stopwords', 'pos_tag', 'text_lemmatizer', 'Nw2Like Count',\n",
       "       'Log_Like Count'],\n",
       "      dtype='object')"
      ]
     },
     "execution_count": 49,
     "metadata": {},
     "output_type": "execute_result"
    }
   ],
   "source": [
    "df.columns"
   ]
  },
  {
   "cell_type": "code",
   "execution_count": 50,
   "metadata": {},
   "outputs": [],
   "source": [
    "#dropping the outlier calculation columns\n",
    "df.drop(['Nw2Like Count','Log_Like Count', 'Like Count'], axis=1, inplace=True)"
   ]
  },
  {
   "cell_type": "code",
   "execution_count": 51,
   "metadata": {},
   "outputs": [
    {
     "data": {
      "text/html": [
       "<div>\n",
       "<style scoped>\n",
       "    .dataframe tbody tr th:only-of-type {\n",
       "        vertical-align: middle;\n",
       "    }\n",
       "\n",
       "    .dataframe tbody tr th {\n",
       "        vertical-align: top;\n",
       "    }\n",
       "\n",
       "    .dataframe thead th {\n",
       "        text-align: right;\n",
       "    }\n",
       "</style>\n",
       "<table border=\"1\" class=\"dataframe\">\n",
       "  <thead>\n",
       "    <tr style=\"text-align: right;\">\n",
       "      <th></th>\n",
       "      <th>Text</th>\n",
       "      <th>processed_tweet</th>\n",
       "      <th>remove_punct</th>\n",
       "      <th>remove_stopwords</th>\n",
       "      <th>pos_tag</th>\n",
       "      <th>text_lemmatizer</th>\n",
       "    </tr>\n",
       "  </thead>\n",
       "  <tbody>\n",
       "    <tr>\n",
       "      <th>0</th>\n",
       "      <td>米山議員の行動原理は「強烈な自己顕示欲」ですよ。それをベースに、パターンに応じて周囲に賞賛さ...</td>\n",
       "      <td>chatgpt</td>\n",
       "      <td>[chatgpt]</td>\n",
       "      <td>[chatgpt]</td>\n",
       "      <td>[(chatgpt, NN)]</td>\n",
       "      <td>[chatgpt]</td>\n",
       "    </tr>\n",
       "    <tr>\n",
       "      <th>1</th>\n",
       "      <td>ChatGPTでSQLを自動生成する「SQL AI アシスタント」、DB管理画面のローコード...</td>\n",
       "      <td>chatgptsqlsql ai dbdashcomb | it leaders -</td>\n",
       "      <td>[chatgptsqlsql, ai, dbdashcomb, it, leaders]</td>\n",
       "      <td>[chatgptsqlsql, ai, dbdashcomb, leaders]</td>\n",
       "      <td>[(chatgptsqlsql, NN), (ai, VBP), (dbdashcomb, ...</td>\n",
       "      <td>[chatgptsqlsql, ai, dbdashcomb, leader]</td>\n",
       "    </tr>\n",
       "    <tr>\n",
       "      <th>2</th>\n",
       "      <td>@criprights Chatgpt's information load is up t...</td>\n",
       "      <td>chatgpt's information load is up to november ...</td>\n",
       "      <td>[chatgpts, information, load, is, up, to, nove...</td>\n",
       "      <td>[chatgpts, information, load, november, think,...</td>\n",
       "      <td>[(chatgpts, NNS), (information, NN), (load, NN...</td>\n",
       "      <td>[chatgpts, information, load, november, think,...</td>\n",
       "    </tr>\n",
       "    <tr>\n",
       "      <th>3</th>\n",
       "      <td>Hmm chat GPT is actually very valid</td>\n",
       "      <td>hmm chat gpt is actually very valid</td>\n",
       "      <td>[hmm, chat, gpt, is, actually, very, valid]</td>\n",
       "      <td>[hmm, chat, gpt, actually, valid]</td>\n",
       "      <td>[(hmm, NN), (chat, WP), (gpt, VBZ), (actually,...</td>\n",
       "      <td>[hmm, chat, gpt, actually, valid]</td>\n",
       "    </tr>\n",
       "    <tr>\n",
       "      <th>4</th>\n",
       "      <td>@BllrsMer @leonardovalente @LeoPiccioli Claro ...</td>\n",
       "      <td>claro es que a google se le escribe como oran...</td>\n",
       "      <td>[claro, es, que, a, google, se, le, escribe, c...</td>\n",
       "      <td>[claro, es, que, google, se, le, escribe, como...</td>\n",
       "      <td>[(claro, NN), (es, NN), (que, NN), (google, NN...</td>\n",
       "      <td>[claro, e, que, google, se, le, escribe, como,...</td>\n",
       "    </tr>\n",
       "  </tbody>\n",
       "</table>\n",
       "</div>"
      ],
      "text/plain": [
       "                                                Text  \\\n",
       "0  米山議員の行動原理は「強烈な自己顕示欲」ですよ。それをベースに、パターンに応じて周囲に賞賛さ...   \n",
       "1  ChatGPTでSQLを自動生成する「SQL AI アシスタント」、DB管理画面のローコード...   \n",
       "2  @criprights Chatgpt's information load is up t...   \n",
       "3                Hmm chat GPT is actually very valid   \n",
       "4  @BllrsMer @leonardovalente @LeoPiccioli Claro ...   \n",
       "\n",
       "                                     processed_tweet  \\\n",
       "0                                            chatgpt   \n",
       "1        chatgptsqlsql ai dbdashcomb | it leaders -    \n",
       "2   chatgpt's information load is up to november ...   \n",
       "3                hmm chat gpt is actually very valid   \n",
       "4   claro es que a google se le escribe como oran...   \n",
       "\n",
       "                                        remove_punct  \\\n",
       "0                                          [chatgpt]   \n",
       "1       [chatgptsqlsql, ai, dbdashcomb, it, leaders]   \n",
       "2  [chatgpts, information, load, is, up, to, nove...   \n",
       "3        [hmm, chat, gpt, is, actually, very, valid]   \n",
       "4  [claro, es, que, a, google, se, le, escribe, c...   \n",
       "\n",
       "                                    remove_stopwords  \\\n",
       "0                                          [chatgpt]   \n",
       "1           [chatgptsqlsql, ai, dbdashcomb, leaders]   \n",
       "2  [chatgpts, information, load, november, think,...   \n",
       "3                  [hmm, chat, gpt, actually, valid]   \n",
       "4  [claro, es, que, google, se, le, escribe, como...   \n",
       "\n",
       "                                             pos_tag  \\\n",
       "0                                    [(chatgpt, NN)]   \n",
       "1  [(chatgptsqlsql, NN), (ai, VBP), (dbdashcomb, ...   \n",
       "2  [(chatgpts, NNS), (information, NN), (load, NN...   \n",
       "3  [(hmm, NN), (chat, WP), (gpt, VBZ), (actually,...   \n",
       "4  [(claro, NN), (es, NN), (que, NN), (google, NN...   \n",
       "\n",
       "                                     text_lemmatizer  \n",
       "0                                          [chatgpt]  \n",
       "1            [chatgptsqlsql, ai, dbdashcomb, leader]  \n",
       "2  [chatgpts, information, load, november, think,...  \n",
       "3                  [hmm, chat, gpt, actually, valid]  \n",
       "4  [claro, e, que, google, se, le, escribe, como,...  "
      ]
     },
     "execution_count": 51,
     "metadata": {},
     "output_type": "execute_result"
    }
   ],
   "source": [
    "df.head(5)"
   ]
  },
  {
   "cell_type": "code",
   "execution_count": 52,
   "metadata": {},
   "outputs": [],
   "source": [
    "def convert_list_to_str(text_list: list) -> str:\n",
    "    \"\"\"\n",
    "        Convert a list of strings to a string.\n",
    "\n",
    "        ### Parameters\n",
    "        text_list: list\n",
    "            A list of strings\n",
    "\n",
    "        ### Returns\n",
    "        str:\n",
    "            A text of string\n",
    "    \"\"\"\n",
    "    str_text = ''\n",
    "    for i in text_list:\n",
    "        str_text += i +' '\n",
    "    return str_text"
   ]
  },
  {
   "cell_type": "code",
   "execution_count": 53,
   "metadata": {},
   "outputs": [],
   "source": [
    "all_text = \" \".join(df['text_lemmatizer'].apply(convert_list_to_str))"
   ]
  },
  {
   "cell_type": "code",
   "execution_count": 62,
   "metadata": {},
   "outputs": [],
   "source": [
    "# Generating wordCloud\n",
    "word_cloud = WordCloud(\n",
    "    width=3000,\n",
    "    height=3000,\n",
    "    stopwords=STOPWORDS,\n",
    "    mode=\"RGBA\",\n",
    "    background_color='white',\n",
    ").generate(all_text)"
   ]
  },
  {
   "cell_type": "code",
   "execution_count": 63,
   "metadata": {},
   "outputs": [
    {
     "data": {
      "image/png": "[encoded data removed]",
      "text/plain": [
       "<Figure size 432x288 with 1 Axes>"
      ]
     },
     "metadata": {
      "needs_background": "light"
     },
     "output_type": "display_data"
    }
   ],
   "source": [
    "plt.imshow(word_cloud)\n",
    "plt.axis('off')\n",
    "plt.show()"
   ]
  },
  {
   "cell_type": "code",
   "execution_count": 64,
   "metadata": {},
   "outputs": [],
   "source": [
    "# reducing the dataset for smooth processing\n",
    "df = df.sample(5000)"
   ]
  },
  {
   "cell_type": "code",
   "execution_count": 65,
   "metadata": {},
   "outputs": [],
   "source": [
    "vectorizer = TfidfVectorizer(stop_words='english', ngram_range=(1, 3))"
   ]
  },
  {
   "cell_type": "code",
   "execution_count": 66,
   "metadata": {},
   "outputs": [],
   "source": [
    "X = vectorizer.fit_transform(df['text_lemmatizer'].map(lambda x: ' '.join(x)).tolist())"
   ]
  },
  {
   "cell_type": "code",
   "execution_count": 67,
   "metadata": {},
   "outputs": [
    {
     "data": {
      "text/plain": [
       "<5000x78918 sparse matrix of type '<class 'numpy.float64'>'\n",
       "\twith 119560 stored elements in Compressed Sparse Row format>"
      ]
     },
     "execution_count": 67,
     "metadata": {},
     "output_type": "execute_result"
    }
   ],
   "source": [
    "X"
   ]
  },
  {
   "cell_type": "code",
   "execution_count": 68,
   "metadata": {},
   "outputs": [
    {
     "data": {
      "text/plain": [
       "(5000, 78918)"
      ]
     },
     "execution_count": 68,
     "metadata": {},
     "output_type": "execute_result"
    }
   ],
   "source": [
    "X.shape"
   ]
  },
  {
   "cell_type": "code",
   "execution_count": 69,
   "metadata": {},
   "outputs": [],
   "source": [
    "df_tfidf = pd.DataFrame(X.toarray(), columns=vectorizer.get_feature_names_out())"
   ]
  },
  {
   "cell_type": "markdown",
   "metadata": {},
   "source": [
    "#### Dimensionality Reduction -> Principal Component Analysis"
   ]
  },
  {
   "cell_type": "code",
   "execution_count": 70,
   "metadata": {},
   "outputs": [
    {
     "name": "stdout",
     "output_type": "stream",
     "text": [
      "Original data shape:  (5000, 78918)\n",
      "Transformed data shape:  (5000, 50)\n"
     ]
    }
   ],
   "source": [
    "from sklearn.decomposition import PCA\n",
    "import numpy as np\n",
    "\n",
    "# create a PCA object and specify the number of components to keep\n",
    "pca = PCA(n_components=50)\n",
    "\n",
    "# fit the PCA model to the data and transform it\n",
    "X_pca = pca.fit_transform(df_tfidf)\n",
    "\n",
    "# print the original data shape and the PCA transformed data shape\n",
    "print(\"Original data shape: \", df_tfidf.shape)\n",
    "print(\"Transformed data shape: \", X_pca.shape)\n"
   ]
  },
  {
   "cell_type": "markdown",
   "metadata": {},
   "source": [
    "#### KMeans Clustering"
   ]
  },
  {
   "cell_type": "code",
   "execution_count": 71,
   "metadata": {},
   "outputs": [],
   "source": [
    "from sklearn.cluster import KMeans\n",
    "from scipy.spatial.distance import cdist"
   ]
  },
  {
   "cell_type": "code",
   "execution_count": 72,
   "metadata": {},
   "outputs": [],
   "source": [
    "# Building the clustering model and calculating the values of the Distortion and Inertia\n",
    "distortions = []\n",
    "inertias = []\n",
    "clusters = range(1, 10)\n",
    "# KMeans algorithm for cluster of 1 to 10\n",
    "for k in clusters:\n",
    "    # Building and fitting the model\n",
    "    kmeanModel = KMeans(n_clusters=k)\n",
    "    kmeanModel.fit(X_pca)  \n",
    "    distortions.append(sum(np.min(cdist(X_pca, kmeanModel.cluster_centers_,'euclidean'), axis=1)) / X_pca.shape[0])\n",
    "    inertias.append(kmeanModel.inertia_)"
   ]
  },
  {
   "cell_type": "code",
   "execution_count": 73,
   "metadata": {},
   "outputs": [
    {
     "data": {
      "image/png": "[encoded data removed]",
      "text/plain": [
       "<Figure size 432x288 with 1 Axes>"
      ]
     },
     "metadata": {
      "needs_background": "light"
     },
     "output_type": "display_data"
    }
   ],
   "source": [
    "# Tabulating and Visualizing the results using the different values of Distortion\n",
    "plt.plot(clusters, distortions, 'bx-')\n",
    "plt.xlabel('Values of K')\n",
    "plt.ylabel('Distortion')\n",
    "plt.title('The Elbow Method using Distortion')\n",
    "plt.show()"
   ]
  },
  {
   "cell_type": "code",
   "execution_count": 74,
   "metadata": {},
   "outputs": [
    {
     "data": {
      "image/png": "[encoded data removed]",
      "text/plain": [
       "<Figure size 432x288 with 1 Axes>"
      ]
     },
     "metadata": {
      "needs_background": "light"
     },
     "output_type": "display_data"
    }
   ],
   "source": [
    "# Tabulating and Visualizing the results using the different values of inertias\n",
    "plt.plot(clusters, inertias, 'bx-')\n",
    "plt.xlabel('Values of K')\n",
    "plt.ylabel('Inertia')\n",
    "plt.title('The Elbow Method using Inertia')\n",
    "plt.show()"
   ]
  },
  {
   "cell_type": "markdown",
   "metadata": {},
   "source": [
    "To determine the optimal number of clusters, we have to select the value of k at the “elbow” ie the point after which the distortion/inertia start decreasing in a linear fashion. Thus for the given data, we conclude that the optimal number of clusters for the data is 2."
   ]
  },
  {
   "cell_type": "markdown",
   "metadata": {},
   "source": [
    "#### Pandas Profiling of final dataset"
   ]
  },
  {
   "cell_type": "code",
   "execution_count": 75,
   "metadata": {},
   "outputs": [],
   "source": [
    "import pandas_profiling as pp"
   ]
  },
  {
   "cell_type": "code",
   "execution_count": 76,
   "metadata": {},
   "outputs": [],
   "source": [
    "profile = pp.ProfileReport(pd.DataFrame(X_pca), minimal=True)"
   ]
  },
  {
   "cell_type": "code",
   "execution_count": 77,
   "metadata": {},
   "outputs": [
    {
     "data": {
      "application/vnd.jupyter.widget-view+json": {
       "model_id": "6cf0e608cb8f4f8f952bf9f63e860c80",
       "version_major": 2,
       "version_minor": 0
      },
      "text/plain": [
       "Summarize dataset:   0%|          | 0/5 [00:00<?, ?it/s]"
      ]
     },
     "metadata": {},
     "output_type": "display_data"
    },
    {
     "data": {
      "application/vnd.jupyter.widget-view+json": {
       "model_id": "ea0dcff053154e358676e45d5c7d98ce",
       "version_major": 2,
       "version_minor": 0
      },
      "text/plain": [
       "Generate report structure:   0%|          | 0/1 [00:00<?, ?it/s]"
      ]
     },
     "metadata": {},
     "output_type": "display_data"
    },
    {
     "data": {
      "application/vnd.jupyter.widget-view+json": {
       "model_id": "ec8421d79fca491db550ace13fe437de",
       "version_major": 2,
       "version_minor": 0
      },
      "text/plain": [
       "Render HTML:   0%|          | 0/1 [00:00<?, ?it/s]"
      ]
     },
     "metadata": {},
     "output_type": "display_data"
    },
    {
     "name": "stderr",
     "output_type": "stream",
     "text": [
      "C:\\Users\\DELL\\AppData\\Roaming\\Python\\Python39\\site-packages\\pandas_profiling\\profile_report.py:314: UserWarning: Extension  not supported. For now we assume .html was intended. To remove this warning, please use .html or .json.\n",
      "  warnings.warn(\n"
     ]
    },
    {
     "data": {
      "application/vnd.jupyter.widget-view+json": {
       "model_id": "1de49358d94a430281db5963fec60b2f",
       "version_major": 2,
       "version_minor": 0
      },
      "text/plain": [
       "Export report to file:   0%|          | 0/1 [00:00<?, ?it/s]"
      ]
     },
     "metadata": {},
     "output_type": "display_data"
    }
   ],
   "source": [
    "profile.to_file('chatgpt_tweets_data_profile')"
   ]
  }
 ],
 "metadata": {
  "kernelspec": {
   "display_name": "Python 3 (ipykernel)",
   "language": "python",
   "name": "python3"
  },
  "language_info": {
   "codemirror_mode": {
    "name": "ipython",
    "version": 3
   },
   "file_extension": ".py",
   "mimetype": "text/x-python",
   "name": "python",
   "nbconvert_exporter": "python",
   "pygments_lexer": "ipython3",
   "version": "3.9.12"
  },
  "vscode": {
   "interpreter": {
    "hash": "47d7a3528df19f6d7d5b443030394cb1b3b5540a28bb20dc453d994d1e3e4878"
   }
  }
 },
 "nbformat": 4,
 "nbformat_minor": 2
}
